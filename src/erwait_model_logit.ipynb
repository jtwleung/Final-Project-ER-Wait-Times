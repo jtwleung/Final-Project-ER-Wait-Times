{
 "cells": [
  {
   "cell_type": "markdown",
   "metadata": {},
   "source": [
    "# Building simple LogisticRegression models\n",
    "\n",
    "This notebook:\n",
    "* builds several simple LogisticRegression models to experiment with performance in response to different formats of input data\n",
    "* performs a GridSearchCV to obtain the best hyperparameters for a LogisticRegression model"
   ]
  },
  {
   "cell_type": "code",
   "execution_count": 1,
   "metadata": {},
   "outputs": [],
   "source": [
    "from modules.utility import Utility\n",
    "from IPython.display import display\n",
    "import pandas as pd\n",
    "import numpy as np\n",
    "\n",
    "from sklearn.linear_model import LogisticRegression\n",
    "from sklearn.model_selection import train_test_split\n",
    "from sklearn.model_selection import GridSearchCV\n",
    "from sklearn.metrics import roc_curve\n",
    "\n",
    "from imblearn.over_sampling import SMOTE\n",
    "from imblearn.under_sampling import RandomUnderSampler\n",
    "from imblearn.pipeline import Pipeline as IMBPipeline\n",
    "\n",
    "import pickle"
   ]
  },
  {
   "cell_type": "code",
   "execution_count": 2,
   "metadata": {},
   "outputs": [],
   "source": [
    "## Uncomment code as required to force reload utility.py\n",
    "## Was only required during development of this notebook\n",
    "\n",
    "# from importlib import reload\n",
    "# import modules.utility\n",
    "# reload(modules.utility)\n",
    "# from modules.utility import Utility"
   ]
  },
  {
   "cell_type": "markdown",
   "metadata": {},
   "source": [
    "# Setup"
   ]
  },
  {
   "cell_type": "markdown",
   "metadata": {},
   "source": [
    "Remove display limits for column and row lengths, for easier viewing of dataframes"
   ]
  },
  {
   "cell_type": "code",
   "execution_count": 3,
   "metadata": {},
   "outputs": [],
   "source": [
    "# Set no limits for number of columns and rows to display\n",
    "# Utility.reset_display_max_cols_rows() to reset\n",
    "Utility.setup_display_max_cols_rows()"
   ]
  },
  {
   "cell_type": "markdown",
   "metadata": {},
   "source": [
    "Load the cleaned data"
   ]
  },
  {
   "cell_type": "code",
   "execution_count": 4,
   "metadata": {},
   "outputs": [
    {
     "data": {
      "text/html": [
       "<div>\n",
       "<style scoped>\n",
       "    .dataframe tbody tr th:only-of-type {\n",
       "        vertical-align: middle;\n",
       "    }\n",
       "\n",
       "    .dataframe tbody tr th {\n",
       "        vertical-align: top;\n",
       "    }\n",
       "\n",
       "    .dataframe thead th {\n",
       "        text-align: right;\n",
       "    }\n",
       "</style>\n",
       "<table border=\"1\" class=\"dataframe\">\n",
       "  <thead>\n",
       "    <tr style=\"text-align: right;\">\n",
       "      <th></th>\n",
       "      <th>datetime</th>\n",
       "      <th>hospital</th>\n",
       "      <th>waittime</th>\n",
       "      <th>year</th>\n",
       "      <th>dayofweek</th>\n",
       "      <th>numdayofweek</th>\n",
       "      <th>weekofyear</th>\n",
       "      <th>hour</th>\n",
       "      <th>dayperiod</th>\n",
       "      <th>id</th>\n",
       "      <th>services</th>\n",
       "      <th>city</th>\n",
       "      <th>cityarea</th>\n",
       "      <th>citypop</th>\n",
       "      <th>citytype</th>\n",
       "      <th>hosplat</th>\n",
       "      <th>hosplong</th>\n",
       "    </tr>\n",
       "  </thead>\n",
       "  <tbody>\n",
       "    <tr>\n",
       "      <th>0</th>\n",
       "      <td>2022-09-24 18:22:00</td>\n",
       "      <td>Alberta Children's Hospital</td>\n",
       "      <td>201.0</td>\n",
       "      <td>2022</td>\n",
       "      <td>Saturday</td>\n",
       "      <td>5</td>\n",
       "      <td>38</td>\n",
       "      <td>18</td>\n",
       "      <td>evening</td>\n",
       "      <td>ach</td>\n",
       "      <td>emergency</td>\n",
       "      <td>Calgary</td>\n",
       "      <td>826</td>\n",
       "      <td>1306784</td>\n",
       "      <td>urban</td>\n",
       "      <td>51.074759</td>\n",
       "      <td>-114.146833</td>\n",
       "    </tr>\n",
       "    <tr>\n",
       "      <th>1</th>\n",
       "      <td>2022-09-24 18:22:00</td>\n",
       "      <td>Chinook Regional Hospital</td>\n",
       "      <td>69.0</td>\n",
       "      <td>2022</td>\n",
       "      <td>Saturday</td>\n",
       "      <td>5</td>\n",
       "      <td>38</td>\n",
       "      <td>18</td>\n",
       "      <td>evening</td>\n",
       "      <td>crh</td>\n",
       "      <td>emergency</td>\n",
       "      <td>Lethbridge</td>\n",
       "      <td>122</td>\n",
       "      <td>98406</td>\n",
       "      <td>peri</td>\n",
       "      <td>49.685221</td>\n",
       "      <td>-112.816209</td>\n",
       "    </tr>\n",
       "    <tr>\n",
       "      <th>2</th>\n",
       "      <td>2022-09-24 18:22:00</td>\n",
       "      <td>Devon General Hospital</td>\n",
       "      <td>132.0</td>\n",
       "      <td>2022</td>\n",
       "      <td>Saturday</td>\n",
       "      <td>5</td>\n",
       "      <td>38</td>\n",
       "      <td>18</td>\n",
       "      <td>evening</td>\n",
       "      <td>dgh</td>\n",
       "      <td>emergency</td>\n",
       "      <td>Devon</td>\n",
       "      <td>14</td>\n",
       "      <td>6545</td>\n",
       "      <td>rural</td>\n",
       "      <td>53.352265</td>\n",
       "      <td>-113.728288</td>\n",
       "    </tr>\n",
       "    <tr>\n",
       "      <th>3</th>\n",
       "      <td>2022-09-24 18:22:00</td>\n",
       "      <td>Foothills Medical Centre</td>\n",
       "      <td>188.0</td>\n",
       "      <td>2022</td>\n",
       "      <td>Saturday</td>\n",
       "      <td>5</td>\n",
       "      <td>38</td>\n",
       "      <td>18</td>\n",
       "      <td>evening</td>\n",
       "      <td>fmc</td>\n",
       "      <td>emergency</td>\n",
       "      <td>Calgary</td>\n",
       "      <td>826</td>\n",
       "      <td>1306784</td>\n",
       "      <td>urban</td>\n",
       "      <td>51.064657</td>\n",
       "      <td>-114.130926</td>\n",
       "    </tr>\n",
       "    <tr>\n",
       "      <th>4</th>\n",
       "      <td>2022-09-24 18:22:00</td>\n",
       "      <td>Fort Sask Community Hospital</td>\n",
       "      <td>295.0</td>\n",
       "      <td>2022</td>\n",
       "      <td>Saturday</td>\n",
       "      <td>5</td>\n",
       "      <td>38</td>\n",
       "      <td>18</td>\n",
       "      <td>evening</td>\n",
       "      <td>fsch</td>\n",
       "      <td>emergency</td>\n",
       "      <td>Fort Saskatchewan</td>\n",
       "      <td>48</td>\n",
       "      <td>27088</td>\n",
       "      <td>rural</td>\n",
       "      <td>53.693175</td>\n",
       "      <td>-113.213436</td>\n",
       "    </tr>\n",
       "  </tbody>\n",
       "</table>\n",
       "</div>"
      ],
      "text/plain": [
       "              datetime                      hospital  waittime  year  \\\n",
       "0  2022-09-24 18:22:00   Alberta Children's Hospital     201.0  2022   \n",
       "1  2022-09-24 18:22:00     Chinook Regional Hospital      69.0  2022   \n",
       "2  2022-09-24 18:22:00        Devon General Hospital     132.0  2022   \n",
       "3  2022-09-24 18:22:00      Foothills Medical Centre     188.0  2022   \n",
       "4  2022-09-24 18:22:00  Fort Sask Community Hospital     295.0  2022   \n",
       "\n",
       "  dayofweek  numdayofweek  weekofyear  hour dayperiod    id   services  \\\n",
       "0  Saturday             5          38    18   evening   ach  emergency   \n",
       "1  Saturday             5          38    18   evening   crh  emergency   \n",
       "2  Saturday             5          38    18   evening   dgh  emergency   \n",
       "3  Saturday             5          38    18   evening   fmc  emergency   \n",
       "4  Saturday             5          38    18   evening  fsch  emergency   \n",
       "\n",
       "                city  cityarea  citypop citytype    hosplat    hosplong  \n",
       "0            Calgary       826  1306784    urban  51.074759 -114.146833  \n",
       "1         Lethbridge       122    98406     peri  49.685221 -112.816209  \n",
       "2              Devon        14     6545    rural  53.352265 -113.728288  \n",
       "3            Calgary       826  1306784    urban  51.064657 -114.130926  \n",
       "4  Fort Saskatchewan        48    27088    rural  53.693175 -113.213436  "
      ]
     },
     "execution_count": 4,
     "metadata": {},
     "output_type": "execute_result"
    }
   ],
   "source": [
    "# Load the final, melted, cleaned dataset\n",
    "df = Utility.get_clean_waittimes_dataframe()\n",
    "df.head()"
   ]
  },
  {
   "cell_type": "code",
   "execution_count": 5,
   "metadata": {},
   "outputs": [
    {
     "data": {
      "text/plain": [
       "(201151, 17)"
      ]
     },
     "execution_count": 5,
     "metadata": {},
     "output_type": "execute_result"
    }
   ],
   "source": [
    "# Original df shape\n",
    "df.shape"
   ]
  },
  {
   "cell_type": "markdown",
   "metadata": {},
   "source": [
    "Remove 'Urgent Care' facilities so we are only modelling on ERs"
   ]
  },
  {
   "cell_type": "code",
   "execution_count": 6,
   "metadata": {},
   "outputs": [],
   "source": [
    "# Filter the dataframe to be only Emergency services\n",
    "ER_SERVICES_MASK = Utility.MASK_EMERGENCY_SERVICES(df)\n",
    "df = df[ER_SERVICES_MASK]"
   ]
  },
  {
   "cell_type": "code",
   "execution_count": 7,
   "metadata": {},
   "outputs": [
    {
     "data": {
      "text/plain": [
       "(181926, 17)"
      ]
     },
     "execution_count": 7,
     "metadata": {},
     "output_type": "execute_result"
    }
   ],
   "source": [
    "# df shape after dropping 'urgentcare' services\n",
    "df.shape"
   ]
  },
  {
   "cell_type": "markdown",
   "metadata": {},
   "source": [
    "# Prepare data for modeling\n",
    "\n",
    "Try a logistic regression classification learning model where y = binary outcome of long wait, where I have **defined long wait as \"greater than 400 minutes (6.67 hours)\"**.\n",
    "\n",
    "This '400 minute' choice was based on the following:\n",
    "* Looking at the descriptive statistics for the entire dataset or ER hospitals\n",
    "* Calculating the upper bound for outliers (`Q3 + IQR*1.5`) cut off for ER hospitals (500 minutes)\n",
    "* The following national guidelines, with images shown in readme.md:\n",
    "    - Canadian ED Triage & Acuity Scale, 1998: https://ctas-phctas.ca/wp-content/uploads/2018/05/ctased16_98.pdf\n",
    "        - Specifying lowest triage level (Level V) should have time to physician <= 2 hours\n",
    "    - CAEP (Canadian Associate of Emergency Physicians) Position Statement, 2013: \"Emergency department overcrowding and access block\":  https://caep.ca/wp-content/uploads/2016/03/cjem_2013_overcrowding_and_access_block.pdf\n",
    "        - Specifying recommendation for median 1 hour to PIA and 3 hours at 90% percentile\n",
    "    - Alberta Health Performance Measure Definition for TPIA (Time to Physician Initial Assessment) (Feb 2015): https://open.alberta.ca/dataset/c7e3fc16-7aea-455c-96a1-20811a640b1a/resource/e2f49c22-3390-48a3-ac74-278a932aa668/download/pmd-ed-time-physician-initial-assessment.pdf\n",
    "        - Specifying national sides averaging 3.2 hours, Alberta sites averaging 3.1 hours (in 2012-13)\n",
    "    - \"Physician Initial Assessment Times Based on CTAS Scores: Are We Meeting the Recommendations?\": https://www.longwoods.com/content/26333/healthcare-quarterly/physician-initial-assessment-times-based-on-ctas-scores-are-we-meeting-the-recommendations-\n",
    "        - Specifying \"overall compliance with recommended PIA times was low\" in 4 community EDs around Hamilton, Ontario from 2016-2017.\n"
   ]
  },
  {
   "cell_type": "markdown",
   "metadata": {},
   "source": [
    "Feature Engineer:\n",
    "* longwait: 0 or 1\n",
    "\n",
    "Drop:\n",
    "* datetime\n",
    "* hospital (we will use 'id' instead)\n",
    "* waittime (we are using our binary value of 'longwait' instead, because this is a classification problem)\n",
    "* year\n",
    "* numdayofweek (we will use 'dayofweek' instead)\n",
    "* services (they are all 'emergency' based on our earlier filter)\n",
    "* cityarea\n",
    "* citypop\n",
    "* hosplat\n",
    "* hosplong\n",
    "\n",
    "We will also do additional feature engineering to simplify features:\n",
    "* collapse citytype 'peri' into 'rural', and keep this feature\n",
    "\n",
    "**NOTE: I have defined constants and utility functions in the `Utility` class in `modules.utility` (modules/utility.py file) to ensure consistency in shaping the dataframe that is ultimately used for modelling, in each classifier I build.**"
   ]
  },
  {
   "cell_type": "code",
   "execution_count": 8,
   "metadata": {},
   "outputs": [],
   "source": [
    "# Create new dataframe called df_model\n",
    "df_model = df.copy()\n",
    "\n",
    "# Collapse citytype 'peri' into 'rural'.  This is a valid assumption as demonstrated by plots in the erwait_eda_hypothesis_testing.ipynb notebook.\n",
    "Utility.collapse_periurban_to_rural(df_model)\n",
    "\n",
    "# Engineer the new feature 'longwait'\n",
    "Utility.add_longwait_feature(df_model)\n",
    "\n",
    "# Drop unwanted columns, which are defined as Utility.LOGIT_DROP_COLS, for consistent use in every notebook for every classification model.\n",
    "Utility.drop_unwanted_columns(df_model, Utility.LOGIT_DROP_COLS)"
   ]
  },
  {
   "cell_type": "markdown",
   "metadata": {},
   "source": [
    "Confirm how the dataframe looks after:\n",
    "* Collapsing peri to rural\n",
    "* Adding the 'longwait' feature (this will be our target variable)\n",
    "* Dropping unwanted columns/features"
   ]
  },
  {
   "cell_type": "code",
   "execution_count": 9,
   "metadata": {},
   "outputs": [
    {
     "data": {
      "text/html": [
       "<div>\n",
       "<style scoped>\n",
       "    .dataframe tbody tr th:only-of-type {\n",
       "        vertical-align: middle;\n",
       "    }\n",
       "\n",
       "    .dataframe tbody tr th {\n",
       "        vertical-align: top;\n",
       "    }\n",
       "\n",
       "    .dataframe thead th {\n",
       "        text-align: right;\n",
       "    }\n",
       "</style>\n",
       "<table border=\"1\" class=\"dataframe\">\n",
       "  <thead>\n",
       "    <tr style=\"text-align: right;\">\n",
       "      <th></th>\n",
       "      <th>dayofweek</th>\n",
       "      <th>weekofyear</th>\n",
       "      <th>hour</th>\n",
       "      <th>dayperiod</th>\n",
       "      <th>id</th>\n",
       "      <th>city</th>\n",
       "      <th>citytype</th>\n",
       "      <th>longwait</th>\n",
       "    </tr>\n",
       "  </thead>\n",
       "  <tbody>\n",
       "    <tr>\n",
       "      <th>0</th>\n",
       "      <td>Saturday</td>\n",
       "      <td>38</td>\n",
       "      <td>18</td>\n",
       "      <td>evening</td>\n",
       "      <td>ach</td>\n",
       "      <td>Calgary</td>\n",
       "      <td>urban</td>\n",
       "      <td>0</td>\n",
       "    </tr>\n",
       "    <tr>\n",
       "      <th>1</th>\n",
       "      <td>Saturday</td>\n",
       "      <td>38</td>\n",
       "      <td>18</td>\n",
       "      <td>evening</td>\n",
       "      <td>crh</td>\n",
       "      <td>Lethbridge</td>\n",
       "      <td>rural</td>\n",
       "      <td>0</td>\n",
       "    </tr>\n",
       "    <tr>\n",
       "      <th>2</th>\n",
       "      <td>Saturday</td>\n",
       "      <td>38</td>\n",
       "      <td>18</td>\n",
       "      <td>evening</td>\n",
       "      <td>dgh</td>\n",
       "      <td>Devon</td>\n",
       "      <td>rural</td>\n",
       "      <td>0</td>\n",
       "    </tr>\n",
       "    <tr>\n",
       "      <th>3</th>\n",
       "      <td>Saturday</td>\n",
       "      <td>38</td>\n",
       "      <td>18</td>\n",
       "      <td>evening</td>\n",
       "      <td>fmc</td>\n",
       "      <td>Calgary</td>\n",
       "      <td>urban</td>\n",
       "      <td>0</td>\n",
       "    </tr>\n",
       "    <tr>\n",
       "      <th>4</th>\n",
       "      <td>Saturday</td>\n",
       "      <td>38</td>\n",
       "      <td>18</td>\n",
       "      <td>evening</td>\n",
       "      <td>fsch</td>\n",
       "      <td>Fort Saskatchewan</td>\n",
       "      <td>rural</td>\n",
       "      <td>0</td>\n",
       "    </tr>\n",
       "  </tbody>\n",
       "</table>\n",
       "</div>"
      ],
      "text/plain": [
       "  dayofweek  weekofyear  hour dayperiod    id               city citytype  \\\n",
       "0  Saturday          38    18   evening   ach            Calgary    urban   \n",
       "1  Saturday          38    18   evening   crh         Lethbridge    rural   \n",
       "2  Saturday          38    18   evening   dgh              Devon    rural   \n",
       "3  Saturday          38    18   evening   fmc            Calgary    urban   \n",
       "4  Saturday          38    18   evening  fsch  Fort Saskatchewan    rural   \n",
       "\n",
       "   longwait  \n",
       "0         0  \n",
       "1         0  \n",
       "2         0  \n",
       "3         0  \n",
       "4         0  "
      ]
     },
     "metadata": {},
     "output_type": "display_data"
    },
    {
     "name": "stdout",
     "output_type": "stream",
     "text": [
      "\n",
      "Shape of dataframe:\n",
      "(181926, 8)\n",
      "\n",
      "Columns of dataframe:\n",
      "Index(['dayofweek', 'weekofyear', 'hour', 'dayperiod', 'id', 'city',\n",
      "       'citytype', 'longwait'],\n",
      "      dtype='object')\n",
      "\n",
      "dtypes of dataframe:\n",
      "dayofweek     object\n",
      "weekofyear     int64\n",
      "hour           int64\n",
      "dayperiod     object\n",
      "id            object\n",
      "city          object\n",
      "citytype      object\n",
      "longwait       int64\n",
      "dtype: object\n"
     ]
    }
   ],
   "source": [
    "Utility.display_df_general_info(df_model)\n",
    "# display(df_model.head())\n",
    "# print(f\"\\nShape of df_model: {df_model.shape}\")\n",
    "# print(f\"\\nColumns of df_model: {df_model.columns}\")\n",
    "# print(f\"\\ndtypes of df_model: {df_model.dtypes}\")"
   ]
  },
  {
   "cell_type": "markdown",
   "metadata": {},
   "source": [
    "Sort the dataframe a consistent and particular way (as defined in Utility class) prior to one-hot encoding, so that the one-hot encoding is consistent across all notebooks for all classification models."
   ]
  },
  {
   "cell_type": "code",
   "execution_count": 10,
   "metadata": {},
   "outputs": [],
   "source": [
    "df_model = Utility.sort_df_before_encoding_or_modeling(df_model)"
   ]
  },
  {
   "cell_type": "markdown",
   "metadata": {},
   "source": [
    "Check what it looks like after sorting\n"
   ]
  },
  {
   "cell_type": "code",
   "execution_count": 11,
   "metadata": {},
   "outputs": [
    {
     "data": {
      "text/html": [
       "<div>\n",
       "<style scoped>\n",
       "    .dataframe tbody tr th:only-of-type {\n",
       "        vertical-align: middle;\n",
       "    }\n",
       "\n",
       "    .dataframe tbody tr th {\n",
       "        vertical-align: top;\n",
       "    }\n",
       "\n",
       "    .dataframe thead th {\n",
       "        text-align: right;\n",
       "    }\n",
       "</style>\n",
       "<table border=\"1\" class=\"dataframe\">\n",
       "  <thead>\n",
       "    <tr style=\"text-align: right;\">\n",
       "      <th></th>\n",
       "      <th>dayofweek</th>\n",
       "      <th>weekofyear</th>\n",
       "      <th>hour</th>\n",
       "      <th>dayperiod</th>\n",
       "      <th>id</th>\n",
       "      <th>city</th>\n",
       "      <th>citytype</th>\n",
       "      <th>longwait</th>\n",
       "    </tr>\n",
       "  </thead>\n",
       "  <tbody>\n",
       "    <tr>\n",
       "      <th>0</th>\n",
       "      <td>Friday</td>\n",
       "      <td>1</td>\n",
       "      <td>0</td>\n",
       "      <td>night</td>\n",
       "      <td>ach</td>\n",
       "      <td>Calgary</td>\n",
       "      <td>urban</td>\n",
       "      <td>0</td>\n",
       "    </tr>\n",
       "    <tr>\n",
       "      <th>1</th>\n",
       "      <td>Friday</td>\n",
       "      <td>1</td>\n",
       "      <td>0</td>\n",
       "      <td>night</td>\n",
       "      <td>crh</td>\n",
       "      <td>Lethbridge</td>\n",
       "      <td>rural</td>\n",
       "      <td>0</td>\n",
       "    </tr>\n",
       "    <tr>\n",
       "      <th>2</th>\n",
       "      <td>Friday</td>\n",
       "      <td>1</td>\n",
       "      <td>0</td>\n",
       "      <td>night</td>\n",
       "      <td>dgh</td>\n",
       "      <td>Devon</td>\n",
       "      <td>rural</td>\n",
       "      <td>0</td>\n",
       "    </tr>\n",
       "    <tr>\n",
       "      <th>3</th>\n",
       "      <td>Friday</td>\n",
       "      <td>1</td>\n",
       "      <td>0</td>\n",
       "      <td>night</td>\n",
       "      <td>fmc</td>\n",
       "      <td>Calgary</td>\n",
       "      <td>urban</td>\n",
       "      <td>1</td>\n",
       "    </tr>\n",
       "    <tr>\n",
       "      <th>4</th>\n",
       "      <td>Friday</td>\n",
       "      <td>1</td>\n",
       "      <td>0</td>\n",
       "      <td>night</td>\n",
       "      <td>fsch</td>\n",
       "      <td>Fort Saskatchewan</td>\n",
       "      <td>rural</td>\n",
       "      <td>0</td>\n",
       "    </tr>\n",
       "  </tbody>\n",
       "</table>\n",
       "</div>"
      ],
      "text/plain": [
       "  dayofweek  weekofyear  hour dayperiod    id               city citytype  \\\n",
       "0    Friday           1     0     night   ach            Calgary    urban   \n",
       "1    Friday           1     0     night   crh         Lethbridge    rural   \n",
       "2    Friday           1     0     night   dgh              Devon    rural   \n",
       "3    Friday           1     0     night   fmc            Calgary    urban   \n",
       "4    Friday           1     0     night  fsch  Fort Saskatchewan    rural   \n",
       "\n",
       "   longwait  \n",
       "0         0  \n",
       "1         0  \n",
       "2         0  \n",
       "3         1  \n",
       "4         0  "
      ]
     },
     "execution_count": 11,
     "metadata": {},
     "output_type": "execute_result"
    }
   ],
   "source": [
    "df_model.head()"
   ]
  },
  {
   "cell_type": "markdown",
   "metadata": {},
   "source": [
    "# Modelling Plans\n",
    "\n",
    "We will build 4 logistic regression models and compare results as follows:\n",
    "\n",
    "| Model Name | Feature Columns                                                                                                                            | Target Column | One-Hot Encoded Columns                                                              | Datatypes of columns not one-hot encoded | Datatypes of non-one-hot-encoded columns     | Class Counts                                                     | Main Question                                                                              |\n",
    "|------------|--------------------------------------------------------------------------------------------------------------------------------------------|---------------|--------------------------------------------------------------------------------------|------------------------------------------|----------------------------------------------|------------------------------------------------------------------|--------------------------------------------------------------------------------------------|\n",
    "| baseline   | 'dayofweek', 'weekofyear', 'hour', 'dayperiod', 'id', 'city', 'citytype'                                                                   | 'longwait'    | Utility.LOGIT_ONEHOT_COLS_A:      'dayofweek', 'dayperiod', 'id', 'city', 'citytype' | 'weekofyear', 'hour'                     | 'hour': category      'weekofyear': category | Imbalanced: '1': 93.3%, '0': 6.7%                                | What is baseline performance for basic LogisticRegression model?                           |\n",
    "| balanced   | 'dayofweek', 'weekofyear', 'hour', 'dayperiod', 'id', 'city', 'citytype'                                                                   | 'longwait'    | Utility.LOGIT_ONEHOT_COLS_A:      'dayofweek', 'dayperiod', 'id', 'city', 'citytype' | 'weekofyear', 'hour'                     | 'hour': category      'weekofyear': category | More balanced (SMOTE/RandomUnderSampler): '1': 66.7%, '0': 33.3% | What is performance when using balanced classes?                                           |\n",
    "| hourint   | 'dayofweek', 'weekofyear', 'hour', 'dayperiod', 'id', 'city', 'citytype'                                                                   | 'longwait'    | Utility.LOGIT_ONEHOT_COLS_A:      'dayofweek', 'dayperiod', 'id', 'city', 'citytype' | 'weekofyear', 'hour'                     | 'hour': int      'weekofyear': category      | More balanced (SMOTE/RandomUnderSampler): '1': 66.7%, '0': 33.3% | Does making hour an integer increase performance?                                          |\n",
    "| simplify   | Remove 'dayperiod' from columns,   as it is collinear:      Resulting cols = 'dayofweek', 'weekofyear', 'hour', 'id', 'city',   'citytype' | 'longwait'    | Utility.LOGIT_ONEHOT_COLS_B:      'dayofweek', 'id', 'city', 'citytype'              | 'weekofyear', 'hour'                     | 'hour': int      'weekofyear': category | More balanced (SMOTE/RandomUnderSampler): '1': 66.7%, '0': 33.3% | Does removing the 'dayperiod' which is multicollinear with 'hour',   increase performance? |"
   ]
  },
  {
   "cell_type": "markdown",
   "metadata": {},
   "source": [
    "# Model: \"baseline\""
   ]
  },
  {
   "cell_type": "markdown",
   "metadata": {},
   "source": [
    "One-hot encoding and turning booleans into 0's and 1's"
   ]
  },
  {
   "cell_type": "code",
   "execution_count": 12,
   "metadata": {},
   "outputs": [],
   "source": [
    "# One-hot encoding of categorical columns as defined in Utility function (LOGIT_ONEHOT_COLS_A includes 'dayperiod')\n",
    "df_model = Utility.one_hot_encode_categorical_columns(df_model, Utility.LOGIT_ONEHOT_COLS_A)\n",
    "\n",
    "# Turn booleans into 0's and 1'\n",
    "Utility.convert_booleans(df_model)"
   ]
  },
  {
   "cell_type": "markdown",
   "metadata": {},
   "source": [
    "Convert 'hour' and 'weekofyear' to category types"
   ]
  },
  {
   "cell_type": "code",
   "execution_count": 13,
   "metadata": {},
   "outputs": [],
   "source": [
    "df_model['hour'] = df_model['hour'].astype('category')\n",
    "df_model['weekofyear'] = df_model['weekofyear'].astype('category')"
   ]
  },
  {
   "cell_type": "markdown",
   "metadata": {},
   "source": [
    "How does the dataframe look?"
   ]
  },
  {
   "cell_type": "code",
   "execution_count": 14,
   "metadata": {},
   "outputs": [
    {
     "data": {
      "text/html": [
       "<div>\n",
       "<style scoped>\n",
       "    .dataframe tbody tr th:only-of-type {\n",
       "        vertical-align: middle;\n",
       "    }\n",
       "\n",
       "    .dataframe tbody tr th {\n",
       "        vertical-align: top;\n",
       "    }\n",
       "\n",
       "    .dataframe thead th {\n",
       "        text-align: right;\n",
       "    }\n",
       "</style>\n",
       "<table border=\"1\" class=\"dataframe\">\n",
       "  <thead>\n",
       "    <tr style=\"text-align: right;\">\n",
       "      <th></th>\n",
       "      <th>weekofyear</th>\n",
       "      <th>hour</th>\n",
       "      <th>longwait</th>\n",
       "      <th>dayofweek_Monday</th>\n",
       "      <th>dayofweek_Saturday</th>\n",
       "      <th>dayofweek_Sunday</th>\n",
       "      <th>dayofweek_Thursday</th>\n",
       "      <th>dayofweek_Tuesday</th>\n",
       "      <th>dayofweek_Wednesday</th>\n",
       "      <th>dayperiod_evening</th>\n",
       "      <th>dayperiod_night</th>\n",
       "      <th>id_crh</th>\n",
       "      <th>id_dgh</th>\n",
       "      <th>id_fmc</th>\n",
       "      <th>id_fsch</th>\n",
       "      <th>id_gnch</th>\n",
       "      <th>id_lch</th>\n",
       "      <th>id_mch</th>\n",
       "      <th>id_mhrh</th>\n",
       "      <th>id_nchc</th>\n",
       "      <th>id_plc</th>\n",
       "      <th>id_rah</th>\n",
       "      <th>id_rdrh</th>\n",
       "      <th>id_rgh</th>\n",
       "      <th>id_sch</th>\n",
       "      <th>id_schc</th>\n",
       "      <th>id_shc</th>\n",
       "      <th>id_stollery</th>\n",
       "      <th>id_uah</th>\n",
       "      <th>id_whc</th>\n",
       "      <th>city_Devon</th>\n",
       "      <th>city_Edmonton</th>\n",
       "      <th>city_Fort Saskatchewan</th>\n",
       "      <th>city_Leduc</th>\n",
       "      <th>city_Lethbridge</th>\n",
       "      <th>city_Medicine Hat</th>\n",
       "      <th>city_Red Deer</th>\n",
       "      <th>city_Sherwood Park</th>\n",
       "      <th>city_St. Albert</th>\n",
       "      <th>city_Stony Plain</th>\n",
       "      <th>citytype_urban</th>\n",
       "    </tr>\n",
       "  </thead>\n",
       "  <tbody>\n",
       "    <tr>\n",
       "      <th>0</th>\n",
       "      <td>1</td>\n",
       "      <td>0</td>\n",
       "      <td>0</td>\n",
       "      <td>0</td>\n",
       "      <td>0</td>\n",
       "      <td>0</td>\n",
       "      <td>0</td>\n",
       "      <td>0</td>\n",
       "      <td>0</td>\n",
       "      <td>0</td>\n",
       "      <td>1</td>\n",
       "      <td>0</td>\n",
       "      <td>0</td>\n",
       "      <td>0</td>\n",
       "      <td>0</td>\n",
       "      <td>0</td>\n",
       "      <td>0</td>\n",
       "      <td>0</td>\n",
       "      <td>0</td>\n",
       "      <td>0</td>\n",
       "      <td>0</td>\n",
       "      <td>0</td>\n",
       "      <td>0</td>\n",
       "      <td>0</td>\n",
       "      <td>0</td>\n",
       "      <td>0</td>\n",
       "      <td>0</td>\n",
       "      <td>0</td>\n",
       "      <td>0</td>\n",
       "      <td>0</td>\n",
       "      <td>0</td>\n",
       "      <td>0</td>\n",
       "      <td>0</td>\n",
       "      <td>0</td>\n",
       "      <td>0</td>\n",
       "      <td>0</td>\n",
       "      <td>0</td>\n",
       "      <td>0</td>\n",
       "      <td>0</td>\n",
       "      <td>0</td>\n",
       "      <td>1</td>\n",
       "    </tr>\n",
       "    <tr>\n",
       "      <th>1</th>\n",
       "      <td>1</td>\n",
       "      <td>0</td>\n",
       "      <td>0</td>\n",
       "      <td>0</td>\n",
       "      <td>0</td>\n",
       "      <td>0</td>\n",
       "      <td>0</td>\n",
       "      <td>0</td>\n",
       "      <td>0</td>\n",
       "      <td>0</td>\n",
       "      <td>1</td>\n",
       "      <td>1</td>\n",
       "      <td>0</td>\n",
       "      <td>0</td>\n",
       "      <td>0</td>\n",
       "      <td>0</td>\n",
       "      <td>0</td>\n",
       "      <td>0</td>\n",
       "      <td>0</td>\n",
       "      <td>0</td>\n",
       "      <td>0</td>\n",
       "      <td>0</td>\n",
       "      <td>0</td>\n",
       "      <td>0</td>\n",
       "      <td>0</td>\n",
       "      <td>0</td>\n",
       "      <td>0</td>\n",
       "      <td>0</td>\n",
       "      <td>0</td>\n",
       "      <td>0</td>\n",
       "      <td>0</td>\n",
       "      <td>0</td>\n",
       "      <td>0</td>\n",
       "      <td>0</td>\n",
       "      <td>1</td>\n",
       "      <td>0</td>\n",
       "      <td>0</td>\n",
       "      <td>0</td>\n",
       "      <td>0</td>\n",
       "      <td>0</td>\n",
       "      <td>0</td>\n",
       "    </tr>\n",
       "    <tr>\n",
       "      <th>2</th>\n",
       "      <td>1</td>\n",
       "      <td>0</td>\n",
       "      <td>0</td>\n",
       "      <td>0</td>\n",
       "      <td>0</td>\n",
       "      <td>0</td>\n",
       "      <td>0</td>\n",
       "      <td>0</td>\n",
       "      <td>0</td>\n",
       "      <td>0</td>\n",
       "      <td>1</td>\n",
       "      <td>0</td>\n",
       "      <td>1</td>\n",
       "      <td>0</td>\n",
       "      <td>0</td>\n",
       "      <td>0</td>\n",
       "      <td>0</td>\n",
       "      <td>0</td>\n",
       "      <td>0</td>\n",
       "      <td>0</td>\n",
       "      <td>0</td>\n",
       "      <td>0</td>\n",
       "      <td>0</td>\n",
       "      <td>0</td>\n",
       "      <td>0</td>\n",
       "      <td>0</td>\n",
       "      <td>0</td>\n",
       "      <td>0</td>\n",
       "      <td>0</td>\n",
       "      <td>0</td>\n",
       "      <td>1</td>\n",
       "      <td>0</td>\n",
       "      <td>0</td>\n",
       "      <td>0</td>\n",
       "      <td>0</td>\n",
       "      <td>0</td>\n",
       "      <td>0</td>\n",
       "      <td>0</td>\n",
       "      <td>0</td>\n",
       "      <td>0</td>\n",
       "      <td>0</td>\n",
       "    </tr>\n",
       "    <tr>\n",
       "      <th>3</th>\n",
       "      <td>1</td>\n",
       "      <td>0</td>\n",
       "      <td>1</td>\n",
       "      <td>0</td>\n",
       "      <td>0</td>\n",
       "      <td>0</td>\n",
       "      <td>0</td>\n",
       "      <td>0</td>\n",
       "      <td>0</td>\n",
       "      <td>0</td>\n",
       "      <td>1</td>\n",
       "      <td>0</td>\n",
       "      <td>0</td>\n",
       "      <td>1</td>\n",
       "      <td>0</td>\n",
       "      <td>0</td>\n",
       "      <td>0</td>\n",
       "      <td>0</td>\n",
       "      <td>0</td>\n",
       "      <td>0</td>\n",
       "      <td>0</td>\n",
       "      <td>0</td>\n",
       "      <td>0</td>\n",
       "      <td>0</td>\n",
       "      <td>0</td>\n",
       "      <td>0</td>\n",
       "      <td>0</td>\n",
       "      <td>0</td>\n",
       "      <td>0</td>\n",
       "      <td>0</td>\n",
       "      <td>0</td>\n",
       "      <td>0</td>\n",
       "      <td>0</td>\n",
       "      <td>0</td>\n",
       "      <td>0</td>\n",
       "      <td>0</td>\n",
       "      <td>0</td>\n",
       "      <td>0</td>\n",
       "      <td>0</td>\n",
       "      <td>0</td>\n",
       "      <td>1</td>\n",
       "    </tr>\n",
       "    <tr>\n",
       "      <th>4</th>\n",
       "      <td>1</td>\n",
       "      <td>0</td>\n",
       "      <td>0</td>\n",
       "      <td>0</td>\n",
       "      <td>0</td>\n",
       "      <td>0</td>\n",
       "      <td>0</td>\n",
       "      <td>0</td>\n",
       "      <td>0</td>\n",
       "      <td>0</td>\n",
       "      <td>1</td>\n",
       "      <td>0</td>\n",
       "      <td>0</td>\n",
       "      <td>0</td>\n",
       "      <td>1</td>\n",
       "      <td>0</td>\n",
       "      <td>0</td>\n",
       "      <td>0</td>\n",
       "      <td>0</td>\n",
       "      <td>0</td>\n",
       "      <td>0</td>\n",
       "      <td>0</td>\n",
       "      <td>0</td>\n",
       "      <td>0</td>\n",
       "      <td>0</td>\n",
       "      <td>0</td>\n",
       "      <td>0</td>\n",
       "      <td>0</td>\n",
       "      <td>0</td>\n",
       "      <td>0</td>\n",
       "      <td>0</td>\n",
       "      <td>0</td>\n",
       "      <td>1</td>\n",
       "      <td>0</td>\n",
       "      <td>0</td>\n",
       "      <td>0</td>\n",
       "      <td>0</td>\n",
       "      <td>0</td>\n",
       "      <td>0</td>\n",
       "      <td>0</td>\n",
       "      <td>0</td>\n",
       "    </tr>\n",
       "  </tbody>\n",
       "</table>\n",
       "</div>"
      ],
      "text/plain": [
       "  weekofyear hour  longwait  dayofweek_Monday  dayofweek_Saturday  \\\n",
       "0          1    0         0                 0                   0   \n",
       "1          1    0         0                 0                   0   \n",
       "2          1    0         0                 0                   0   \n",
       "3          1    0         1                 0                   0   \n",
       "4          1    0         0                 0                   0   \n",
       "\n",
       "   dayofweek_Sunday  dayofweek_Thursday  dayofweek_Tuesday  \\\n",
       "0                 0                   0                  0   \n",
       "1                 0                   0                  0   \n",
       "2                 0                   0                  0   \n",
       "3                 0                   0                  0   \n",
       "4                 0                   0                  0   \n",
       "\n",
       "   dayofweek_Wednesday  dayperiod_evening  dayperiod_night  id_crh  id_dgh  \\\n",
       "0                    0                  0                1       0       0   \n",
       "1                    0                  0                1       1       0   \n",
       "2                    0                  0                1       0       1   \n",
       "3                    0                  0                1       0       0   \n",
       "4                    0                  0                1       0       0   \n",
       "\n",
       "   id_fmc  id_fsch  id_gnch  id_lch  id_mch  id_mhrh  id_nchc  id_plc  id_rah  \\\n",
       "0       0        0        0       0       0        0        0       0       0   \n",
       "1       0        0        0       0       0        0        0       0       0   \n",
       "2       0        0        0       0       0        0        0       0       0   \n",
       "3       1        0        0       0       0        0        0       0       0   \n",
       "4       0        1        0       0       0        0        0       0       0   \n",
       "\n",
       "   id_rdrh  id_rgh  id_sch  id_schc  id_shc  id_stollery  id_uah  id_whc  \\\n",
       "0        0       0       0        0       0            0       0       0   \n",
       "1        0       0       0        0       0            0       0       0   \n",
       "2        0       0       0        0       0            0       0       0   \n",
       "3        0       0       0        0       0            0       0       0   \n",
       "4        0       0       0        0       0            0       0       0   \n",
       "\n",
       "   city_Devon  city_Edmonton  city_Fort Saskatchewan  city_Leduc  \\\n",
       "0           0              0                       0           0   \n",
       "1           0              0                       0           0   \n",
       "2           1              0                       0           0   \n",
       "3           0              0                       0           0   \n",
       "4           0              0                       1           0   \n",
       "\n",
       "   city_Lethbridge  city_Medicine Hat  city_Red Deer  city_Sherwood Park  \\\n",
       "0                0                  0              0                   0   \n",
       "1                1                  0              0                   0   \n",
       "2                0                  0              0                   0   \n",
       "3                0                  0              0                   0   \n",
       "4                0                  0              0                   0   \n",
       "\n",
       "   city_St. Albert  city_Stony Plain  citytype_urban  \n",
       "0                0                 0               1  \n",
       "1                0                 0               0  \n",
       "2                0                 0               0  \n",
       "3                0                 0               1  \n",
       "4                0                 0               0  "
      ]
     },
     "metadata": {},
     "output_type": "display_data"
    },
    {
     "name": "stdout",
     "output_type": "stream",
     "text": [
      "\n",
      "Shape of dataframe:\n",
      "(181926, 41)\n",
      "\n",
      "Columns of dataframe:\n",
      "Index(['weekofyear', 'hour', 'longwait', 'dayofweek_Monday',\n",
      "       'dayofweek_Saturday', 'dayofweek_Sunday', 'dayofweek_Thursday',\n",
      "       'dayofweek_Tuesday', 'dayofweek_Wednesday', 'dayperiod_evening',\n",
      "       'dayperiod_night', 'id_crh', 'id_dgh', 'id_fmc', 'id_fsch', 'id_gnch',\n",
      "       'id_lch', 'id_mch', 'id_mhrh', 'id_nchc', 'id_plc', 'id_rah', 'id_rdrh',\n",
      "       'id_rgh', 'id_sch', 'id_schc', 'id_shc', 'id_stollery', 'id_uah',\n",
      "       'id_whc', 'city_Devon', 'city_Edmonton', 'city_Fort Saskatchewan',\n",
      "       'city_Leduc', 'city_Lethbridge', 'city_Medicine Hat', 'city_Red Deer',\n",
      "       'city_Sherwood Park', 'city_St. Albert', 'city_Stony Plain',\n",
      "       'citytype_urban'],\n",
      "      dtype='object')\n",
      "\n",
      "dtypes of dataframe:\n",
      "weekofyear                category\n",
      "hour                      category\n",
      "longwait                     int64\n",
      "dayofweek_Monday             int32\n",
      "dayofweek_Saturday           int32\n",
      "dayofweek_Sunday             int32\n",
      "dayofweek_Thursday           int32\n",
      "dayofweek_Tuesday            int32\n",
      "dayofweek_Wednesday          int32\n",
      "dayperiod_evening            int32\n",
      "dayperiod_night              int32\n",
      "id_crh                       int32\n",
      "id_dgh                       int32\n",
      "id_fmc                       int32\n",
      "id_fsch                      int32\n",
      "id_gnch                      int32\n",
      "id_lch                       int32\n",
      "id_mch                       int32\n",
      "id_mhrh                      int32\n",
      "id_nchc                      int32\n",
      "id_plc                       int32\n",
      "id_rah                       int32\n",
      "id_rdrh                      int32\n",
      "id_rgh                       int32\n",
      "id_sch                       int32\n",
      "id_schc                      int32\n",
      "id_shc                       int32\n",
      "id_stollery                  int32\n",
      "id_uah                       int32\n",
      "id_whc                       int32\n",
      "city_Devon                   int32\n",
      "city_Edmonton                int32\n",
      "city_Fort Saskatchewan       int32\n",
      "city_Leduc                   int32\n",
      "city_Lethbridge              int32\n",
      "city_Medicine Hat            int32\n",
      "city_Red Deer                int32\n",
      "city_Sherwood Park           int32\n",
      "city_St. Albert              int32\n",
      "city_Stony Plain             int32\n",
      "citytype_urban               int32\n",
      "dtype: object\n"
     ]
    }
   ],
   "source": [
    "Utility.display_df_general_info(df_model)"
   ]
  },
  {
   "cell_type": "markdown",
   "metadata": {},
   "source": [
    "## Set X and y dataframes for all models"
   ]
  },
  {
   "cell_type": "code",
   "execution_count": 15,
   "metadata": {},
   "outputs": [],
   "source": [
    "X_model = (df_model.drop(['longwait'], axis=1))\n",
    "y_model = (df_model['longwait'])"
   ]
  },
  {
   "cell_type": "markdown",
   "metadata": {},
   "source": [
    "## Train-Test Split for Model: \"baseline\""
   ]
  },
  {
   "cell_type": "code",
   "execution_count": 16,
   "metadata": {},
   "outputs": [],
   "source": [
    "# Make 80% training, 20% testing and shuffle the data\n",
    "X_train, X_test, y_train, y_test = train_test_split(X_model, y_model, test_size=0.2, random_state=Utility.RANDOM_STATE_CONST, shuffle=True)"
   ]
  },
  {
   "cell_type": "code",
   "execution_count": 17,
   "metadata": {},
   "outputs": [
    {
     "name": "stdout",
     "output_type": "stream",
     "text": [
      "type(X_model): <class 'pandas.core.frame.DataFrame'>\n",
      "type(y_model): <class 'pandas.core.series.Series'>\n",
      "type(X_train): <class 'pandas.core.frame.DataFrame'>\n",
      "type(y_train): <class 'pandas.core.series.Series'>\n",
      "type(X_test): <class 'pandas.core.frame.DataFrame'>\n",
      "type(y_test): <class 'pandas.core.series.Series'>\n",
      "X_model.shape[0]: 181926\n",
      "y_model.shape[0]: 181926\n",
      "X_train.shape[0]: 145540\n",
      "y_train.shape[0]: 145540\n",
      "X_test.shape[0]: 36386\n",
      "y_test.shape[0]: 36386\n"
     ]
    }
   ],
   "source": [
    "# Check what are the types and numbers in each of the 6 items I just created:\n",
    "print(f\"type(X_model): {type(X_model)}\")\n",
    "print(f\"type(y_model): {type(y_model)}\")\n",
    "\n",
    "print(f\"type(X_train): {type(X_train)}\")\n",
    "print(f\"type(y_train): {type(y_train)}\")\n",
    "\n",
    "print(f\"type(X_test): {type(X_test)}\")\n",
    "print(f\"type(y_test): {type(y_test)}\")\n",
    "\n",
    "print(f\"X_model.shape[0]: {X_model.shape[0]}\")\n",
    "print(f\"y_model.shape[0]: {y_model.shape[0]}\")\n",
    "\n",
    "print(f\"X_train.shape[0]: {X_train.shape[0]}\")\n",
    "print(f\"y_train.shape[0]: {y_train.shape[0]}\")\n",
    "\n",
    "print(f\"X_test.shape[0]: {X_test.shape[0]}\")\n",
    "print(f\"y_test.shape[0]: {y_test.shape[0]}\")"
   ]
  },
  {
   "cell_type": "markdown",
   "metadata": {},
   "source": [
    "Check class distributions in y_train and y_test after the train_test_split"
   ]
  },
  {
   "cell_type": "code",
   "execution_count": 18,
   "metadata": {},
   "outputs": [
    {
     "name": "stdout",
     "output_type": "stream",
     "text": [
      "y_train_counter: Counter({0: 135805, 1: 9735}), 0: 93.31111721863405, 1: 6.6888827813659475\n",
      "y_test_counter: Counter({0: 33863, 1: 2523}), 0: 93.06601440114329, 1: 6.933985598856703\n"
     ]
    }
   ],
   "source": [
    "Utility.display_class_balance(y_train, y_test)"
   ]
  },
  {
   "cell_type": "markdown",
   "metadata": {},
   "source": [
    "## Build Logistic Regression model: \"baseline\""
   ]
  },
  {
   "cell_type": "code",
   "execution_count": 19,
   "metadata": {},
   "outputs": [
    {
     "data": {
      "text/html": [
       "<style>#sk-container-id-1 {color: black;background-color: white;}#sk-container-id-1 pre{padding: 0;}#sk-container-id-1 div.sk-toggleable {background-color: white;}#sk-container-id-1 label.sk-toggleable__label {cursor: pointer;display: block;width: 100%;margin-bottom: 0;padding: 0.3em;box-sizing: border-box;text-align: center;}#sk-container-id-1 label.sk-toggleable__label-arrow:before {content: \"▸\";float: left;margin-right: 0.25em;color: #696969;}#sk-container-id-1 label.sk-toggleable__label-arrow:hover:before {color: black;}#sk-container-id-1 div.sk-estimator:hover label.sk-toggleable__label-arrow:before {color: black;}#sk-container-id-1 div.sk-toggleable__content {max-height: 0;max-width: 0;overflow: hidden;text-align: left;background-color: #f0f8ff;}#sk-container-id-1 div.sk-toggleable__content pre {margin: 0.2em;color: black;border-radius: 0.25em;background-color: #f0f8ff;}#sk-container-id-1 input.sk-toggleable__control:checked~div.sk-toggleable__content {max-height: 200px;max-width: 100%;overflow: auto;}#sk-container-id-1 input.sk-toggleable__control:checked~label.sk-toggleable__label-arrow:before {content: \"▾\";}#sk-container-id-1 div.sk-estimator input.sk-toggleable__control:checked~label.sk-toggleable__label {background-color: #d4ebff;}#sk-container-id-1 div.sk-label input.sk-toggleable__control:checked~label.sk-toggleable__label {background-color: #d4ebff;}#sk-container-id-1 input.sk-hidden--visually {border: 0;clip: rect(1px 1px 1px 1px);clip: rect(1px, 1px, 1px, 1px);height: 1px;margin: -1px;overflow: hidden;padding: 0;position: absolute;width: 1px;}#sk-container-id-1 div.sk-estimator {font-family: monospace;background-color: #f0f8ff;border: 1px dotted black;border-radius: 0.25em;box-sizing: border-box;margin-bottom: 0.5em;}#sk-container-id-1 div.sk-estimator:hover {background-color: #d4ebff;}#sk-container-id-1 div.sk-parallel-item::after {content: \"\";width: 100%;border-bottom: 1px solid gray;flex-grow: 1;}#sk-container-id-1 div.sk-label:hover label.sk-toggleable__label {background-color: #d4ebff;}#sk-container-id-1 div.sk-serial::before {content: \"\";position: absolute;border-left: 1px solid gray;box-sizing: border-box;top: 0;bottom: 0;left: 50%;z-index: 0;}#sk-container-id-1 div.sk-serial {display: flex;flex-direction: column;align-items: center;background-color: white;padding-right: 0.2em;padding-left: 0.2em;position: relative;}#sk-container-id-1 div.sk-item {position: relative;z-index: 1;}#sk-container-id-1 div.sk-parallel {display: flex;align-items: stretch;justify-content: center;background-color: white;position: relative;}#sk-container-id-1 div.sk-item::before, #sk-container-id-1 div.sk-parallel-item::before {content: \"\";position: absolute;border-left: 1px solid gray;box-sizing: border-box;top: 0;bottom: 0;left: 50%;z-index: -1;}#sk-container-id-1 div.sk-parallel-item {display: flex;flex-direction: column;z-index: 1;position: relative;background-color: white;}#sk-container-id-1 div.sk-parallel-item:first-child::after {align-self: flex-end;width: 50%;}#sk-container-id-1 div.sk-parallel-item:last-child::after {align-self: flex-start;width: 50%;}#sk-container-id-1 div.sk-parallel-item:only-child::after {width: 0;}#sk-container-id-1 div.sk-dashed-wrapped {border: 1px dashed gray;margin: 0 0.4em 0.5em 0.4em;box-sizing: border-box;padding-bottom: 0.4em;background-color: white;}#sk-container-id-1 div.sk-label label {font-family: monospace;font-weight: bold;display: inline-block;line-height: 1.2em;}#sk-container-id-1 div.sk-label-container {text-align: center;}#sk-container-id-1 div.sk-container {/* jupyter's `normalize.less` sets `[hidden] { display: none; }` but bootstrap.min.css set `[hidden] { display: none !important; }` so we also need the `!important` here to be able to override the default hidden behavior on the sphinx rendered scikit-learn.org. See: https://github.com/scikit-learn/scikit-learn/issues/21755 */display: inline-block !important;position: relative;}#sk-container-id-1 div.sk-text-repr-fallback {display: none;}</style><div id=\"sk-container-id-1\" class=\"sk-top-container\"><div class=\"sk-text-repr-fallback\"><pre>LogisticRegression(max_iter=1000, random_state=42)</pre><b>In a Jupyter environment, please rerun this cell to show the HTML representation or trust the notebook. <br />On GitHub, the HTML representation is unable to render, please try loading this page with nbviewer.org.</b></div><div class=\"sk-container\" hidden><div class=\"sk-item\"><div class=\"sk-estimator sk-toggleable\"><input class=\"sk-toggleable__control sk-hidden--visually\" id=\"sk-estimator-id-1\" type=\"checkbox\" checked><label for=\"sk-estimator-id-1\" class=\"sk-toggleable__label sk-toggleable__label-arrow\">LogisticRegression</label><div class=\"sk-toggleable__content\"><pre>LogisticRegression(max_iter=1000, random_state=42)</pre></div></div></div></div></div>"
      ],
      "text/plain": [
       "LogisticRegression(max_iter=1000, random_state=42)"
      ]
     },
     "execution_count": 19,
     "metadata": {},
     "output_type": "execute_result"
    }
   ],
   "source": [
    "baseline_clf = LogisticRegression(random_state=Utility.RANDOM_STATE_CONST, max_iter=1000)\n",
    "baseline_clf.fit(X_train, y_train)"
   ]
  },
  {
   "cell_type": "code",
   "execution_count": 20,
   "metadata": {},
   "outputs": [],
   "source": [
    "# Get predictions for X_train and X_test\n",
    "y_train_pred = baseline_clf.predict(X_train)\n",
    "y_test_pred = baseline_clf.predict(X_test)"
   ]
  },
  {
   "cell_type": "markdown",
   "metadata": {},
   "source": [
    "## Evaluate model performance: \"baseline\""
   ]
  },
  {
   "cell_type": "markdown",
   "metadata": {},
   "source": [
    "Confusion Matrix"
   ]
  },
  {
   "cell_type": "code",
   "execution_count": 21,
   "metadata": {},
   "outputs": [
    {
     "name": "stdout",
     "output_type": "stream",
     "text": [
      "\n",
      "Results on TRAINING data:\n"
     ]
    },
    {
     "data": {
      "text/html": [
       "<div>\n",
       "<style scoped>\n",
       "    .dataframe tbody tr th:only-of-type {\n",
       "        vertical-align: middle;\n",
       "    }\n",
       "\n",
       "    .dataframe tbody tr th {\n",
       "        vertical-align: top;\n",
       "    }\n",
       "\n",
       "    .dataframe thead th {\n",
       "        text-align: right;\n",
       "    }\n",
       "</style>\n",
       "<table border=\"1\" class=\"dataframe\">\n",
       "  <thead>\n",
       "    <tr style=\"text-align: right;\">\n",
       "      <th></th>\n",
       "      <th>Predicted Positive</th>\n",
       "      <th>Predicted Negative</th>\n",
       "    </tr>\n",
       "  </thead>\n",
       "  <tbody>\n",
       "    <tr>\n",
       "      <th>Actual Positive</th>\n",
       "      <td>34</td>\n",
       "      <td>9701</td>\n",
       "    </tr>\n",
       "    <tr>\n",
       "      <th>Actual Negative</th>\n",
       "      <td>26</td>\n",
       "      <td>135779</td>\n",
       "    </tr>\n",
       "  </tbody>\n",
       "</table>\n",
       "</div>"
      ],
      "text/plain": [
       "                 Predicted Positive  Predicted Negative\n",
       "Actual Positive                  34                9701\n",
       "Actual Negative                  26              135779"
      ]
     },
     "metadata": {},
     "output_type": "display_data"
    },
    {
     "name": "stdout",
     "output_type": "stream",
     "text": [
      "\n",
      "Results on TEST data:\n"
     ]
    },
    {
     "data": {
      "text/html": [
       "<div>\n",
       "<style scoped>\n",
       "    .dataframe tbody tr th:only-of-type {\n",
       "        vertical-align: middle;\n",
       "    }\n",
       "\n",
       "    .dataframe tbody tr th {\n",
       "        vertical-align: top;\n",
       "    }\n",
       "\n",
       "    .dataframe thead th {\n",
       "        text-align: right;\n",
       "    }\n",
       "</style>\n",
       "<table border=\"1\" class=\"dataframe\">\n",
       "  <thead>\n",
       "    <tr style=\"text-align: right;\">\n",
       "      <th></th>\n",
       "      <th>Predicted Positive</th>\n",
       "      <th>Predicted Negative</th>\n",
       "    </tr>\n",
       "  </thead>\n",
       "  <tbody>\n",
       "    <tr>\n",
       "      <th>Actual Positive</th>\n",
       "      <td>8</td>\n",
       "      <td>2515</td>\n",
       "    </tr>\n",
       "    <tr>\n",
       "      <th>Actual Negative</th>\n",
       "      <td>5</td>\n",
       "      <td>33858</td>\n",
       "    </tr>\n",
       "  </tbody>\n",
       "</table>\n",
       "</div>"
      ],
      "text/plain": [
       "                 Predicted Positive  Predicted Negative\n",
       "Actual Positive                   8                2515\n",
       "Actual Negative                   5               33858"
      ]
     },
     "metadata": {},
     "output_type": "display_data"
    }
   ],
   "source": [
    "# Confusion Matrix\n",
    "print(\"\\nResults on TRAINING data:\")\n",
    "baseline_train_cm = Utility.print_confusion_matrix_with_labels(y_train, y_train_pred)\n",
    "\n",
    "print(\"\\nResults on TEST data:\")\n",
    "baseline_test_cm = Utility.print_confusion_matrix_with_labels(y_test, y_test_pred)"
   ]
  },
  {
   "cell_type": "markdown",
   "metadata": {},
   "source": [
    "ROC Curve"
   ]
  },
  {
   "cell_type": "code",
   "execution_count": 22,
   "metadata": {},
   "outputs": [
    {
     "name": "stdout",
     "output_type": "stream",
     "text": [
      "\n",
      "Results on TRAINING data:\n"
     ]
    },
    {
     "data": {
      "image/png": "[encoded data removed]",
      "text/plain": [
       "<Figure size 640x480 with 1 Axes>"
      ]
     },
     "metadata": {},
     "output_type": "display_data"
    },
    {
     "name": "stdout",
     "output_type": "stream",
     "text": [
      "\n",
      "Results on TEST data:\n"
     ]
    },
    {
     "data": {
      "image/png": "[encoded data removed]",
      "text/plain": [
       "<Figure size 640x480 with 1 Axes>"
      ]
     },
     "metadata": {},
     "output_type": "display_data"
    }
   ],
   "source": [
    "# ROC Curve\n",
    "print(\"\\nResults on TRAINING data:\")\n",
    "y_train_probs_positive = baseline_clf.predict_proba(X_train)[:,1]\n",
    "train_fpr, train_tpr, train_thresholds = roc_curve(y_train, y_train_probs_positive)\n",
    "Utility.plot_roc_curve(train_fpr, train_tpr)\n",
    "\n",
    "print(\"\\nResults on TEST data:\")\n",
    "y_test_probs_positive = baseline_clf.predict_proba(X_test)[:,1]\n",
    "test_fpr, test_tpr, test_thresholds = roc_curve(y_test, y_test_probs_positive)\n",
    "Utility.plot_roc_curve(test_fpr, test_tpr)"
   ]
  },
  {
   "cell_type": "markdown",
   "metadata": {},
   "source": [
    "Classification Scores"
   ]
  },
  {
   "cell_type": "code",
   "execution_count": 23,
   "metadata": {},
   "outputs": [
    {
     "name": "stdout",
     "output_type": "stream",
     "text": [
      "\n",
      "Results on TRAINING data:\n"
     ]
    },
    {
     "name": "stdout",
     "output_type": "stream",
     "text": [
      "Accuracy            :      93.32%\n",
      "Precision           :       0.57\n",
      "Recall              :       0.00\n",
      "F1 score            :       0.01\n",
      "F1 (macro) score    :       0.49\n",
      "F1 (weighted) score :       0.90\n",
      "ROC-AUC             :       0.50\n",
      "\n",
      "Results on TEST data:\n",
      "Accuracy            :      93.07%\n",
      "Precision           :       0.62\n",
      "Recall              :       0.00\n",
      "F1 score            :       0.01\n",
      "F1 (macro) score    :       0.49\n",
      "F1 (weighted) score :       0.90\n",
      "ROC-AUC             :       0.50\n"
     ]
    }
   ],
   "source": [
    "# Scores\n",
    "print(\"\\nResults on TRAINING data:\")\n",
    "baseline_train_scores = Utility.evaluate_preds(y_train, y_train_pred)\n",
    "\n",
    "print(\"\\nResults on TEST data:\")\n",
    "baseline_test_scores = Utility.evaluate_preds(y_test, y_test_pred)"
   ]
  },
  {
   "cell_type": "markdown",
   "metadata": {},
   "source": [
    "# Model: \"balanced\""
   ]
  },
  {
   "cell_type": "markdown",
   "metadata": {},
   "source": [
    "## Need to Oversample the minority class and undersample entire dataset\n",
    "\n",
    "Code idea/credit: https://machinelearningmastery.com/smote-oversampling-for-imbalanced-classification\n",
    "\n",
    "(I made a couple tweaks!)"
   ]
  },
  {
   "cell_type": "code",
   "execution_count": 24,
   "metadata": {},
   "outputs": [],
   "source": [
    "# Use the same X_train and y_train from the \"baseline\" code above, since nothing needs to change about the features included, nor the encoding.\n",
    "over = SMOTE(sampling_strategy=0.10, random_state=Utility.RANDOM_STATE_CONST)\n",
    "under = RandomUnderSampler(sampling_strategy=0.5, random_state=Utility.RANDOM_STATE_CONST)\n",
    "steps = [('smote', over), ('under', under)]\n",
    "imbpipeline_sm_under = IMBPipeline(steps=steps)\n",
    "X_train_balanced, y_train_balanced = imbpipeline_sm_under.fit_resample(X_train, y_train)"
   ]
  },
  {
   "cell_type": "code",
   "execution_count": 25,
   "metadata": {},
   "outputs": [
    {
     "name": "stdout",
     "output_type": "stream",
     "text": [
      "type(X_model): <class 'pandas.core.frame.DataFrame'>\n",
      "type(y_model): <class 'pandas.core.series.Series'>\n",
      "type(X_train): <class 'pandas.core.frame.DataFrame'>\n",
      "type(y_train): <class 'pandas.core.series.Series'>\n",
      "type(X_test): <class 'pandas.core.frame.DataFrame'>\n",
      "type(y_test): <class 'pandas.core.series.Series'>\n",
      "X_model.shape[0]: 181926\n",
      "y_model.shape[0]: 181926\n",
      "X_train.shape[0]: 145540\n",
      "y_train.shape[0]: 145540\n",
      "X_train_balanced.shape[0]: 40740\n",
      "y_train_balanced.shape[0]: 40740\n",
      "X_test.shape[0]: 36386\n",
      "y_test.shape[0]: 36386\n"
     ]
    }
   ],
   "source": [
    "# Check what are the types and numbers in each of the 6 items I just created:\n",
    "print(f\"type(X_model): {type(X_model)}\")\n",
    "print(f\"type(y_model): {type(y_model)}\")\n",
    "\n",
    "print(f\"type(X_train): {type(X_train)}\")\n",
    "print(f\"type(y_train): {type(y_train)}\")\n",
    "\n",
    "print(f\"type(X_test): {type(X_test)}\")\n",
    "print(f\"type(y_test): {type(y_test)}\")\n",
    "\n",
    "print(f\"X_model.shape[0]: {X_model.shape[0]}\")\n",
    "print(f\"y_model.shape[0]: {y_model.shape[0]}\")\n",
    "\n",
    "print(f\"X_train.shape[0]: {X_train.shape[0]}\")\n",
    "print(f\"y_train.shape[0]: {y_train.shape[0]}\")\n",
    "\n",
    "print(f\"X_train_balanced.shape[0]: {X_train_balanced.shape[0]}\")\n",
    "print(f\"y_train_balanced.shape[0]: {y_train_balanced.shape[0]}\")\n",
    "\n",
    "print(f\"X_test.shape[0]: {X_test.shape[0]}\")\n",
    "print(f\"y_test.shape[0]: {y_test.shape[0]}\")"
   ]
  },
  {
   "cell_type": "markdown",
   "metadata": {},
   "source": [
    "Check class distributions in y_train and y_test after the train_test_split"
   ]
  },
  {
   "cell_type": "code",
   "execution_count": 26,
   "metadata": {},
   "outputs": [
    {
     "name": "stdout",
     "output_type": "stream",
     "text": [
      "y_train_counter: Counter({0: 27160, 1: 13580}), 0: 66.66666666666666, 1: 33.33333333333333\n",
      "y_test_counter: Counter({0: 33863, 1: 2523}), 0: 93.06601440114329, 1: 6.933985598856703\n"
     ]
    }
   ],
   "source": [
    "Utility.display_class_balance(y_train_balanced, y_test)"
   ]
  },
  {
   "cell_type": "markdown",
   "metadata": {},
   "source": [
    "## Build Logistic Regression model: \"balanced\""
   ]
  },
  {
   "cell_type": "code",
   "execution_count": 27,
   "metadata": {},
   "outputs": [
    {
     "data": {
      "text/html": [
       "<style>#sk-container-id-2 {color: black;background-color: white;}#sk-container-id-2 pre{padding: 0;}#sk-container-id-2 div.sk-toggleable {background-color: white;}#sk-container-id-2 label.sk-toggleable__label {cursor: pointer;display: block;width: 100%;margin-bottom: 0;padding: 0.3em;box-sizing: border-box;text-align: center;}#sk-container-id-2 label.sk-toggleable__label-arrow:before {content: \"▸\";float: left;margin-right: 0.25em;color: #696969;}#sk-container-id-2 label.sk-toggleable__label-arrow:hover:before {color: black;}#sk-container-id-2 div.sk-estimator:hover label.sk-toggleable__label-arrow:before {color: black;}#sk-container-id-2 div.sk-toggleable__content {max-height: 0;max-width: 0;overflow: hidden;text-align: left;background-color: #f0f8ff;}#sk-container-id-2 div.sk-toggleable__content pre {margin: 0.2em;color: black;border-radius: 0.25em;background-color: #f0f8ff;}#sk-container-id-2 input.sk-toggleable__control:checked~div.sk-toggleable__content {max-height: 200px;max-width: 100%;overflow: auto;}#sk-container-id-2 input.sk-toggleable__control:checked~label.sk-toggleable__label-arrow:before {content: \"▾\";}#sk-container-id-2 div.sk-estimator input.sk-toggleable__control:checked~label.sk-toggleable__label {background-color: #d4ebff;}#sk-container-id-2 div.sk-label input.sk-toggleable__control:checked~label.sk-toggleable__label {background-color: #d4ebff;}#sk-container-id-2 input.sk-hidden--visually {border: 0;clip: rect(1px 1px 1px 1px);clip: rect(1px, 1px, 1px, 1px);height: 1px;margin: -1px;overflow: hidden;padding: 0;position: absolute;width: 1px;}#sk-container-id-2 div.sk-estimator {font-family: monospace;background-color: #f0f8ff;border: 1px dotted black;border-radius: 0.25em;box-sizing: border-box;margin-bottom: 0.5em;}#sk-container-id-2 div.sk-estimator:hover {background-color: #d4ebff;}#sk-container-id-2 div.sk-parallel-item::after {content: \"\";width: 100%;border-bottom: 1px solid gray;flex-grow: 1;}#sk-container-id-2 div.sk-label:hover label.sk-toggleable__label {background-color: #d4ebff;}#sk-container-id-2 div.sk-serial::before {content: \"\";position: absolute;border-left: 1px solid gray;box-sizing: border-box;top: 0;bottom: 0;left: 50%;z-index: 0;}#sk-container-id-2 div.sk-serial {display: flex;flex-direction: column;align-items: center;background-color: white;padding-right: 0.2em;padding-left: 0.2em;position: relative;}#sk-container-id-2 div.sk-item {position: relative;z-index: 1;}#sk-container-id-2 div.sk-parallel {display: flex;align-items: stretch;justify-content: center;background-color: white;position: relative;}#sk-container-id-2 div.sk-item::before, #sk-container-id-2 div.sk-parallel-item::before {content: \"\";position: absolute;border-left: 1px solid gray;box-sizing: border-box;top: 0;bottom: 0;left: 50%;z-index: -1;}#sk-container-id-2 div.sk-parallel-item {display: flex;flex-direction: column;z-index: 1;position: relative;background-color: white;}#sk-container-id-2 div.sk-parallel-item:first-child::after {align-self: flex-end;width: 50%;}#sk-container-id-2 div.sk-parallel-item:last-child::after {align-self: flex-start;width: 50%;}#sk-container-id-2 div.sk-parallel-item:only-child::after {width: 0;}#sk-container-id-2 div.sk-dashed-wrapped {border: 1px dashed gray;margin: 0 0.4em 0.5em 0.4em;box-sizing: border-box;padding-bottom: 0.4em;background-color: white;}#sk-container-id-2 div.sk-label label {font-family: monospace;font-weight: bold;display: inline-block;line-height: 1.2em;}#sk-container-id-2 div.sk-label-container {text-align: center;}#sk-container-id-2 div.sk-container {/* jupyter's `normalize.less` sets `[hidden] { display: none; }` but bootstrap.min.css set `[hidden] { display: none !important; }` so we also need the `!important` here to be able to override the default hidden behavior on the sphinx rendered scikit-learn.org. See: https://github.com/scikit-learn/scikit-learn/issues/21755 */display: inline-block !important;position: relative;}#sk-container-id-2 div.sk-text-repr-fallback {display: none;}</style><div id=\"sk-container-id-2\" class=\"sk-top-container\"><div class=\"sk-text-repr-fallback\"><pre>LogisticRegression(max_iter=1000, random_state=42)</pre><b>In a Jupyter environment, please rerun this cell to show the HTML representation or trust the notebook. <br />On GitHub, the HTML representation is unable to render, please try loading this page with nbviewer.org.</b></div><div class=\"sk-container\" hidden><div class=\"sk-item\"><div class=\"sk-estimator sk-toggleable\"><input class=\"sk-toggleable__control sk-hidden--visually\" id=\"sk-estimator-id-2\" type=\"checkbox\" checked><label for=\"sk-estimator-id-2\" class=\"sk-toggleable__label sk-toggleable__label-arrow\">LogisticRegression</label><div class=\"sk-toggleable__content\"><pre>LogisticRegression(max_iter=1000, random_state=42)</pre></div></div></div></div></div>"
      ],
      "text/plain": [
       "LogisticRegression(max_iter=1000, random_state=42)"
      ]
     },
     "execution_count": 27,
     "metadata": {},
     "output_type": "execute_result"
    }
   ],
   "source": [
    "balanced_clf = LogisticRegression(random_state=Utility.RANDOM_STATE_CONST, max_iter=1000)\n",
    "balanced_clf.fit(X_train_balanced, y_train_balanced)"
   ]
  },
  {
   "cell_type": "code",
   "execution_count": 28,
   "metadata": {},
   "outputs": [],
   "source": [
    "# Get predictions for X_train and X_test\n",
    "y_train_pred = balanced_clf.predict(X_train_balanced)\n",
    "y_test_pred = balanced_clf.predict(X_test)"
   ]
  },
  {
   "cell_type": "markdown",
   "metadata": {},
   "source": [
    "## Evaluate model performance: \"balanced\""
   ]
  },
  {
   "cell_type": "markdown",
   "metadata": {},
   "source": [
    "Confusion Matrix"
   ]
  },
  {
   "cell_type": "code",
   "execution_count": 29,
   "metadata": {},
   "outputs": [
    {
     "name": "stdout",
     "output_type": "stream",
     "text": [
      "\n",
      "Results on TRAINING data:\n"
     ]
    },
    {
     "data": {
      "text/html": [
       "<div>\n",
       "<style scoped>\n",
       "    .dataframe tbody tr th:only-of-type {\n",
       "        vertical-align: middle;\n",
       "    }\n",
       "\n",
       "    .dataframe tbody tr th {\n",
       "        vertical-align: top;\n",
       "    }\n",
       "\n",
       "    .dataframe thead th {\n",
       "        text-align: right;\n",
       "    }\n",
       "</style>\n",
       "<table border=\"1\" class=\"dataframe\">\n",
       "  <thead>\n",
       "    <tr style=\"text-align: right;\">\n",
       "      <th></th>\n",
       "      <th>Predicted Positive</th>\n",
       "      <th>Predicted Negative</th>\n",
       "    </tr>\n",
       "  </thead>\n",
       "  <tbody>\n",
       "    <tr>\n",
       "      <th>Actual Positive</th>\n",
       "      <td>9018</td>\n",
       "      <td>4562</td>\n",
       "    </tr>\n",
       "    <tr>\n",
       "      <th>Actual Negative</th>\n",
       "      <td>4205</td>\n",
       "      <td>22955</td>\n",
       "    </tr>\n",
       "  </tbody>\n",
       "</table>\n",
       "</div>"
      ],
      "text/plain": [
       "                 Predicted Positive  Predicted Negative\n",
       "Actual Positive                9018                4562\n",
       "Actual Negative                4205               22955"
      ]
     },
     "metadata": {},
     "output_type": "display_data"
    },
    {
     "name": "stdout",
     "output_type": "stream",
     "text": [
      "\n",
      "Results on TEST data:\n"
     ]
    },
    {
     "data": {
      "text/html": [
       "<div>\n",
       "<style scoped>\n",
       "    .dataframe tbody tr th:only-of-type {\n",
       "        vertical-align: middle;\n",
       "    }\n",
       "\n",
       "    .dataframe tbody tr th {\n",
       "        vertical-align: top;\n",
       "    }\n",
       "\n",
       "    .dataframe thead th {\n",
       "        text-align: right;\n",
       "    }\n",
       "</style>\n",
       "<table border=\"1\" class=\"dataframe\">\n",
       "  <thead>\n",
       "    <tr style=\"text-align: right;\">\n",
       "      <th></th>\n",
       "      <th>Predicted Positive</th>\n",
       "      <th>Predicted Negative</th>\n",
       "    </tr>\n",
       "  </thead>\n",
       "  <tbody>\n",
       "    <tr>\n",
       "      <th>Actual Positive</th>\n",
       "      <td>1587</td>\n",
       "      <td>936</td>\n",
       "    </tr>\n",
       "    <tr>\n",
       "      <th>Actual Negative</th>\n",
       "      <td>5245</td>\n",
       "      <td>28618</td>\n",
       "    </tr>\n",
       "  </tbody>\n",
       "</table>\n",
       "</div>"
      ],
      "text/plain": [
       "                 Predicted Positive  Predicted Negative\n",
       "Actual Positive                1587                 936\n",
       "Actual Negative                5245               28618"
      ]
     },
     "metadata": {},
     "output_type": "display_data"
    }
   ],
   "source": [
    "# Confusion Matrix\n",
    "print(\"\\nResults on TRAINING data:\")\n",
    "balanced_train_cm = Utility.print_confusion_matrix_with_labels(y_train_balanced, y_train_pred)\n",
    "\n",
    "print(\"\\nResults on TEST data:\")\n",
    "balanced_test_cm = Utility.print_confusion_matrix_with_labels(y_test, y_test_pred)"
   ]
  },
  {
   "cell_type": "markdown",
   "metadata": {},
   "source": [
    "ROC Curve"
   ]
  },
  {
   "cell_type": "code",
   "execution_count": 30,
   "metadata": {},
   "outputs": [
    {
     "name": "stdout",
     "output_type": "stream",
     "text": [
      "\n",
      "Results on TRAINING data:\n"
     ]
    },
    {
     "data": {
      "image/png": "[encoded data removed]",
      "text/plain": [
       "<Figure size 640x480 with 1 Axes>"
      ]
     },
     "metadata": {},
     "output_type": "display_data"
    },
    {
     "name": "stdout",
     "output_type": "stream",
     "text": [
      "\n",
      "Results on TEST data:\n"
     ]
    },
    {
     "data": {
      "image/png": "[encoded data removed]",
      "text/plain": [
       "<Figure size 640x480 with 1 Axes>"
      ]
     },
     "metadata": {},
     "output_type": "display_data"
    }
   ],
   "source": [
    "# ROC Curve\n",
    "print(\"\\nResults on TRAINING data:\")\n",
    "y_train_probs_positive = balanced_clf.predict_proba(X_train_balanced)[:,1]\n",
    "train_fpr, train_tpr, train_thresholds = roc_curve(y_train_balanced, y_train_probs_positive)\n",
    "Utility.plot_roc_curve(train_fpr, train_tpr)\n",
    "\n",
    "print(\"\\nResults on TEST data:\")\n",
    "y_test_probs_positive = balanced_clf.predict_proba(X_test)[:,1]\n",
    "test_fpr, test_tpr, test_thresholds = roc_curve(y_test, y_test_probs_positive)\n",
    "Utility.plot_roc_curve(test_fpr, test_tpr)"
   ]
  },
  {
   "cell_type": "markdown",
   "metadata": {},
   "source": [
    "Classification Scores"
   ]
  },
  {
   "cell_type": "code",
   "execution_count": 31,
   "metadata": {},
   "outputs": [
    {
     "name": "stdout",
     "output_type": "stream",
     "text": [
      "\n",
      "Results on TRAINING data:\n"
     ]
    },
    {
     "name": "stdout",
     "output_type": "stream",
     "text": [
      "Accuracy            :      78.48%\n",
      "Precision           :       0.68\n",
      "Recall              :       0.66\n",
      "F1 score            :       0.67\n",
      "F1 (macro) score    :       0.76\n",
      "F1 (weighted) score :       0.78\n",
      "ROC-AUC             :       0.75\n",
      "\n",
      "Results on TEST data:\n",
      "Accuracy            :      83.01%\n",
      "Precision           :       0.23\n",
      "Recall              :       0.63\n",
      "F1 score            :       0.34\n",
      "F1 (macro) score    :       0.62\n",
      "F1 (weighted) score :       0.86\n",
      "ROC-AUC             :       0.74\n"
     ]
    }
   ],
   "source": [
    "# Scores\n",
    "print(\"\\nResults on TRAINING data:\")\n",
    "balanced_train_scores = Utility.evaluate_preds(y_train_balanced, y_train_pred)\n",
    "\n",
    "print(\"\\nResults on TEST data:\")\n",
    "balanced_test_scores = Utility.evaluate_preds(y_test, y_test_pred)"
   ]
  },
  {
   "cell_type": "markdown",
   "metadata": {},
   "source": [
    "# Model: \"hourint\""
   ]
  },
  {
   "cell_type": "markdown",
   "metadata": {},
   "source": [
    "Recall this experiement/model has these characteristics:\n",
    "* 'hour' will be turned into an int instead of 'category' datatype\n",
    "* still using X_train_balanced, y_train_balanced which is from `SMOTE` and `RandomUnderSampler` use to reduce class imbalance"
   ]
  },
  {
   "cell_type": "markdown",
   "metadata": {},
   "source": [
    "Convert 'hour' to `int` dtype"
   ]
  },
  {
   "cell_type": "code",
   "execution_count": 32,
   "metadata": {},
   "outputs": [],
   "source": [
    "X_train_balanced['hour'] = X_train_balanced['hour'].astype('int')\n",
    "X_test['hour'] = X_test['hour'].astype('int')\n",
    "\n",
    "#X_train_balanced['weekofyear'] = X_train_balanced['weekofyear'].astype('category')  # This is already in place from earlier cells\n",
    "#X_test['weekofyear'] = X_test['weekofyear'].astype('category')  # This is already in place from earlier cells"
   ]
  },
  {
   "cell_type": "markdown",
   "metadata": {},
   "source": [
    "How does the dataframe look?\n",
    "* X_train_balanced\n",
    "* X_test"
   ]
  },
  {
   "cell_type": "code",
   "execution_count": 33,
   "metadata": {},
   "outputs": [
    {
     "data": {
      "text/html": [
       "<div>\n",
       "<style scoped>\n",
       "    .dataframe tbody tr th:only-of-type {\n",
       "        vertical-align: middle;\n",
       "    }\n",
       "\n",
       "    .dataframe tbody tr th {\n",
       "        vertical-align: top;\n",
       "    }\n",
       "\n",
       "    .dataframe thead th {\n",
       "        text-align: right;\n",
       "    }\n",
       "</style>\n",
       "<table border=\"1\" class=\"dataframe\">\n",
       "  <thead>\n",
       "    <tr style=\"text-align: right;\">\n",
       "      <th></th>\n",
       "      <th>weekofyear</th>\n",
       "      <th>hour</th>\n",
       "      <th>dayofweek_Monday</th>\n",
       "      <th>dayofweek_Saturday</th>\n",
       "      <th>dayofweek_Sunday</th>\n",
       "      <th>dayofweek_Thursday</th>\n",
       "      <th>dayofweek_Tuesday</th>\n",
       "      <th>dayofweek_Wednesday</th>\n",
       "      <th>dayperiod_evening</th>\n",
       "      <th>dayperiod_night</th>\n",
       "      <th>id_crh</th>\n",
       "      <th>id_dgh</th>\n",
       "      <th>id_fmc</th>\n",
       "      <th>id_fsch</th>\n",
       "      <th>id_gnch</th>\n",
       "      <th>id_lch</th>\n",
       "      <th>id_mch</th>\n",
       "      <th>id_mhrh</th>\n",
       "      <th>id_nchc</th>\n",
       "      <th>id_plc</th>\n",
       "      <th>id_rah</th>\n",
       "      <th>id_rdrh</th>\n",
       "      <th>id_rgh</th>\n",
       "      <th>id_sch</th>\n",
       "      <th>id_schc</th>\n",
       "      <th>id_shc</th>\n",
       "      <th>id_stollery</th>\n",
       "      <th>id_uah</th>\n",
       "      <th>id_whc</th>\n",
       "      <th>city_Devon</th>\n",
       "      <th>city_Edmonton</th>\n",
       "      <th>city_Fort Saskatchewan</th>\n",
       "      <th>city_Leduc</th>\n",
       "      <th>city_Lethbridge</th>\n",
       "      <th>city_Medicine Hat</th>\n",
       "      <th>city_Red Deer</th>\n",
       "      <th>city_Sherwood Park</th>\n",
       "      <th>city_St. Albert</th>\n",
       "      <th>city_Stony Plain</th>\n",
       "      <th>citytype_urban</th>\n",
       "    </tr>\n",
       "  </thead>\n",
       "  <tbody>\n",
       "    <tr>\n",
       "      <th>45007</th>\n",
       "      <td>50</td>\n",
       "      <td>0</td>\n",
       "      <td>0</td>\n",
       "      <td>0</td>\n",
       "      <td>0</td>\n",
       "      <td>1</td>\n",
       "      <td>0</td>\n",
       "      <td>0</td>\n",
       "      <td>0</td>\n",
       "      <td>1</td>\n",
       "      <td>0</td>\n",
       "      <td>0</td>\n",
       "      <td>0</td>\n",
       "      <td>0</td>\n",
       "      <td>0</td>\n",
       "      <td>0</td>\n",
       "      <td>1</td>\n",
       "      <td>0</td>\n",
       "      <td>0</td>\n",
       "      <td>0</td>\n",
       "      <td>0</td>\n",
       "      <td>0</td>\n",
       "      <td>0</td>\n",
       "      <td>0</td>\n",
       "      <td>0</td>\n",
       "      <td>0</td>\n",
       "      <td>0</td>\n",
       "      <td>0</td>\n",
       "      <td>0</td>\n",
       "      <td>0</td>\n",
       "      <td>1</td>\n",
       "      <td>0</td>\n",
       "      <td>0</td>\n",
       "      <td>0</td>\n",
       "      <td>0</td>\n",
       "      <td>0</td>\n",
       "      <td>0</td>\n",
       "      <td>0</td>\n",
       "      <td>0</td>\n",
       "      <td>1</td>\n",
       "    </tr>\n",
       "    <tr>\n",
       "      <th>35862</th>\n",
       "      <td>12</td>\n",
       "      <td>19</td>\n",
       "      <td>0</td>\n",
       "      <td>0</td>\n",
       "      <td>0</td>\n",
       "      <td>0</td>\n",
       "      <td>1</td>\n",
       "      <td>0</td>\n",
       "      <td>1</td>\n",
       "      <td>0</td>\n",
       "      <td>0</td>\n",
       "      <td>0</td>\n",
       "      <td>0</td>\n",
       "      <td>0</td>\n",
       "      <td>0</td>\n",
       "      <td>0</td>\n",
       "      <td>0</td>\n",
       "      <td>0</td>\n",
       "      <td>0</td>\n",
       "      <td>0</td>\n",
       "      <td>0</td>\n",
       "      <td>0</td>\n",
       "      <td>0</td>\n",
       "      <td>0</td>\n",
       "      <td>0</td>\n",
       "      <td>0</td>\n",
       "      <td>0</td>\n",
       "      <td>1</td>\n",
       "      <td>0</td>\n",
       "      <td>0</td>\n",
       "      <td>1</td>\n",
       "      <td>0</td>\n",
       "      <td>0</td>\n",
       "      <td>0</td>\n",
       "      <td>0</td>\n",
       "      <td>0</td>\n",
       "      <td>0</td>\n",
       "      <td>0</td>\n",
       "      <td>0</td>\n",
       "      <td>1</td>\n",
       "    </tr>\n",
       "    <tr>\n",
       "      <th>118714</th>\n",
       "      <td>21</td>\n",
       "      <td>6</td>\n",
       "      <td>1</td>\n",
       "      <td>0</td>\n",
       "      <td>0</td>\n",
       "      <td>0</td>\n",
       "      <td>0</td>\n",
       "      <td>0</td>\n",
       "      <td>0</td>\n",
       "      <td>1</td>\n",
       "      <td>0</td>\n",
       "      <td>0</td>\n",
       "      <td>1</td>\n",
       "      <td>0</td>\n",
       "      <td>0</td>\n",
       "      <td>0</td>\n",
       "      <td>0</td>\n",
       "      <td>0</td>\n",
       "      <td>0</td>\n",
       "      <td>0</td>\n",
       "      <td>0</td>\n",
       "      <td>0</td>\n",
       "      <td>0</td>\n",
       "      <td>0</td>\n",
       "      <td>0</td>\n",
       "      <td>0</td>\n",
       "      <td>0</td>\n",
       "      <td>0</td>\n",
       "      <td>0</td>\n",
       "      <td>0</td>\n",
       "      <td>0</td>\n",
       "      <td>0</td>\n",
       "      <td>0</td>\n",
       "      <td>0</td>\n",
       "      <td>0</td>\n",
       "      <td>0</td>\n",
       "      <td>0</td>\n",
       "      <td>0</td>\n",
       "      <td>0</td>\n",
       "      <td>1</td>\n",
       "    </tr>\n",
       "    <tr>\n",
       "      <th>129681</th>\n",
       "      <td>40</td>\n",
       "      <td>3</td>\n",
       "      <td>0</td>\n",
       "      <td>0</td>\n",
       "      <td>0</td>\n",
       "      <td>0</td>\n",
       "      <td>0</td>\n",
       "      <td>1</td>\n",
       "      <td>0</td>\n",
       "      <td>1</td>\n",
       "      <td>0</td>\n",
       "      <td>0</td>\n",
       "      <td>0</td>\n",
       "      <td>0</td>\n",
       "      <td>0</td>\n",
       "      <td>0</td>\n",
       "      <td>0</td>\n",
       "      <td>0</td>\n",
       "      <td>1</td>\n",
       "      <td>0</td>\n",
       "      <td>0</td>\n",
       "      <td>0</td>\n",
       "      <td>0</td>\n",
       "      <td>0</td>\n",
       "      <td>0</td>\n",
       "      <td>0</td>\n",
       "      <td>0</td>\n",
       "      <td>0</td>\n",
       "      <td>0</td>\n",
       "      <td>0</td>\n",
       "      <td>1</td>\n",
       "      <td>0</td>\n",
       "      <td>0</td>\n",
       "      <td>0</td>\n",
       "      <td>0</td>\n",
       "      <td>0</td>\n",
       "      <td>0</td>\n",
       "      <td>0</td>\n",
       "      <td>0</td>\n",
       "      <td>1</td>\n",
       "    </tr>\n",
       "    <tr>\n",
       "      <th>143602</th>\n",
       "      <td>35</td>\n",
       "      <td>8</td>\n",
       "      <td>0</td>\n",
       "      <td>0</td>\n",
       "      <td>0</td>\n",
       "      <td>1</td>\n",
       "      <td>0</td>\n",
       "      <td>0</td>\n",
       "      <td>0</td>\n",
       "      <td>0</td>\n",
       "      <td>0</td>\n",
       "      <td>0</td>\n",
       "      <td>0</td>\n",
       "      <td>0</td>\n",
       "      <td>0</td>\n",
       "      <td>1</td>\n",
       "      <td>0</td>\n",
       "      <td>0</td>\n",
       "      <td>0</td>\n",
       "      <td>0</td>\n",
       "      <td>0</td>\n",
       "      <td>0</td>\n",
       "      <td>0</td>\n",
       "      <td>0</td>\n",
       "      <td>0</td>\n",
       "      <td>0</td>\n",
       "      <td>0</td>\n",
       "      <td>0</td>\n",
       "      <td>0</td>\n",
       "      <td>0</td>\n",
       "      <td>0</td>\n",
       "      <td>0</td>\n",
       "      <td>1</td>\n",
       "      <td>0</td>\n",
       "      <td>0</td>\n",
       "      <td>0</td>\n",
       "      <td>0</td>\n",
       "      <td>0</td>\n",
       "      <td>0</td>\n",
       "      <td>0</td>\n",
       "    </tr>\n",
       "  </tbody>\n",
       "</table>\n",
       "</div>"
      ],
      "text/plain": [
       "       weekofyear  hour  dayofweek_Monday  dayofweek_Saturday  \\\n",
       "45007          50     0                 0                   0   \n",
       "35862          12    19                 0                   0   \n",
       "118714         21     6                 1                   0   \n",
       "129681         40     3                 0                   0   \n",
       "143602         35     8                 0                   0   \n",
       "\n",
       "        dayofweek_Sunday  dayofweek_Thursday  dayofweek_Tuesday  \\\n",
       "45007                  0                   1                  0   \n",
       "35862                  0                   0                  1   \n",
       "118714                 0                   0                  0   \n",
       "129681                 0                   0                  0   \n",
       "143602                 0                   1                  0   \n",
       "\n",
       "        dayofweek_Wednesday  dayperiod_evening  dayperiod_night  id_crh  \\\n",
       "45007                     0                  0                1       0   \n",
       "35862                     0                  1                0       0   \n",
       "118714                    0                  0                1       0   \n",
       "129681                    1                  0                1       0   \n",
       "143602                    0                  0                0       0   \n",
       "\n",
       "        id_dgh  id_fmc  id_fsch  id_gnch  id_lch  id_mch  id_mhrh  id_nchc  \\\n",
       "45007        0       0        0        0       0       1        0        0   \n",
       "35862        0       0        0        0       0       0        0        0   \n",
       "118714       0       1        0        0       0       0        0        0   \n",
       "129681       0       0        0        0       0       0        0        1   \n",
       "143602       0       0        0        0       1       0        0        0   \n",
       "\n",
       "        id_plc  id_rah  id_rdrh  id_rgh  id_sch  id_schc  id_shc  id_stollery  \\\n",
       "45007        0       0        0       0       0        0       0            0   \n",
       "35862        0       0        0       0       0        0       0            0   \n",
       "118714       0       0        0       0       0        0       0            0   \n",
       "129681       0       0        0       0       0        0       0            0   \n",
       "143602       0       0        0       0       0        0       0            0   \n",
       "\n",
       "        id_uah  id_whc  city_Devon  city_Edmonton  city_Fort Saskatchewan  \\\n",
       "45007        0       0           0              1                       0   \n",
       "35862        1       0           0              1                       0   \n",
       "118714       0       0           0              0                       0   \n",
       "129681       0       0           0              1                       0   \n",
       "143602       0       0           0              0                       0   \n",
       "\n",
       "        city_Leduc  city_Lethbridge  city_Medicine Hat  city_Red Deer  \\\n",
       "45007            0                0                  0              0   \n",
       "35862            0                0                  0              0   \n",
       "118714           0                0                  0              0   \n",
       "129681           0                0                  0              0   \n",
       "143602           1                0                  0              0   \n",
       "\n",
       "        city_Sherwood Park  city_St. Albert  city_Stony Plain  citytype_urban  \n",
       "45007                    0                0                 0               1  \n",
       "35862                    0                0                 0               1  \n",
       "118714                   0                0                 0               1  \n",
       "129681                   0                0                 0               1  \n",
       "143602                   0                0                 0               0  "
      ]
     },
     "metadata": {},
     "output_type": "display_data"
    },
    {
     "name": "stdout",
     "output_type": "stream",
     "text": [
      "\n",
      "Shape of dataframe:\n",
      "(40740, 40)\n",
      "\n",
      "Columns of dataframe:\n",
      "Index(['weekofyear', 'hour', 'dayofweek_Monday', 'dayofweek_Saturday',\n",
      "       'dayofweek_Sunday', 'dayofweek_Thursday', 'dayofweek_Tuesday',\n",
      "       'dayofweek_Wednesday', 'dayperiod_evening', 'dayperiod_night', 'id_crh',\n",
      "       'id_dgh', 'id_fmc', 'id_fsch', 'id_gnch', 'id_lch', 'id_mch', 'id_mhrh',\n",
      "       'id_nchc', 'id_plc', 'id_rah', 'id_rdrh', 'id_rgh', 'id_sch', 'id_schc',\n",
      "       'id_shc', 'id_stollery', 'id_uah', 'id_whc', 'city_Devon',\n",
      "       'city_Edmonton', 'city_Fort Saskatchewan', 'city_Leduc',\n",
      "       'city_Lethbridge', 'city_Medicine Hat', 'city_Red Deer',\n",
      "       'city_Sherwood Park', 'city_St. Albert', 'city_Stony Plain',\n",
      "       'citytype_urban'],\n",
      "      dtype='object')\n",
      "\n",
      "dtypes of dataframe:\n",
      "weekofyear                category\n",
      "hour                         int32\n",
      "dayofweek_Monday             int32\n",
      "dayofweek_Saturday           int32\n",
      "dayofweek_Sunday             int32\n",
      "dayofweek_Thursday           int32\n",
      "dayofweek_Tuesday            int32\n",
      "dayofweek_Wednesday          int32\n",
      "dayperiod_evening            int32\n",
      "dayperiod_night              int32\n",
      "id_crh                       int32\n",
      "id_dgh                       int32\n",
      "id_fmc                       int32\n",
      "id_fsch                      int32\n",
      "id_gnch                      int32\n",
      "id_lch                       int32\n",
      "id_mch                       int32\n",
      "id_mhrh                      int32\n",
      "id_nchc                      int32\n",
      "id_plc                       int32\n",
      "id_rah                       int32\n",
      "id_rdrh                      int32\n",
      "id_rgh                       int32\n",
      "id_sch                       int32\n",
      "id_schc                      int32\n",
      "id_shc                       int32\n",
      "id_stollery                  int32\n",
      "id_uah                       int32\n",
      "id_whc                       int32\n",
      "city_Devon                   int32\n",
      "city_Edmonton                int32\n",
      "city_Fort Saskatchewan       int32\n",
      "city_Leduc                   int32\n",
      "city_Lethbridge              int32\n",
      "city_Medicine Hat            int32\n",
      "city_Red Deer                int32\n",
      "city_Sherwood Park           int32\n",
      "city_St. Albert              int32\n",
      "city_Stony Plain             int32\n",
      "citytype_urban               int32\n",
      "dtype: object\n"
     ]
    },
    {
     "data": {
      "text/html": [
       "<div>\n",
       "<style scoped>\n",
       "    .dataframe tbody tr th:only-of-type {\n",
       "        vertical-align: middle;\n",
       "    }\n",
       "\n",
       "    .dataframe tbody tr th {\n",
       "        vertical-align: top;\n",
       "    }\n",
       "\n",
       "    .dataframe thead th {\n",
       "        text-align: right;\n",
       "    }\n",
       "</style>\n",
       "<table border=\"1\" class=\"dataframe\">\n",
       "  <thead>\n",
       "    <tr style=\"text-align: right;\">\n",
       "      <th></th>\n",
       "      <th>weekofyear</th>\n",
       "      <th>hour</th>\n",
       "      <th>dayofweek_Monday</th>\n",
       "      <th>dayofweek_Saturday</th>\n",
       "      <th>dayofweek_Sunday</th>\n",
       "      <th>dayofweek_Thursday</th>\n",
       "      <th>dayofweek_Tuesday</th>\n",
       "      <th>dayofweek_Wednesday</th>\n",
       "      <th>dayperiod_evening</th>\n",
       "      <th>dayperiod_night</th>\n",
       "      <th>id_crh</th>\n",
       "      <th>id_dgh</th>\n",
       "      <th>id_fmc</th>\n",
       "      <th>id_fsch</th>\n",
       "      <th>id_gnch</th>\n",
       "      <th>id_lch</th>\n",
       "      <th>id_mch</th>\n",
       "      <th>id_mhrh</th>\n",
       "      <th>id_nchc</th>\n",
       "      <th>id_plc</th>\n",
       "      <th>id_rah</th>\n",
       "      <th>id_rdrh</th>\n",
       "      <th>id_rgh</th>\n",
       "      <th>id_sch</th>\n",
       "      <th>id_schc</th>\n",
       "      <th>id_shc</th>\n",
       "      <th>id_stollery</th>\n",
       "      <th>id_uah</th>\n",
       "      <th>id_whc</th>\n",
       "      <th>city_Devon</th>\n",
       "      <th>city_Edmonton</th>\n",
       "      <th>city_Fort Saskatchewan</th>\n",
       "      <th>city_Leduc</th>\n",
       "      <th>city_Lethbridge</th>\n",
       "      <th>city_Medicine Hat</th>\n",
       "      <th>city_Red Deer</th>\n",
       "      <th>city_Sherwood Park</th>\n",
       "      <th>city_St. Albert</th>\n",
       "      <th>city_Stony Plain</th>\n",
       "      <th>citytype_urban</th>\n",
       "    </tr>\n",
       "  </thead>\n",
       "  <tbody>\n",
       "    <tr>\n",
       "      <th>109432</th>\n",
       "      <td>12</td>\n",
       "      <td>23</td>\n",
       "      <td>0</td>\n",
       "      <td>0</td>\n",
       "      <td>0</td>\n",
       "      <td>1</td>\n",
       "      <td>0</td>\n",
       "      <td>0</td>\n",
       "      <td>1</td>\n",
       "      <td>0</td>\n",
       "      <td>0</td>\n",
       "      <td>0</td>\n",
       "      <td>0</td>\n",
       "      <td>0</td>\n",
       "      <td>0</td>\n",
       "      <td>0</td>\n",
       "      <td>1</td>\n",
       "      <td>0</td>\n",
       "      <td>0</td>\n",
       "      <td>0</td>\n",
       "      <td>0</td>\n",
       "      <td>0</td>\n",
       "      <td>0</td>\n",
       "      <td>0</td>\n",
       "      <td>0</td>\n",
       "      <td>0</td>\n",
       "      <td>0</td>\n",
       "      <td>0</td>\n",
       "      <td>0</td>\n",
       "      <td>0</td>\n",
       "      <td>1</td>\n",
       "      <td>0</td>\n",
       "      <td>0</td>\n",
       "      <td>0</td>\n",
       "      <td>0</td>\n",
       "      <td>0</td>\n",
       "      <td>0</td>\n",
       "      <td>0</td>\n",
       "      <td>0</td>\n",
       "      <td>1</td>\n",
       "    </tr>\n",
       "    <tr>\n",
       "      <th>59969</th>\n",
       "      <td>18</td>\n",
       "      <td>14</td>\n",
       "      <td>0</td>\n",
       "      <td>1</td>\n",
       "      <td>0</td>\n",
       "      <td>0</td>\n",
       "      <td>0</td>\n",
       "      <td>0</td>\n",
       "      <td>0</td>\n",
       "      <td>0</td>\n",
       "      <td>0</td>\n",
       "      <td>0</td>\n",
       "      <td>0</td>\n",
       "      <td>0</td>\n",
       "      <td>0</td>\n",
       "      <td>0</td>\n",
       "      <td>1</td>\n",
       "      <td>0</td>\n",
       "      <td>0</td>\n",
       "      <td>0</td>\n",
       "      <td>0</td>\n",
       "      <td>0</td>\n",
       "      <td>0</td>\n",
       "      <td>0</td>\n",
       "      <td>0</td>\n",
       "      <td>0</td>\n",
       "      <td>0</td>\n",
       "      <td>0</td>\n",
       "      <td>0</td>\n",
       "      <td>0</td>\n",
       "      <td>1</td>\n",
       "      <td>0</td>\n",
       "      <td>0</td>\n",
       "      <td>0</td>\n",
       "      <td>0</td>\n",
       "      <td>0</td>\n",
       "      <td>0</td>\n",
       "      <td>0</td>\n",
       "      <td>0</td>\n",
       "      <td>1</td>\n",
       "    </tr>\n",
       "    <tr>\n",
       "      <th>61225</th>\n",
       "      <td>21</td>\n",
       "      <td>5</td>\n",
       "      <td>0</td>\n",
       "      <td>1</td>\n",
       "      <td>0</td>\n",
       "      <td>0</td>\n",
       "      <td>0</td>\n",
       "      <td>0</td>\n",
       "      <td>0</td>\n",
       "      <td>1</td>\n",
       "      <td>0</td>\n",
       "      <td>0</td>\n",
       "      <td>0</td>\n",
       "      <td>0</td>\n",
       "      <td>1</td>\n",
       "      <td>0</td>\n",
       "      <td>0</td>\n",
       "      <td>0</td>\n",
       "      <td>0</td>\n",
       "      <td>0</td>\n",
       "      <td>0</td>\n",
       "      <td>0</td>\n",
       "      <td>0</td>\n",
       "      <td>0</td>\n",
       "      <td>0</td>\n",
       "      <td>0</td>\n",
       "      <td>0</td>\n",
       "      <td>0</td>\n",
       "      <td>0</td>\n",
       "      <td>0</td>\n",
       "      <td>1</td>\n",
       "      <td>0</td>\n",
       "      <td>0</td>\n",
       "      <td>0</td>\n",
       "      <td>0</td>\n",
       "      <td>0</td>\n",
       "      <td>0</td>\n",
       "      <td>0</td>\n",
       "      <td>0</td>\n",
       "      <td>1</td>\n",
       "    </tr>\n",
       "    <tr>\n",
       "      <th>117768</th>\n",
       "      <td>34</td>\n",
       "      <td>13</td>\n",
       "      <td>0</td>\n",
       "      <td>0</td>\n",
       "      <td>0</td>\n",
       "      <td>1</td>\n",
       "      <td>0</td>\n",
       "      <td>0</td>\n",
       "      <td>0</td>\n",
       "      <td>0</td>\n",
       "      <td>0</td>\n",
       "      <td>0</td>\n",
       "      <td>0</td>\n",
       "      <td>0</td>\n",
       "      <td>0</td>\n",
       "      <td>0</td>\n",
       "      <td>0</td>\n",
       "      <td>0</td>\n",
       "      <td>0</td>\n",
       "      <td>0</td>\n",
       "      <td>0</td>\n",
       "      <td>0</td>\n",
       "      <td>0</td>\n",
       "      <td>0</td>\n",
       "      <td>0</td>\n",
       "      <td>0</td>\n",
       "      <td>0</td>\n",
       "      <td>0</td>\n",
       "      <td>0</td>\n",
       "      <td>0</td>\n",
       "      <td>0</td>\n",
       "      <td>0</td>\n",
       "      <td>0</td>\n",
       "      <td>0</td>\n",
       "      <td>0</td>\n",
       "      <td>0</td>\n",
       "      <td>0</td>\n",
       "      <td>0</td>\n",
       "      <td>0</td>\n",
       "      <td>1</td>\n",
       "    </tr>\n",
       "    <tr>\n",
       "      <th>75800</th>\n",
       "      <td>49</td>\n",
       "      <td>6</td>\n",
       "      <td>0</td>\n",
       "      <td>1</td>\n",
       "      <td>0</td>\n",
       "      <td>0</td>\n",
       "      <td>0</td>\n",
       "      <td>0</td>\n",
       "      <td>0</td>\n",
       "      <td>1</td>\n",
       "      <td>0</td>\n",
       "      <td>0</td>\n",
       "      <td>0</td>\n",
       "      <td>0</td>\n",
       "      <td>0</td>\n",
       "      <td>0</td>\n",
       "      <td>0</td>\n",
       "      <td>0</td>\n",
       "      <td>0</td>\n",
       "      <td>0</td>\n",
       "      <td>0</td>\n",
       "      <td>0</td>\n",
       "      <td>0</td>\n",
       "      <td>0</td>\n",
       "      <td>0</td>\n",
       "      <td>1</td>\n",
       "      <td>0</td>\n",
       "      <td>0</td>\n",
       "      <td>0</td>\n",
       "      <td>0</td>\n",
       "      <td>0</td>\n",
       "      <td>0</td>\n",
       "      <td>0</td>\n",
       "      <td>0</td>\n",
       "      <td>0</td>\n",
       "      <td>0</td>\n",
       "      <td>0</td>\n",
       "      <td>0</td>\n",
       "      <td>0</td>\n",
       "      <td>1</td>\n",
       "    </tr>\n",
       "  </tbody>\n",
       "</table>\n",
       "</div>"
      ],
      "text/plain": [
       "       weekofyear  hour  dayofweek_Monday  dayofweek_Saturday  \\\n",
       "109432         12    23                 0                   0   \n",
       "59969          18    14                 0                   1   \n",
       "61225          21     5                 0                   1   \n",
       "117768         34    13                 0                   0   \n",
       "75800          49     6                 0                   1   \n",
       "\n",
       "        dayofweek_Sunday  dayofweek_Thursday  dayofweek_Tuesday  \\\n",
       "109432                 0                   1                  0   \n",
       "59969                  0                   0                  0   \n",
       "61225                  0                   0                  0   \n",
       "117768                 0                   1                  0   \n",
       "75800                  0                   0                  0   \n",
       "\n",
       "        dayofweek_Wednesday  dayperiod_evening  dayperiod_night  id_crh  \\\n",
       "109432                    0                  1                0       0   \n",
       "59969                     0                  0                0       0   \n",
       "61225                     0                  0                1       0   \n",
       "117768                    0                  0                0       0   \n",
       "75800                     0                  0                1       0   \n",
       "\n",
       "        id_dgh  id_fmc  id_fsch  id_gnch  id_lch  id_mch  id_mhrh  id_nchc  \\\n",
       "109432       0       0        0        0       0       1        0        0   \n",
       "59969        0       0        0        0       0       1        0        0   \n",
       "61225        0       0        0        1       0       0        0        0   \n",
       "117768       0       0        0        0       0       0        0        0   \n",
       "75800        0       0        0        0       0       0        0        0   \n",
       "\n",
       "        id_plc  id_rah  id_rdrh  id_rgh  id_sch  id_schc  id_shc  id_stollery  \\\n",
       "109432       0       0        0       0       0        0       0            0   \n",
       "59969        0       0        0       0       0        0       0            0   \n",
       "61225        0       0        0       0       0        0       0            0   \n",
       "117768       0       0        0       0       0        0       0            0   \n",
       "75800        0       0        0       0       0        0       1            0   \n",
       "\n",
       "        id_uah  id_whc  city_Devon  city_Edmonton  city_Fort Saskatchewan  \\\n",
       "109432       0       0           0              1                       0   \n",
       "59969        0       0           0              1                       0   \n",
       "61225        0       0           0              1                       0   \n",
       "117768       0       0           0              0                       0   \n",
       "75800        0       0           0              0                       0   \n",
       "\n",
       "        city_Leduc  city_Lethbridge  city_Medicine Hat  city_Red Deer  \\\n",
       "109432           0                0                  0              0   \n",
       "59969            0                0                  0              0   \n",
       "61225            0                0                  0              0   \n",
       "117768           0                0                  0              0   \n",
       "75800            0                0                  0              0   \n",
       "\n",
       "        city_Sherwood Park  city_St. Albert  city_Stony Plain  citytype_urban  \n",
       "109432                   0                0                 0               1  \n",
       "59969                    0                0                 0               1  \n",
       "61225                    0                0                 0               1  \n",
       "117768                   0                0                 0               1  \n",
       "75800                    0                0                 0               1  "
      ]
     },
     "metadata": {},
     "output_type": "display_data"
    },
    {
     "name": "stdout",
     "output_type": "stream",
     "text": [
      "\n",
      "Shape of dataframe:\n",
      "(36386, 40)\n",
      "\n",
      "Columns of dataframe:\n",
      "Index(['weekofyear', 'hour', 'dayofweek_Monday', 'dayofweek_Saturday',\n",
      "       'dayofweek_Sunday', 'dayofweek_Thursday', 'dayofweek_Tuesday',\n",
      "       'dayofweek_Wednesday', 'dayperiod_evening', 'dayperiod_night', 'id_crh',\n",
      "       'id_dgh', 'id_fmc', 'id_fsch', 'id_gnch', 'id_lch', 'id_mch', 'id_mhrh',\n",
      "       'id_nchc', 'id_plc', 'id_rah', 'id_rdrh', 'id_rgh', 'id_sch', 'id_schc',\n",
      "       'id_shc', 'id_stollery', 'id_uah', 'id_whc', 'city_Devon',\n",
      "       'city_Edmonton', 'city_Fort Saskatchewan', 'city_Leduc',\n",
      "       'city_Lethbridge', 'city_Medicine Hat', 'city_Red Deer',\n",
      "       'city_Sherwood Park', 'city_St. Albert', 'city_Stony Plain',\n",
      "       'citytype_urban'],\n",
      "      dtype='object')\n",
      "\n",
      "dtypes of dataframe:\n",
      "weekofyear                category\n",
      "hour                         int32\n",
      "dayofweek_Monday             int32\n",
      "dayofweek_Saturday           int32\n",
      "dayofweek_Sunday             int32\n",
      "dayofweek_Thursday           int32\n",
      "dayofweek_Tuesday            int32\n",
      "dayofweek_Wednesday          int32\n",
      "dayperiod_evening            int32\n",
      "dayperiod_night              int32\n",
      "id_crh                       int32\n",
      "id_dgh                       int32\n",
      "id_fmc                       int32\n",
      "id_fsch                      int32\n",
      "id_gnch                      int32\n",
      "id_lch                       int32\n",
      "id_mch                       int32\n",
      "id_mhrh                      int32\n",
      "id_nchc                      int32\n",
      "id_plc                       int32\n",
      "id_rah                       int32\n",
      "id_rdrh                      int32\n",
      "id_rgh                       int32\n",
      "id_sch                       int32\n",
      "id_schc                      int32\n",
      "id_shc                       int32\n",
      "id_stollery                  int32\n",
      "id_uah                       int32\n",
      "id_whc                       int32\n",
      "city_Devon                   int32\n",
      "city_Edmonton                int32\n",
      "city_Fort Saskatchewan       int32\n",
      "city_Leduc                   int32\n",
      "city_Lethbridge              int32\n",
      "city_Medicine Hat            int32\n",
      "city_Red Deer                int32\n",
      "city_Sherwood Park           int32\n",
      "city_St. Albert              int32\n",
      "city_Stony Plain             int32\n",
      "citytype_urban               int32\n",
      "dtype: object\n"
     ]
    }
   ],
   "source": [
    "Utility.display_df_general_info(X_train_balanced)\n",
    "Utility.display_df_general_info(X_test)"
   ]
  },
  {
   "cell_type": "code",
   "execution_count": 34,
   "metadata": {},
   "outputs": [
    {
     "name": "stdout",
     "output_type": "stream",
     "text": [
      "type(X_model): <class 'pandas.core.frame.DataFrame'>\n",
      "type(y_model): <class 'pandas.core.series.Series'>\n",
      "type(X_train): <class 'pandas.core.frame.DataFrame'>\n",
      "type(y_train): <class 'pandas.core.series.Series'>\n",
      "type(X_test): <class 'pandas.core.frame.DataFrame'>\n",
      "type(y_test): <class 'pandas.core.series.Series'>\n",
      "X_model.shape[0]: 181926\n",
      "y_model.shape[0]: 181926\n",
      "X_train.shape[0]: 145540\n",
      "y_train.shape[0]: 145540\n",
      "X_train_balanced.shape[0]: 40740\n",
      "y_train_balanced.shape[0]: 40740\n",
      "X_test.shape[0]: 36386\n",
      "y_test.shape[0]: 36386\n"
     ]
    }
   ],
   "source": [
    "# Check what are the types and numbers in each of the 6 items I just created:\n",
    "print(f\"type(X_model): {type(X_model)}\")\n",
    "print(f\"type(y_model): {type(y_model)}\")\n",
    "\n",
    "print(f\"type(X_train): {type(X_train)}\")\n",
    "print(f\"type(y_train): {type(y_train)}\")\n",
    "\n",
    "print(f\"type(X_test): {type(X_test)}\")\n",
    "print(f\"type(y_test): {type(y_test)}\")\n",
    "\n",
    "print(f\"X_model.shape[0]: {X_model.shape[0]}\")\n",
    "print(f\"y_model.shape[0]: {y_model.shape[0]}\")\n",
    "\n",
    "print(f\"X_train.shape[0]: {X_train.shape[0]}\")\n",
    "print(f\"y_train.shape[0]: {y_train.shape[0]}\")\n",
    "\n",
    "print(f\"X_train_balanced.shape[0]: {X_train_balanced.shape[0]}\")\n",
    "print(f\"y_train_balanced.shape[0]: {y_train_balanced.shape[0]}\")\n",
    "\n",
    "print(f\"X_test.shape[0]: {X_test.shape[0]}\")\n",
    "print(f\"y_test.shape[0]: {y_test.shape[0]}\")"
   ]
  },
  {
   "cell_type": "markdown",
   "metadata": {},
   "source": [
    "Check class distributions in y_train and y_test after the SMOTE and RandomUnderSampler and train_test_split "
   ]
  },
  {
   "cell_type": "code",
   "execution_count": 35,
   "metadata": {},
   "outputs": [
    {
     "name": "stdout",
     "output_type": "stream",
     "text": [
      "y_train_counter: Counter({0: 27160, 1: 13580}), 0: 66.66666666666666, 1: 33.33333333333333\n",
      "y_test_counter: Counter({0: 33863, 1: 2523}), 0: 93.06601440114329, 1: 6.933985598856703\n"
     ]
    }
   ],
   "source": [
    "Utility.display_class_balance(y_train_balanced, y_test)"
   ]
  },
  {
   "cell_type": "markdown",
   "metadata": {},
   "source": [
    "## Build Logistic Regression model: \"hourint\""
   ]
  },
  {
   "cell_type": "code",
   "execution_count": 36,
   "metadata": {},
   "outputs": [
    {
     "data": {
      "text/html": [
       "<style>#sk-container-id-3 {color: black;background-color: white;}#sk-container-id-3 pre{padding: 0;}#sk-container-id-3 div.sk-toggleable {background-color: white;}#sk-container-id-3 label.sk-toggleable__label {cursor: pointer;display: block;width: 100%;margin-bottom: 0;padding: 0.3em;box-sizing: border-box;text-align: center;}#sk-container-id-3 label.sk-toggleable__label-arrow:before {content: \"▸\";float: left;margin-right: 0.25em;color: #696969;}#sk-container-id-3 label.sk-toggleable__label-arrow:hover:before {color: black;}#sk-container-id-3 div.sk-estimator:hover label.sk-toggleable__label-arrow:before {color: black;}#sk-container-id-3 div.sk-toggleable__content {max-height: 0;max-width: 0;overflow: hidden;text-align: left;background-color: #f0f8ff;}#sk-container-id-3 div.sk-toggleable__content pre {margin: 0.2em;color: black;border-radius: 0.25em;background-color: #f0f8ff;}#sk-container-id-3 input.sk-toggleable__control:checked~div.sk-toggleable__content {max-height: 200px;max-width: 100%;overflow: auto;}#sk-container-id-3 input.sk-toggleable__control:checked~label.sk-toggleable__label-arrow:before {content: \"▾\";}#sk-container-id-3 div.sk-estimator input.sk-toggleable__control:checked~label.sk-toggleable__label {background-color: #d4ebff;}#sk-container-id-3 div.sk-label input.sk-toggleable__control:checked~label.sk-toggleable__label {background-color: #d4ebff;}#sk-container-id-3 input.sk-hidden--visually {border: 0;clip: rect(1px 1px 1px 1px);clip: rect(1px, 1px, 1px, 1px);height: 1px;margin: -1px;overflow: hidden;padding: 0;position: absolute;width: 1px;}#sk-container-id-3 div.sk-estimator {font-family: monospace;background-color: #f0f8ff;border: 1px dotted black;border-radius: 0.25em;box-sizing: border-box;margin-bottom: 0.5em;}#sk-container-id-3 div.sk-estimator:hover {background-color: #d4ebff;}#sk-container-id-3 div.sk-parallel-item::after {content: \"\";width: 100%;border-bottom: 1px solid gray;flex-grow: 1;}#sk-container-id-3 div.sk-label:hover label.sk-toggleable__label {background-color: #d4ebff;}#sk-container-id-3 div.sk-serial::before {content: \"\";position: absolute;border-left: 1px solid gray;box-sizing: border-box;top: 0;bottom: 0;left: 50%;z-index: 0;}#sk-container-id-3 div.sk-serial {display: flex;flex-direction: column;align-items: center;background-color: white;padding-right: 0.2em;padding-left: 0.2em;position: relative;}#sk-container-id-3 div.sk-item {position: relative;z-index: 1;}#sk-container-id-3 div.sk-parallel {display: flex;align-items: stretch;justify-content: center;background-color: white;position: relative;}#sk-container-id-3 div.sk-item::before, #sk-container-id-3 div.sk-parallel-item::before {content: \"\";position: absolute;border-left: 1px solid gray;box-sizing: border-box;top: 0;bottom: 0;left: 50%;z-index: -1;}#sk-container-id-3 div.sk-parallel-item {display: flex;flex-direction: column;z-index: 1;position: relative;background-color: white;}#sk-container-id-3 div.sk-parallel-item:first-child::after {align-self: flex-end;width: 50%;}#sk-container-id-3 div.sk-parallel-item:last-child::after {align-self: flex-start;width: 50%;}#sk-container-id-3 div.sk-parallel-item:only-child::after {width: 0;}#sk-container-id-3 div.sk-dashed-wrapped {border: 1px dashed gray;margin: 0 0.4em 0.5em 0.4em;box-sizing: border-box;padding-bottom: 0.4em;background-color: white;}#sk-container-id-3 div.sk-label label {font-family: monospace;font-weight: bold;display: inline-block;line-height: 1.2em;}#sk-container-id-3 div.sk-label-container {text-align: center;}#sk-container-id-3 div.sk-container {/* jupyter's `normalize.less` sets `[hidden] { display: none; }` but bootstrap.min.css set `[hidden] { display: none !important; }` so we also need the `!important` here to be able to override the default hidden behavior on the sphinx rendered scikit-learn.org. See: https://github.com/scikit-learn/scikit-learn/issues/21755 */display: inline-block !important;position: relative;}#sk-container-id-3 div.sk-text-repr-fallback {display: none;}</style><div id=\"sk-container-id-3\" class=\"sk-top-container\"><div class=\"sk-text-repr-fallback\"><pre>LogisticRegression(max_iter=1000, random_state=42)</pre><b>In a Jupyter environment, please rerun this cell to show the HTML representation or trust the notebook. <br />On GitHub, the HTML representation is unable to render, please try loading this page with nbviewer.org.</b></div><div class=\"sk-container\" hidden><div class=\"sk-item\"><div class=\"sk-estimator sk-toggleable\"><input class=\"sk-toggleable__control sk-hidden--visually\" id=\"sk-estimator-id-3\" type=\"checkbox\" checked><label for=\"sk-estimator-id-3\" class=\"sk-toggleable__label sk-toggleable__label-arrow\">LogisticRegression</label><div class=\"sk-toggleable__content\"><pre>LogisticRegression(max_iter=1000, random_state=42)</pre></div></div></div></div></div>"
      ],
      "text/plain": [
       "LogisticRegression(max_iter=1000, random_state=42)"
      ]
     },
     "execution_count": 36,
     "metadata": {},
     "output_type": "execute_result"
    }
   ],
   "source": [
    "hourint_clf = LogisticRegression(random_state=Utility.RANDOM_STATE_CONST, max_iter=1000)\n",
    "hourint_clf.fit(X_train_balanced, y_train_balanced)"
   ]
  },
  {
   "cell_type": "code",
   "execution_count": 37,
   "metadata": {},
   "outputs": [],
   "source": [
    "# Get predictions for X_train and X_test\n",
    "y_train_pred = hourint_clf.predict(X_train_balanced)\n",
    "y_test_pred = hourint_clf.predict(X_test)"
   ]
  },
  {
   "cell_type": "markdown",
   "metadata": {},
   "source": [
    "## Evaluate model performance: \"hourint\""
   ]
  },
  {
   "cell_type": "markdown",
   "metadata": {},
   "source": [
    "Confusion Matrix"
   ]
  },
  {
   "cell_type": "code",
   "execution_count": 38,
   "metadata": {},
   "outputs": [
    {
     "name": "stdout",
     "output_type": "stream",
     "text": [
      "\n",
      "Results on TRAINING data:\n"
     ]
    },
    {
     "data": {
      "text/html": [
       "<div>\n",
       "<style scoped>\n",
       "    .dataframe tbody tr th:only-of-type {\n",
       "        vertical-align: middle;\n",
       "    }\n",
       "\n",
       "    .dataframe tbody tr th {\n",
       "        vertical-align: top;\n",
       "    }\n",
       "\n",
       "    .dataframe thead th {\n",
       "        text-align: right;\n",
       "    }\n",
       "</style>\n",
       "<table border=\"1\" class=\"dataframe\">\n",
       "  <thead>\n",
       "    <tr style=\"text-align: right;\">\n",
       "      <th></th>\n",
       "      <th>Predicted Positive</th>\n",
       "      <th>Predicted Negative</th>\n",
       "    </tr>\n",
       "  </thead>\n",
       "  <tbody>\n",
       "    <tr>\n",
       "      <th>Actual Positive</th>\n",
       "      <td>9018</td>\n",
       "      <td>4562</td>\n",
       "    </tr>\n",
       "    <tr>\n",
       "      <th>Actual Negative</th>\n",
       "      <td>4205</td>\n",
       "      <td>22955</td>\n",
       "    </tr>\n",
       "  </tbody>\n",
       "</table>\n",
       "</div>"
      ],
      "text/plain": [
       "                 Predicted Positive  Predicted Negative\n",
       "Actual Positive                9018                4562\n",
       "Actual Negative                4205               22955"
      ]
     },
     "metadata": {},
     "output_type": "display_data"
    },
    {
     "name": "stdout",
     "output_type": "stream",
     "text": [
      "\n",
      "Results on TEST data:\n"
     ]
    },
    {
     "data": {
      "text/html": [
       "<div>\n",
       "<style scoped>\n",
       "    .dataframe tbody tr th:only-of-type {\n",
       "        vertical-align: middle;\n",
       "    }\n",
       "\n",
       "    .dataframe tbody tr th {\n",
       "        vertical-align: top;\n",
       "    }\n",
       "\n",
       "    .dataframe thead th {\n",
       "        text-align: right;\n",
       "    }\n",
       "</style>\n",
       "<table border=\"1\" class=\"dataframe\">\n",
       "  <thead>\n",
       "    <tr style=\"text-align: right;\">\n",
       "      <th></th>\n",
       "      <th>Predicted Positive</th>\n",
       "      <th>Predicted Negative</th>\n",
       "    </tr>\n",
       "  </thead>\n",
       "  <tbody>\n",
       "    <tr>\n",
       "      <th>Actual Positive</th>\n",
       "      <td>1587</td>\n",
       "      <td>936</td>\n",
       "    </tr>\n",
       "    <tr>\n",
       "      <th>Actual Negative</th>\n",
       "      <td>5245</td>\n",
       "      <td>28618</td>\n",
       "    </tr>\n",
       "  </tbody>\n",
       "</table>\n",
       "</div>"
      ],
      "text/plain": [
       "                 Predicted Positive  Predicted Negative\n",
       "Actual Positive                1587                 936\n",
       "Actual Negative                5245               28618"
      ]
     },
     "metadata": {},
     "output_type": "display_data"
    }
   ],
   "source": [
    "# Confusion Matrix\n",
    "print(\"\\nResults on TRAINING data:\")\n",
    "hourint_train_cm = Utility.print_confusion_matrix_with_labels(y_train_balanced, y_train_pred)\n",
    "\n",
    "print(\"\\nResults on TEST data:\")\n",
    "hourint_test_cm = Utility.print_confusion_matrix_with_labels(y_test, y_test_pred)"
   ]
  },
  {
   "cell_type": "markdown",
   "metadata": {},
   "source": [
    "ROC Curve"
   ]
  },
  {
   "cell_type": "code",
   "execution_count": 39,
   "metadata": {},
   "outputs": [
    {
     "name": "stdout",
     "output_type": "stream",
     "text": [
      "\n",
      "Results on TRAINING data:\n"
     ]
    },
    {
     "data": {
      "image/png": "[encoded data removed]",
      "text/plain": [
       "<Figure size 640x480 with 1 Axes>"
      ]
     },
     "metadata": {},
     "output_type": "display_data"
    },
    {
     "name": "stdout",
     "output_type": "stream",
     "text": [
      "\n",
      "Results on TEST data:\n"
     ]
    },
    {
     "data": {
      "image/png": "[encoded data removed]",
      "text/plain": [
       "<Figure size 640x480 with 1 Axes>"
      ]
     },
     "metadata": {},
     "output_type": "display_data"
    }
   ],
   "source": [
    "# ROC Curve\n",
    "print(\"\\nResults on TRAINING data:\")\n",
    "y_train_probs_positive = hourint_clf.predict_proba(X_train_balanced)[:,1]\n",
    "train_fpr, train_tpr, train_thresholds = roc_curve(y_train_balanced, y_train_probs_positive)\n",
    "Utility.plot_roc_curve(train_fpr, train_tpr)\n",
    "\n",
    "print(\"\\nResults on TEST data:\")\n",
    "y_test_probs_positive = hourint_clf.predict_proba(X_test)[:,1]\n",
    "test_fpr, test_tpr, test_thresholds = roc_curve(y_test, y_test_probs_positive)\n",
    "Utility.plot_roc_curve(test_fpr, test_tpr)"
   ]
  },
  {
   "cell_type": "markdown",
   "metadata": {},
   "source": [
    "Classification Scores"
   ]
  },
  {
   "cell_type": "code",
   "execution_count": 40,
   "metadata": {},
   "outputs": [
    {
     "name": "stdout",
     "output_type": "stream",
     "text": [
      "\n",
      "Results on TRAINING data:\n"
     ]
    },
    {
     "name": "stdout",
     "output_type": "stream",
     "text": [
      "Accuracy            :      78.48%\n",
      "Precision           :       0.68\n",
      "Recall              :       0.66\n",
      "F1 score            :       0.67\n",
      "F1 (macro) score    :       0.76\n",
      "F1 (weighted) score :       0.78\n",
      "ROC-AUC             :       0.75\n",
      "\n",
      "Results on TEST data:\n",
      "Accuracy            :      83.01%\n",
      "Precision           :       0.23\n",
      "Recall              :       0.63\n",
      "F1 score            :       0.34\n",
      "F1 (macro) score    :       0.62\n",
      "F1 (weighted) score :       0.86\n",
      "ROC-AUC             :       0.74\n"
     ]
    }
   ],
   "source": [
    "# Scores\n",
    "print(\"\\nResults on TRAINING data:\")\n",
    "hourint_train_scores = Utility.evaluate_preds(y_train_balanced, y_train_pred)\n",
    "\n",
    "print(\"\\nResults on TEST data:\")\n",
    "hourint_test_scores = Utility.evaluate_preds(y_test, y_test_pred)"
   ]
  },
  {
   "cell_type": "markdown",
   "metadata": {},
   "source": [
    "Finding: Changing the 'hour' to an int type did not appear to affect the model performance/scores at all."
   ]
  },
  {
   "cell_type": "markdown",
   "metadata": {},
   "source": [
    "# Model: \"simplify\""
   ]
  },
  {
   "cell_type": "markdown",
   "metadata": {},
   "source": [
    "Recall this experiement/model has these characteristics:\n",
    "* 'hour' will be turned into `int` datatype (Note: I later checked, and confirmed it doesn't make any difference in this scenario if `hour` is a `category`)\n",
    "* the 'dayperiod' column, which is collinear with the 'hour' column, is removed\n",
    "    - this can more easily be done without starting from the original non-one-hot-encoded dataframe, by removing the one-hot-encoded columns associated to 'dayperiod' for each of `X_train_balanced` and `X_test_balanced`, which are:\n",
    "        - 'dayperiod_evening'\n",
    "        - 'dayperiod_night'\n",
    "* still using X_train_balanced, y_train_balanced which is from `SMOTE` and `RandomUnderSampler` use to reduce class imbalance"
   ]
  },
  {
   "cell_type": "markdown",
   "metadata": {},
   "source": [
    "Ensure 'hour' is to `int` dtype in both:\n",
    "* X_train_balanced\n",
    "* X_test"
   ]
  },
  {
   "cell_type": "code",
   "execution_count": 41,
   "metadata": {},
   "outputs": [],
   "source": [
    "X_train_balanced['hour'] = X_train_balanced['hour'].astype('int')\n",
    "X_test['hour'] = X_test['hour'].astype('int')\n",
    "\n",
    "#X_train_balanced['hour'] = X_train_balanced['hour'].astype('category')  # I did try this later; it made no difference to model evaluation scores\n",
    "#X_test['hour'] = X_test['hour'].astype('category')  # I did try this later; it made no difference to model evaluation scores\n",
    "\n",
    "#X_train_balanced['weekofyear'] = X_train_balanced['weekofyear'].astype('category')  # This is already in place from initial preparation of data before 'baseline' model\n",
    "#X_test['weekofyear'] = X_test['weekofyear'].astype('category') # This is already in place from initial preparation of data before 'baseline' model"
   ]
  },
  {
   "cell_type": "markdown",
   "metadata": {},
   "source": [
    "Remove `dayperiod_evening` and `dayperiod_night` columns from X_train_balanced and X_test"
   ]
  },
  {
   "cell_type": "code",
   "execution_count": 42,
   "metadata": {},
   "outputs": [],
   "source": [
    "X_train_balanced_simplify = X_train_balanced.copy()\n",
    "X_train_balanced_simplify.drop(['dayperiod_evening', 'dayperiod_night'], axis=1, inplace=True)\n",
    "\n",
    "X_test_simplify = X_test.copy()\n",
    "X_test_simplify.drop(['dayperiod_evening', 'dayperiod_night'], axis=1, inplace=True)"
   ]
  },
  {
   "cell_type": "markdown",
   "metadata": {},
   "source": [
    "How does the dataframe look?\n",
    "* X_train_balanced_simplify\n",
    "* X_test_simplify"
   ]
  },
  {
   "cell_type": "code",
   "execution_count": 43,
   "metadata": {},
   "outputs": [
    {
     "data": {
      "text/html": [
       "<div>\n",
       "<style scoped>\n",
       "    .dataframe tbody tr th:only-of-type {\n",
       "        vertical-align: middle;\n",
       "    }\n",
       "\n",
       "    .dataframe tbody tr th {\n",
       "        vertical-align: top;\n",
       "    }\n",
       "\n",
       "    .dataframe thead th {\n",
       "        text-align: right;\n",
       "    }\n",
       "</style>\n",
       "<table border=\"1\" class=\"dataframe\">\n",
       "  <thead>\n",
       "    <tr style=\"text-align: right;\">\n",
       "      <th></th>\n",
       "      <th>weekofyear</th>\n",
       "      <th>hour</th>\n",
       "      <th>dayofweek_Monday</th>\n",
       "      <th>dayofweek_Saturday</th>\n",
       "      <th>dayofweek_Sunday</th>\n",
       "      <th>dayofweek_Thursday</th>\n",
       "      <th>dayofweek_Tuesday</th>\n",
       "      <th>dayofweek_Wednesday</th>\n",
       "      <th>id_crh</th>\n",
       "      <th>id_dgh</th>\n",
       "      <th>id_fmc</th>\n",
       "      <th>id_fsch</th>\n",
       "      <th>id_gnch</th>\n",
       "      <th>id_lch</th>\n",
       "      <th>id_mch</th>\n",
       "      <th>id_mhrh</th>\n",
       "      <th>id_nchc</th>\n",
       "      <th>id_plc</th>\n",
       "      <th>id_rah</th>\n",
       "      <th>id_rdrh</th>\n",
       "      <th>id_rgh</th>\n",
       "      <th>id_sch</th>\n",
       "      <th>id_schc</th>\n",
       "      <th>id_shc</th>\n",
       "      <th>id_stollery</th>\n",
       "      <th>id_uah</th>\n",
       "      <th>id_whc</th>\n",
       "      <th>city_Devon</th>\n",
       "      <th>city_Edmonton</th>\n",
       "      <th>city_Fort Saskatchewan</th>\n",
       "      <th>city_Leduc</th>\n",
       "      <th>city_Lethbridge</th>\n",
       "      <th>city_Medicine Hat</th>\n",
       "      <th>city_Red Deer</th>\n",
       "      <th>city_Sherwood Park</th>\n",
       "      <th>city_St. Albert</th>\n",
       "      <th>city_Stony Plain</th>\n",
       "      <th>citytype_urban</th>\n",
       "    </tr>\n",
       "  </thead>\n",
       "  <tbody>\n",
       "    <tr>\n",
       "      <th>45007</th>\n",
       "      <td>50</td>\n",
       "      <td>0</td>\n",
       "      <td>0</td>\n",
       "      <td>0</td>\n",
       "      <td>0</td>\n",
       "      <td>1</td>\n",
       "      <td>0</td>\n",
       "      <td>0</td>\n",
       "      <td>0</td>\n",
       "      <td>0</td>\n",
       "      <td>0</td>\n",
       "      <td>0</td>\n",
       "      <td>0</td>\n",
       "      <td>0</td>\n",
       "      <td>1</td>\n",
       "      <td>0</td>\n",
       "      <td>0</td>\n",
       "      <td>0</td>\n",
       "      <td>0</td>\n",
       "      <td>0</td>\n",
       "      <td>0</td>\n",
       "      <td>0</td>\n",
       "      <td>0</td>\n",
       "      <td>0</td>\n",
       "      <td>0</td>\n",
       "      <td>0</td>\n",
       "      <td>0</td>\n",
       "      <td>0</td>\n",
       "      <td>1</td>\n",
       "      <td>0</td>\n",
       "      <td>0</td>\n",
       "      <td>0</td>\n",
       "      <td>0</td>\n",
       "      <td>0</td>\n",
       "      <td>0</td>\n",
       "      <td>0</td>\n",
       "      <td>0</td>\n",
       "      <td>1</td>\n",
       "    </tr>\n",
       "    <tr>\n",
       "      <th>35862</th>\n",
       "      <td>12</td>\n",
       "      <td>19</td>\n",
       "      <td>0</td>\n",
       "      <td>0</td>\n",
       "      <td>0</td>\n",
       "      <td>0</td>\n",
       "      <td>1</td>\n",
       "      <td>0</td>\n",
       "      <td>0</td>\n",
       "      <td>0</td>\n",
       "      <td>0</td>\n",
       "      <td>0</td>\n",
       "      <td>0</td>\n",
       "      <td>0</td>\n",
       "      <td>0</td>\n",
       "      <td>0</td>\n",
       "      <td>0</td>\n",
       "      <td>0</td>\n",
       "      <td>0</td>\n",
       "      <td>0</td>\n",
       "      <td>0</td>\n",
       "      <td>0</td>\n",
       "      <td>0</td>\n",
       "      <td>0</td>\n",
       "      <td>0</td>\n",
       "      <td>1</td>\n",
       "      <td>0</td>\n",
       "      <td>0</td>\n",
       "      <td>1</td>\n",
       "      <td>0</td>\n",
       "      <td>0</td>\n",
       "      <td>0</td>\n",
       "      <td>0</td>\n",
       "      <td>0</td>\n",
       "      <td>0</td>\n",
       "      <td>0</td>\n",
       "      <td>0</td>\n",
       "      <td>1</td>\n",
       "    </tr>\n",
       "    <tr>\n",
       "      <th>118714</th>\n",
       "      <td>21</td>\n",
       "      <td>6</td>\n",
       "      <td>1</td>\n",
       "      <td>0</td>\n",
       "      <td>0</td>\n",
       "      <td>0</td>\n",
       "      <td>0</td>\n",
       "      <td>0</td>\n",
       "      <td>0</td>\n",
       "      <td>0</td>\n",
       "      <td>1</td>\n",
       "      <td>0</td>\n",
       "      <td>0</td>\n",
       "      <td>0</td>\n",
       "      <td>0</td>\n",
       "      <td>0</td>\n",
       "      <td>0</td>\n",
       "      <td>0</td>\n",
       "      <td>0</td>\n",
       "      <td>0</td>\n",
       "      <td>0</td>\n",
       "      <td>0</td>\n",
       "      <td>0</td>\n",
       "      <td>0</td>\n",
       "      <td>0</td>\n",
       "      <td>0</td>\n",
       "      <td>0</td>\n",
       "      <td>0</td>\n",
       "      <td>0</td>\n",
       "      <td>0</td>\n",
       "      <td>0</td>\n",
       "      <td>0</td>\n",
       "      <td>0</td>\n",
       "      <td>0</td>\n",
       "      <td>0</td>\n",
       "      <td>0</td>\n",
       "      <td>0</td>\n",
       "      <td>1</td>\n",
       "    </tr>\n",
       "    <tr>\n",
       "      <th>129681</th>\n",
       "      <td>40</td>\n",
       "      <td>3</td>\n",
       "      <td>0</td>\n",
       "      <td>0</td>\n",
       "      <td>0</td>\n",
       "      <td>0</td>\n",
       "      <td>0</td>\n",
       "      <td>1</td>\n",
       "      <td>0</td>\n",
       "      <td>0</td>\n",
       "      <td>0</td>\n",
       "      <td>0</td>\n",
       "      <td>0</td>\n",
       "      <td>0</td>\n",
       "      <td>0</td>\n",
       "      <td>0</td>\n",
       "      <td>1</td>\n",
       "      <td>0</td>\n",
       "      <td>0</td>\n",
       "      <td>0</td>\n",
       "      <td>0</td>\n",
       "      <td>0</td>\n",
       "      <td>0</td>\n",
       "      <td>0</td>\n",
       "      <td>0</td>\n",
       "      <td>0</td>\n",
       "      <td>0</td>\n",
       "      <td>0</td>\n",
       "      <td>1</td>\n",
       "      <td>0</td>\n",
       "      <td>0</td>\n",
       "      <td>0</td>\n",
       "      <td>0</td>\n",
       "      <td>0</td>\n",
       "      <td>0</td>\n",
       "      <td>0</td>\n",
       "      <td>0</td>\n",
       "      <td>1</td>\n",
       "    </tr>\n",
       "    <tr>\n",
       "      <th>143602</th>\n",
       "      <td>35</td>\n",
       "      <td>8</td>\n",
       "      <td>0</td>\n",
       "      <td>0</td>\n",
       "      <td>0</td>\n",
       "      <td>1</td>\n",
       "      <td>0</td>\n",
       "      <td>0</td>\n",
       "      <td>0</td>\n",
       "      <td>0</td>\n",
       "      <td>0</td>\n",
       "      <td>0</td>\n",
       "      <td>0</td>\n",
       "      <td>1</td>\n",
       "      <td>0</td>\n",
       "      <td>0</td>\n",
       "      <td>0</td>\n",
       "      <td>0</td>\n",
       "      <td>0</td>\n",
       "      <td>0</td>\n",
       "      <td>0</td>\n",
       "      <td>0</td>\n",
       "      <td>0</td>\n",
       "      <td>0</td>\n",
       "      <td>0</td>\n",
       "      <td>0</td>\n",
       "      <td>0</td>\n",
       "      <td>0</td>\n",
       "      <td>0</td>\n",
       "      <td>0</td>\n",
       "      <td>1</td>\n",
       "      <td>0</td>\n",
       "      <td>0</td>\n",
       "      <td>0</td>\n",
       "      <td>0</td>\n",
       "      <td>0</td>\n",
       "      <td>0</td>\n",
       "      <td>0</td>\n",
       "    </tr>\n",
       "  </tbody>\n",
       "</table>\n",
       "</div>"
      ],
      "text/plain": [
       "       weekofyear  hour  dayofweek_Monday  dayofweek_Saturday  \\\n",
       "45007          50     0                 0                   0   \n",
       "35862          12    19                 0                   0   \n",
       "118714         21     6                 1                   0   \n",
       "129681         40     3                 0                   0   \n",
       "143602         35     8                 0                   0   \n",
       "\n",
       "        dayofweek_Sunday  dayofweek_Thursday  dayofweek_Tuesday  \\\n",
       "45007                  0                   1                  0   \n",
       "35862                  0                   0                  1   \n",
       "118714                 0                   0                  0   \n",
       "129681                 0                   0                  0   \n",
       "143602                 0                   1                  0   \n",
       "\n",
       "        dayofweek_Wednesday  id_crh  id_dgh  id_fmc  id_fsch  id_gnch  id_lch  \\\n",
       "45007                     0       0       0       0        0        0       0   \n",
       "35862                     0       0       0       0        0        0       0   \n",
       "118714                    0       0       0       1        0        0       0   \n",
       "129681                    1       0       0       0        0        0       0   \n",
       "143602                    0       0       0       0        0        0       1   \n",
       "\n",
       "        id_mch  id_mhrh  id_nchc  id_plc  id_rah  id_rdrh  id_rgh  id_sch  \\\n",
       "45007        1        0        0       0       0        0       0       0   \n",
       "35862        0        0        0       0       0        0       0       0   \n",
       "118714       0        0        0       0       0        0       0       0   \n",
       "129681       0        0        1       0       0        0       0       0   \n",
       "143602       0        0        0       0       0        0       0       0   \n",
       "\n",
       "        id_schc  id_shc  id_stollery  id_uah  id_whc  city_Devon  \\\n",
       "45007         0       0            0       0       0           0   \n",
       "35862         0       0            0       1       0           0   \n",
       "118714        0       0            0       0       0           0   \n",
       "129681        0       0            0       0       0           0   \n",
       "143602        0       0            0       0       0           0   \n",
       "\n",
       "        city_Edmonton  city_Fort Saskatchewan  city_Leduc  city_Lethbridge  \\\n",
       "45007               1                       0           0                0   \n",
       "35862               1                       0           0                0   \n",
       "118714              0                       0           0                0   \n",
       "129681              1                       0           0                0   \n",
       "143602              0                       0           1                0   \n",
       "\n",
       "        city_Medicine Hat  city_Red Deer  city_Sherwood Park  city_St. Albert  \\\n",
       "45007                   0              0                   0                0   \n",
       "35862                   0              0                   0                0   \n",
       "118714                  0              0                   0                0   \n",
       "129681                  0              0                   0                0   \n",
       "143602                  0              0                   0                0   \n",
       "\n",
       "        city_Stony Plain  citytype_urban  \n",
       "45007                  0               1  \n",
       "35862                  0               1  \n",
       "118714                 0               1  \n",
       "129681                 0               1  \n",
       "143602                 0               0  "
      ]
     },
     "metadata": {},
     "output_type": "display_data"
    },
    {
     "name": "stdout",
     "output_type": "stream",
     "text": [
      "\n",
      "Shape of dataframe:\n",
      "(40740, 38)\n",
      "\n",
      "Columns of dataframe:\n",
      "Index(['weekofyear', 'hour', 'dayofweek_Monday', 'dayofweek_Saturday',\n",
      "       'dayofweek_Sunday', 'dayofweek_Thursday', 'dayofweek_Tuesday',\n",
      "       'dayofweek_Wednesday', 'id_crh', 'id_dgh', 'id_fmc', 'id_fsch',\n",
      "       'id_gnch', 'id_lch', 'id_mch', 'id_mhrh', 'id_nchc', 'id_plc', 'id_rah',\n",
      "       'id_rdrh', 'id_rgh', 'id_sch', 'id_schc', 'id_shc', 'id_stollery',\n",
      "       'id_uah', 'id_whc', 'city_Devon', 'city_Edmonton',\n",
      "       'city_Fort Saskatchewan', 'city_Leduc', 'city_Lethbridge',\n",
      "       'city_Medicine Hat', 'city_Red Deer', 'city_Sherwood Park',\n",
      "       'city_St. Albert', 'city_Stony Plain', 'citytype_urban'],\n",
      "      dtype='object')\n",
      "\n",
      "dtypes of dataframe:\n",
      "weekofyear                category\n",
      "hour                         int32\n",
      "dayofweek_Monday             int32\n",
      "dayofweek_Saturday           int32\n",
      "dayofweek_Sunday             int32\n",
      "dayofweek_Thursday           int32\n",
      "dayofweek_Tuesday            int32\n",
      "dayofweek_Wednesday          int32\n",
      "id_crh                       int32\n",
      "id_dgh                       int32\n",
      "id_fmc                       int32\n",
      "id_fsch                      int32\n",
      "id_gnch                      int32\n",
      "id_lch                       int32\n",
      "id_mch                       int32\n",
      "id_mhrh                      int32\n",
      "id_nchc                      int32\n",
      "id_plc                       int32\n",
      "id_rah                       int32\n",
      "id_rdrh                      int32\n",
      "id_rgh                       int32\n",
      "id_sch                       int32\n",
      "id_schc                      int32\n",
      "id_shc                       int32\n",
      "id_stollery                  int32\n",
      "id_uah                       int32\n",
      "id_whc                       int32\n",
      "city_Devon                   int32\n",
      "city_Edmonton                int32\n",
      "city_Fort Saskatchewan       int32\n",
      "city_Leduc                   int32\n",
      "city_Lethbridge              int32\n",
      "city_Medicine Hat            int32\n",
      "city_Red Deer                int32\n",
      "city_Sherwood Park           int32\n",
      "city_St. Albert              int32\n",
      "city_Stony Plain             int32\n",
      "citytype_urban               int32\n",
      "dtype: object\n"
     ]
    },
    {
     "data": {
      "text/html": [
       "<div>\n",
       "<style scoped>\n",
       "    .dataframe tbody tr th:only-of-type {\n",
       "        vertical-align: middle;\n",
       "    }\n",
       "\n",
       "    .dataframe tbody tr th {\n",
       "        vertical-align: top;\n",
       "    }\n",
       "\n",
       "    .dataframe thead th {\n",
       "        text-align: right;\n",
       "    }\n",
       "</style>\n",
       "<table border=\"1\" class=\"dataframe\">\n",
       "  <thead>\n",
       "    <tr style=\"text-align: right;\">\n",
       "      <th></th>\n",
       "      <th>weekofyear</th>\n",
       "      <th>hour</th>\n",
       "      <th>dayofweek_Monday</th>\n",
       "      <th>dayofweek_Saturday</th>\n",
       "      <th>dayofweek_Sunday</th>\n",
       "      <th>dayofweek_Thursday</th>\n",
       "      <th>dayofweek_Tuesday</th>\n",
       "      <th>dayofweek_Wednesday</th>\n",
       "      <th>id_crh</th>\n",
       "      <th>id_dgh</th>\n",
       "      <th>id_fmc</th>\n",
       "      <th>id_fsch</th>\n",
       "      <th>id_gnch</th>\n",
       "      <th>id_lch</th>\n",
       "      <th>id_mch</th>\n",
       "      <th>id_mhrh</th>\n",
       "      <th>id_nchc</th>\n",
       "      <th>id_plc</th>\n",
       "      <th>id_rah</th>\n",
       "      <th>id_rdrh</th>\n",
       "      <th>id_rgh</th>\n",
       "      <th>id_sch</th>\n",
       "      <th>id_schc</th>\n",
       "      <th>id_shc</th>\n",
       "      <th>id_stollery</th>\n",
       "      <th>id_uah</th>\n",
       "      <th>id_whc</th>\n",
       "      <th>city_Devon</th>\n",
       "      <th>city_Edmonton</th>\n",
       "      <th>city_Fort Saskatchewan</th>\n",
       "      <th>city_Leduc</th>\n",
       "      <th>city_Lethbridge</th>\n",
       "      <th>city_Medicine Hat</th>\n",
       "      <th>city_Red Deer</th>\n",
       "      <th>city_Sherwood Park</th>\n",
       "      <th>city_St. Albert</th>\n",
       "      <th>city_Stony Plain</th>\n",
       "      <th>citytype_urban</th>\n",
       "    </tr>\n",
       "  </thead>\n",
       "  <tbody>\n",
       "    <tr>\n",
       "      <th>109432</th>\n",
       "      <td>12</td>\n",
       "      <td>23</td>\n",
       "      <td>0</td>\n",
       "      <td>0</td>\n",
       "      <td>0</td>\n",
       "      <td>1</td>\n",
       "      <td>0</td>\n",
       "      <td>0</td>\n",
       "      <td>0</td>\n",
       "      <td>0</td>\n",
       "      <td>0</td>\n",
       "      <td>0</td>\n",
       "      <td>0</td>\n",
       "      <td>0</td>\n",
       "      <td>1</td>\n",
       "      <td>0</td>\n",
       "      <td>0</td>\n",
       "      <td>0</td>\n",
       "      <td>0</td>\n",
       "      <td>0</td>\n",
       "      <td>0</td>\n",
       "      <td>0</td>\n",
       "      <td>0</td>\n",
       "      <td>0</td>\n",
       "      <td>0</td>\n",
       "      <td>0</td>\n",
       "      <td>0</td>\n",
       "      <td>0</td>\n",
       "      <td>1</td>\n",
       "      <td>0</td>\n",
       "      <td>0</td>\n",
       "      <td>0</td>\n",
       "      <td>0</td>\n",
       "      <td>0</td>\n",
       "      <td>0</td>\n",
       "      <td>0</td>\n",
       "      <td>0</td>\n",
       "      <td>1</td>\n",
       "    </tr>\n",
       "    <tr>\n",
       "      <th>59969</th>\n",
       "      <td>18</td>\n",
       "      <td>14</td>\n",
       "      <td>0</td>\n",
       "      <td>1</td>\n",
       "      <td>0</td>\n",
       "      <td>0</td>\n",
       "      <td>0</td>\n",
       "      <td>0</td>\n",
       "      <td>0</td>\n",
       "      <td>0</td>\n",
       "      <td>0</td>\n",
       "      <td>0</td>\n",
       "      <td>0</td>\n",
       "      <td>0</td>\n",
       "      <td>1</td>\n",
       "      <td>0</td>\n",
       "      <td>0</td>\n",
       "      <td>0</td>\n",
       "      <td>0</td>\n",
       "      <td>0</td>\n",
       "      <td>0</td>\n",
       "      <td>0</td>\n",
       "      <td>0</td>\n",
       "      <td>0</td>\n",
       "      <td>0</td>\n",
       "      <td>0</td>\n",
       "      <td>0</td>\n",
       "      <td>0</td>\n",
       "      <td>1</td>\n",
       "      <td>0</td>\n",
       "      <td>0</td>\n",
       "      <td>0</td>\n",
       "      <td>0</td>\n",
       "      <td>0</td>\n",
       "      <td>0</td>\n",
       "      <td>0</td>\n",
       "      <td>0</td>\n",
       "      <td>1</td>\n",
       "    </tr>\n",
       "    <tr>\n",
       "      <th>61225</th>\n",
       "      <td>21</td>\n",
       "      <td>5</td>\n",
       "      <td>0</td>\n",
       "      <td>1</td>\n",
       "      <td>0</td>\n",
       "      <td>0</td>\n",
       "      <td>0</td>\n",
       "      <td>0</td>\n",
       "      <td>0</td>\n",
       "      <td>0</td>\n",
       "      <td>0</td>\n",
       "      <td>0</td>\n",
       "      <td>1</td>\n",
       "      <td>0</td>\n",
       "      <td>0</td>\n",
       "      <td>0</td>\n",
       "      <td>0</td>\n",
       "      <td>0</td>\n",
       "      <td>0</td>\n",
       "      <td>0</td>\n",
       "      <td>0</td>\n",
       "      <td>0</td>\n",
       "      <td>0</td>\n",
       "      <td>0</td>\n",
       "      <td>0</td>\n",
       "      <td>0</td>\n",
       "      <td>0</td>\n",
       "      <td>0</td>\n",
       "      <td>1</td>\n",
       "      <td>0</td>\n",
       "      <td>0</td>\n",
       "      <td>0</td>\n",
       "      <td>0</td>\n",
       "      <td>0</td>\n",
       "      <td>0</td>\n",
       "      <td>0</td>\n",
       "      <td>0</td>\n",
       "      <td>1</td>\n",
       "    </tr>\n",
       "    <tr>\n",
       "      <th>117768</th>\n",
       "      <td>34</td>\n",
       "      <td>13</td>\n",
       "      <td>0</td>\n",
       "      <td>0</td>\n",
       "      <td>0</td>\n",
       "      <td>1</td>\n",
       "      <td>0</td>\n",
       "      <td>0</td>\n",
       "      <td>0</td>\n",
       "      <td>0</td>\n",
       "      <td>0</td>\n",
       "      <td>0</td>\n",
       "      <td>0</td>\n",
       "      <td>0</td>\n",
       "      <td>0</td>\n",
       "      <td>0</td>\n",
       "      <td>0</td>\n",
       "      <td>0</td>\n",
       "      <td>0</td>\n",
       "      <td>0</td>\n",
       "      <td>0</td>\n",
       "      <td>0</td>\n",
       "      <td>0</td>\n",
       "      <td>0</td>\n",
       "      <td>0</td>\n",
       "      <td>0</td>\n",
       "      <td>0</td>\n",
       "      <td>0</td>\n",
       "      <td>0</td>\n",
       "      <td>0</td>\n",
       "      <td>0</td>\n",
       "      <td>0</td>\n",
       "      <td>0</td>\n",
       "      <td>0</td>\n",
       "      <td>0</td>\n",
       "      <td>0</td>\n",
       "      <td>0</td>\n",
       "      <td>1</td>\n",
       "    </tr>\n",
       "    <tr>\n",
       "      <th>75800</th>\n",
       "      <td>49</td>\n",
       "      <td>6</td>\n",
       "      <td>0</td>\n",
       "      <td>1</td>\n",
       "      <td>0</td>\n",
       "      <td>0</td>\n",
       "      <td>0</td>\n",
       "      <td>0</td>\n",
       "      <td>0</td>\n",
       "      <td>0</td>\n",
       "      <td>0</td>\n",
       "      <td>0</td>\n",
       "      <td>0</td>\n",
       "      <td>0</td>\n",
       "      <td>0</td>\n",
       "      <td>0</td>\n",
       "      <td>0</td>\n",
       "      <td>0</td>\n",
       "      <td>0</td>\n",
       "      <td>0</td>\n",
       "      <td>0</td>\n",
       "      <td>0</td>\n",
       "      <td>0</td>\n",
       "      <td>1</td>\n",
       "      <td>0</td>\n",
       "      <td>0</td>\n",
       "      <td>0</td>\n",
       "      <td>0</td>\n",
       "      <td>0</td>\n",
       "      <td>0</td>\n",
       "      <td>0</td>\n",
       "      <td>0</td>\n",
       "      <td>0</td>\n",
       "      <td>0</td>\n",
       "      <td>0</td>\n",
       "      <td>0</td>\n",
       "      <td>0</td>\n",
       "      <td>1</td>\n",
       "    </tr>\n",
       "  </tbody>\n",
       "</table>\n",
       "</div>"
      ],
      "text/plain": [
       "       weekofyear  hour  dayofweek_Monday  dayofweek_Saturday  \\\n",
       "109432         12    23                 0                   0   \n",
       "59969          18    14                 0                   1   \n",
       "61225          21     5                 0                   1   \n",
       "117768         34    13                 0                   0   \n",
       "75800          49     6                 0                   1   \n",
       "\n",
       "        dayofweek_Sunday  dayofweek_Thursday  dayofweek_Tuesday  \\\n",
       "109432                 0                   1                  0   \n",
       "59969                  0                   0                  0   \n",
       "61225                  0                   0                  0   \n",
       "117768                 0                   1                  0   \n",
       "75800                  0                   0                  0   \n",
       "\n",
       "        dayofweek_Wednesday  id_crh  id_dgh  id_fmc  id_fsch  id_gnch  id_lch  \\\n",
       "109432                    0       0       0       0        0        0       0   \n",
       "59969                     0       0       0       0        0        0       0   \n",
       "61225                     0       0       0       0        0        1       0   \n",
       "117768                    0       0       0       0        0        0       0   \n",
       "75800                     0       0       0       0        0        0       0   \n",
       "\n",
       "        id_mch  id_mhrh  id_nchc  id_plc  id_rah  id_rdrh  id_rgh  id_sch  \\\n",
       "109432       1        0        0       0       0        0       0       0   \n",
       "59969        1        0        0       0       0        0       0       0   \n",
       "61225        0        0        0       0       0        0       0       0   \n",
       "117768       0        0        0       0       0        0       0       0   \n",
       "75800        0        0        0       0       0        0       0       0   \n",
       "\n",
       "        id_schc  id_shc  id_stollery  id_uah  id_whc  city_Devon  \\\n",
       "109432        0       0            0       0       0           0   \n",
       "59969         0       0            0       0       0           0   \n",
       "61225         0       0            0       0       0           0   \n",
       "117768        0       0            0       0       0           0   \n",
       "75800         0       1            0       0       0           0   \n",
       "\n",
       "        city_Edmonton  city_Fort Saskatchewan  city_Leduc  city_Lethbridge  \\\n",
       "109432              1                       0           0                0   \n",
       "59969               1                       0           0                0   \n",
       "61225               1                       0           0                0   \n",
       "117768              0                       0           0                0   \n",
       "75800               0                       0           0                0   \n",
       "\n",
       "        city_Medicine Hat  city_Red Deer  city_Sherwood Park  city_St. Albert  \\\n",
       "109432                  0              0                   0                0   \n",
       "59969                   0              0                   0                0   \n",
       "61225                   0              0                   0                0   \n",
       "117768                  0              0                   0                0   \n",
       "75800                   0              0                   0                0   \n",
       "\n",
       "        city_Stony Plain  citytype_urban  \n",
       "109432                 0               1  \n",
       "59969                  0               1  \n",
       "61225                  0               1  \n",
       "117768                 0               1  \n",
       "75800                  0               1  "
      ]
     },
     "metadata": {},
     "output_type": "display_data"
    },
    {
     "name": "stdout",
     "output_type": "stream",
     "text": [
      "\n",
      "Shape of dataframe:\n",
      "(36386, 38)\n",
      "\n",
      "Columns of dataframe:\n",
      "Index(['weekofyear', 'hour', 'dayofweek_Monday', 'dayofweek_Saturday',\n",
      "       'dayofweek_Sunday', 'dayofweek_Thursday', 'dayofweek_Tuesday',\n",
      "       'dayofweek_Wednesday', 'id_crh', 'id_dgh', 'id_fmc', 'id_fsch',\n",
      "       'id_gnch', 'id_lch', 'id_mch', 'id_mhrh', 'id_nchc', 'id_plc', 'id_rah',\n",
      "       'id_rdrh', 'id_rgh', 'id_sch', 'id_schc', 'id_shc', 'id_stollery',\n",
      "       'id_uah', 'id_whc', 'city_Devon', 'city_Edmonton',\n",
      "       'city_Fort Saskatchewan', 'city_Leduc', 'city_Lethbridge',\n",
      "       'city_Medicine Hat', 'city_Red Deer', 'city_Sherwood Park',\n",
      "       'city_St. Albert', 'city_Stony Plain', 'citytype_urban'],\n",
      "      dtype='object')\n",
      "\n",
      "dtypes of dataframe:\n",
      "weekofyear                category\n",
      "hour                         int32\n",
      "dayofweek_Monday             int32\n",
      "dayofweek_Saturday           int32\n",
      "dayofweek_Sunday             int32\n",
      "dayofweek_Thursday           int32\n",
      "dayofweek_Tuesday            int32\n",
      "dayofweek_Wednesday          int32\n",
      "id_crh                       int32\n",
      "id_dgh                       int32\n",
      "id_fmc                       int32\n",
      "id_fsch                      int32\n",
      "id_gnch                      int32\n",
      "id_lch                       int32\n",
      "id_mch                       int32\n",
      "id_mhrh                      int32\n",
      "id_nchc                      int32\n",
      "id_plc                       int32\n",
      "id_rah                       int32\n",
      "id_rdrh                      int32\n",
      "id_rgh                       int32\n",
      "id_sch                       int32\n",
      "id_schc                      int32\n",
      "id_shc                       int32\n",
      "id_stollery                  int32\n",
      "id_uah                       int32\n",
      "id_whc                       int32\n",
      "city_Devon                   int32\n",
      "city_Edmonton                int32\n",
      "city_Fort Saskatchewan       int32\n",
      "city_Leduc                   int32\n",
      "city_Lethbridge              int32\n",
      "city_Medicine Hat            int32\n",
      "city_Red Deer                int32\n",
      "city_Sherwood Park           int32\n",
      "city_St. Albert              int32\n",
      "city_Stony Plain             int32\n",
      "citytype_urban               int32\n",
      "dtype: object\n"
     ]
    }
   ],
   "source": [
    "Utility.display_df_general_info(X_train_balanced_simplify)\n",
    "Utility.display_df_general_info(X_test_simplify)"
   ]
  },
  {
   "cell_type": "code",
   "execution_count": 44,
   "metadata": {},
   "outputs": [
    {
     "name": "stdout",
     "output_type": "stream",
     "text": [
      "type(X_model): <class 'pandas.core.frame.DataFrame'>\n",
      "type(y_model): <class 'pandas.core.series.Series'>\n",
      "type(X_train): <class 'pandas.core.frame.DataFrame'>\n",
      "type(y_train): <class 'pandas.core.series.Series'>\n",
      "type(X_test): <class 'pandas.core.frame.DataFrame'>\n",
      "type(y_test): <class 'pandas.core.series.Series'>\n",
      "X_model.shape[0]: 181926\n",
      "y_model.shape[0]: 181926\n",
      "X_train.shape[0]: 145540\n",
      "y_train.shape[0]: 145540\n",
      "X_train_balanced.shape: (40740, 40)\n",
      "X_train_balanced_simplify.shape: (40740, 38)\n",
      "y_train_balanced.shape: (40740,)\n",
      "X_test.shape: (36386, 40)\n",
      "X_test_simplify.shape: (36386, 38)\n",
      "y_test.shape: (36386,)\n"
     ]
    }
   ],
   "source": [
    "# Check what are the types and numbers in each of the 6 items I just created:\n",
    "print(f\"type(X_model): {type(X_model)}\")\n",
    "print(f\"type(y_model): {type(y_model)}\")\n",
    "\n",
    "print(f\"type(X_train): {type(X_train)}\")\n",
    "print(f\"type(y_train): {type(y_train)}\")\n",
    "\n",
    "print(f\"type(X_test): {type(X_test)}\")\n",
    "print(f\"type(y_test): {type(y_test)}\")\n",
    "\n",
    "print(f\"X_model.shape[0]: {X_model.shape[0]}\")\n",
    "print(f\"y_model.shape[0]: {y_model.shape[0]}\")\n",
    "\n",
    "print(f\"X_train.shape[0]: {X_train.shape[0]}\")\n",
    "print(f\"y_train.shape[0]: {y_train.shape[0]}\")\n",
    "\n",
    "print(f\"X_train_balanced.shape: {X_train_balanced.shape}\")\n",
    "print(f\"X_train_balanced_simplify.shape: {X_train_balanced_simplify.shape}\")\n",
    "print(f\"y_train_balanced.shape: {y_train_balanced.shape}\")\n",
    "\n",
    "print(f\"X_test.shape: {X_test.shape}\")\n",
    "print(f\"X_test_simplify.shape: {X_test_simplify.shape}\")\n",
    "print(f\"y_test.shape: {y_test.shape}\")"
   ]
  },
  {
   "cell_type": "markdown",
   "metadata": {},
   "source": [
    "Check class distributions in y_train and y_test after the train_test_split"
   ]
  },
  {
   "cell_type": "code",
   "execution_count": 45,
   "metadata": {},
   "outputs": [
    {
     "name": "stdout",
     "output_type": "stream",
     "text": [
      "y_train_counter: Counter({0: 27160, 1: 13580}), 0: 66.66666666666666, 1: 33.33333333333333\n",
      "y_test_counter: Counter({0: 33863, 1: 2523}), 0: 93.06601440114329, 1: 6.933985598856703\n"
     ]
    }
   ],
   "source": [
    "Utility.display_class_balance(y_train_balanced, y_test)"
   ]
  },
  {
   "cell_type": "markdown",
   "metadata": {},
   "source": [
    "## Build Logistic Regression model: \"simplify\""
   ]
  },
  {
   "cell_type": "code",
   "execution_count": 46,
   "metadata": {},
   "outputs": [
    {
     "data": {
      "text/html": [
       "<style>#sk-container-id-4 {color: black;background-color: white;}#sk-container-id-4 pre{padding: 0;}#sk-container-id-4 div.sk-toggleable {background-color: white;}#sk-container-id-4 label.sk-toggleable__label {cursor: pointer;display: block;width: 100%;margin-bottom: 0;padding: 0.3em;box-sizing: border-box;text-align: center;}#sk-container-id-4 label.sk-toggleable__label-arrow:before {content: \"▸\";float: left;margin-right: 0.25em;color: #696969;}#sk-container-id-4 label.sk-toggleable__label-arrow:hover:before {color: black;}#sk-container-id-4 div.sk-estimator:hover label.sk-toggleable__label-arrow:before {color: black;}#sk-container-id-4 div.sk-toggleable__content {max-height: 0;max-width: 0;overflow: hidden;text-align: left;background-color: #f0f8ff;}#sk-container-id-4 div.sk-toggleable__content pre {margin: 0.2em;color: black;border-radius: 0.25em;background-color: #f0f8ff;}#sk-container-id-4 input.sk-toggleable__control:checked~div.sk-toggleable__content {max-height: 200px;max-width: 100%;overflow: auto;}#sk-container-id-4 input.sk-toggleable__control:checked~label.sk-toggleable__label-arrow:before {content: \"▾\";}#sk-container-id-4 div.sk-estimator input.sk-toggleable__control:checked~label.sk-toggleable__label {background-color: #d4ebff;}#sk-container-id-4 div.sk-label input.sk-toggleable__control:checked~label.sk-toggleable__label {background-color: #d4ebff;}#sk-container-id-4 input.sk-hidden--visually {border: 0;clip: rect(1px 1px 1px 1px);clip: rect(1px, 1px, 1px, 1px);height: 1px;margin: -1px;overflow: hidden;padding: 0;position: absolute;width: 1px;}#sk-container-id-4 div.sk-estimator {font-family: monospace;background-color: #f0f8ff;border: 1px dotted black;border-radius: 0.25em;box-sizing: border-box;margin-bottom: 0.5em;}#sk-container-id-4 div.sk-estimator:hover {background-color: #d4ebff;}#sk-container-id-4 div.sk-parallel-item::after {content: \"\";width: 100%;border-bottom: 1px solid gray;flex-grow: 1;}#sk-container-id-4 div.sk-label:hover label.sk-toggleable__label {background-color: #d4ebff;}#sk-container-id-4 div.sk-serial::before {content: \"\";position: absolute;border-left: 1px solid gray;box-sizing: border-box;top: 0;bottom: 0;left: 50%;z-index: 0;}#sk-container-id-4 div.sk-serial {display: flex;flex-direction: column;align-items: center;background-color: white;padding-right: 0.2em;padding-left: 0.2em;position: relative;}#sk-container-id-4 div.sk-item {position: relative;z-index: 1;}#sk-container-id-4 div.sk-parallel {display: flex;align-items: stretch;justify-content: center;background-color: white;position: relative;}#sk-container-id-4 div.sk-item::before, #sk-container-id-4 div.sk-parallel-item::before {content: \"\";position: absolute;border-left: 1px solid gray;box-sizing: border-box;top: 0;bottom: 0;left: 50%;z-index: -1;}#sk-container-id-4 div.sk-parallel-item {display: flex;flex-direction: column;z-index: 1;position: relative;background-color: white;}#sk-container-id-4 div.sk-parallel-item:first-child::after {align-self: flex-end;width: 50%;}#sk-container-id-4 div.sk-parallel-item:last-child::after {align-self: flex-start;width: 50%;}#sk-container-id-4 div.sk-parallel-item:only-child::after {width: 0;}#sk-container-id-4 div.sk-dashed-wrapped {border: 1px dashed gray;margin: 0 0.4em 0.5em 0.4em;box-sizing: border-box;padding-bottom: 0.4em;background-color: white;}#sk-container-id-4 div.sk-label label {font-family: monospace;font-weight: bold;display: inline-block;line-height: 1.2em;}#sk-container-id-4 div.sk-label-container {text-align: center;}#sk-container-id-4 div.sk-container {/* jupyter's `normalize.less` sets `[hidden] { display: none; }` but bootstrap.min.css set `[hidden] { display: none !important; }` so we also need the `!important` here to be able to override the default hidden behavior on the sphinx rendered scikit-learn.org. See: https://github.com/scikit-learn/scikit-learn/issues/21755 */display: inline-block !important;position: relative;}#sk-container-id-4 div.sk-text-repr-fallback {display: none;}</style><div id=\"sk-container-id-4\" class=\"sk-top-container\"><div class=\"sk-text-repr-fallback\"><pre>LogisticRegression(max_iter=1000, random_state=42)</pre><b>In a Jupyter environment, please rerun this cell to show the HTML representation or trust the notebook. <br />On GitHub, the HTML representation is unable to render, please try loading this page with nbviewer.org.</b></div><div class=\"sk-container\" hidden><div class=\"sk-item\"><div class=\"sk-estimator sk-toggleable\"><input class=\"sk-toggleable__control sk-hidden--visually\" id=\"sk-estimator-id-4\" type=\"checkbox\" checked><label for=\"sk-estimator-id-4\" class=\"sk-toggleable__label sk-toggleable__label-arrow\">LogisticRegression</label><div class=\"sk-toggleable__content\"><pre>LogisticRegression(max_iter=1000, random_state=42)</pre></div></div></div></div></div>"
      ],
      "text/plain": [
       "LogisticRegression(max_iter=1000, random_state=42)"
      ]
     },
     "execution_count": 46,
     "metadata": {},
     "output_type": "execute_result"
    }
   ],
   "source": [
    "simplify_clf = LogisticRegression(random_state=Utility.RANDOM_STATE_CONST, max_iter=1000)\n",
    "simplify_clf.fit(X_train_balanced_simplify, y_train_balanced)"
   ]
  },
  {
   "cell_type": "code",
   "execution_count": 47,
   "metadata": {},
   "outputs": [],
   "source": [
    "# Get predictions for X_train and X_test\n",
    "y_train_pred = simplify_clf.predict(X_train_balanced_simplify)\n",
    "y_test_pred = simplify_clf.predict(X_test_simplify)"
   ]
  },
  {
   "cell_type": "markdown",
   "metadata": {},
   "source": [
    "## Evaluate model performance: \"simplify\""
   ]
  },
  {
   "cell_type": "markdown",
   "metadata": {},
   "source": [
    "Confusion Matrix"
   ]
  },
  {
   "cell_type": "code",
   "execution_count": 48,
   "metadata": {},
   "outputs": [
    {
     "name": "stdout",
     "output_type": "stream",
     "text": [
      "\n",
      "Results on TRAINING data:\n"
     ]
    },
    {
     "data": {
      "text/html": [
       "<div>\n",
       "<style scoped>\n",
       "    .dataframe tbody tr th:only-of-type {\n",
       "        vertical-align: middle;\n",
       "    }\n",
       "\n",
       "    .dataframe tbody tr th {\n",
       "        vertical-align: top;\n",
       "    }\n",
       "\n",
       "    .dataframe thead th {\n",
       "        text-align: right;\n",
       "    }\n",
       "</style>\n",
       "<table border=\"1\" class=\"dataframe\">\n",
       "  <thead>\n",
       "    <tr style=\"text-align: right;\">\n",
       "      <th></th>\n",
       "      <th>Predicted Positive</th>\n",
       "      <th>Predicted Negative</th>\n",
       "    </tr>\n",
       "  </thead>\n",
       "  <tbody>\n",
       "    <tr>\n",
       "      <th>Actual Positive</th>\n",
       "      <td>6975</td>\n",
       "      <td>6605</td>\n",
       "    </tr>\n",
       "    <tr>\n",
       "      <th>Actual Negative</th>\n",
       "      <td>4195</td>\n",
       "      <td>22965</td>\n",
       "    </tr>\n",
       "  </tbody>\n",
       "</table>\n",
       "</div>"
      ],
      "text/plain": [
       "                 Predicted Positive  Predicted Negative\n",
       "Actual Positive                6975                6605\n",
       "Actual Negative                4195               22965"
      ]
     },
     "metadata": {},
     "output_type": "display_data"
    },
    {
     "name": "stdout",
     "output_type": "stream",
     "text": [
      "\n",
      "Results on TEST data:\n"
     ]
    },
    {
     "data": {
      "text/html": [
       "<div>\n",
       "<style scoped>\n",
       "    .dataframe tbody tr th:only-of-type {\n",
       "        vertical-align: middle;\n",
       "    }\n",
       "\n",
       "    .dataframe tbody tr th {\n",
       "        vertical-align: top;\n",
       "    }\n",
       "\n",
       "    .dataframe thead th {\n",
       "        text-align: right;\n",
       "    }\n",
       "</style>\n",
       "<table border=\"1\" class=\"dataframe\">\n",
       "  <thead>\n",
       "    <tr style=\"text-align: right;\">\n",
       "      <th></th>\n",
       "      <th>Predicted Positive</th>\n",
       "      <th>Predicted Negative</th>\n",
       "    </tr>\n",
       "  </thead>\n",
       "  <tbody>\n",
       "    <tr>\n",
       "      <th>Actual Positive</th>\n",
       "      <td>1208</td>\n",
       "      <td>1315</td>\n",
       "    </tr>\n",
       "    <tr>\n",
       "      <th>Actual Negative</th>\n",
       "      <td>5163</td>\n",
       "      <td>28700</td>\n",
       "    </tr>\n",
       "  </tbody>\n",
       "</table>\n",
       "</div>"
      ],
      "text/plain": [
       "                 Predicted Positive  Predicted Negative\n",
       "Actual Positive                1208                1315\n",
       "Actual Negative                5163               28700"
      ]
     },
     "metadata": {},
     "output_type": "display_data"
    }
   ],
   "source": [
    "# Confusion Matrix\n",
    "print(\"\\nResults on TRAINING data:\")\n",
    "simplify_train_cm = Utility.print_confusion_matrix_with_labels(y_train_balanced, y_train_pred)\n",
    "\n",
    "print(\"\\nResults on TEST data:\")\n",
    "simplify_test_cm = Utility.print_confusion_matrix_with_labels(y_test, y_test_pred)"
   ]
  },
  {
   "cell_type": "markdown",
   "metadata": {},
   "source": [
    "ROC Curve"
   ]
  },
  {
   "cell_type": "code",
   "execution_count": 49,
   "metadata": {},
   "outputs": [
    {
     "name": "stdout",
     "output_type": "stream",
     "text": [
      "\n",
      "Results on TRAINING data:\n"
     ]
    },
    {
     "data": {
      "image/png": "[encoded data removed]",
      "text/plain": [
       "<Figure size 640x480 with 1 Axes>"
      ]
     },
     "metadata": {},
     "output_type": "display_data"
    },
    {
     "name": "stdout",
     "output_type": "stream",
     "text": [
      "\n",
      "Results on TEST data:\n"
     ]
    },
    {
     "data": {
      "image/png": "[encoded data removed]",
      "text/plain": [
       "<Figure size 640x480 with 1 Axes>"
      ]
     },
     "metadata": {},
     "output_type": "display_data"
    }
   ],
   "source": [
    "# ROC Curve\n",
    "print(\"\\nResults on TRAINING data:\")\n",
    "y_train_probs_positive = simplify_clf.predict_proba(X_train_balanced_simplify)[:,1]\n",
    "train_fpr, train_tpr, train_thresholds = roc_curve(y_train_balanced, y_train_probs_positive)\n",
    "Utility.plot_roc_curve(train_fpr, train_tpr)\n",
    "\n",
    "print(\"\\nResults on TEST data:\")\n",
    "y_test_probs_positive = simplify_clf.predict_proba(X_test_simplify)[:,1]\n",
    "test_fpr, test_tpr, test_thresholds = roc_curve(y_test, y_test_probs_positive)\n",
    "Utility.plot_roc_curve(test_fpr, test_tpr)"
   ]
  },
  {
   "cell_type": "markdown",
   "metadata": {},
   "source": [
    "Classification Scores"
   ]
  },
  {
   "cell_type": "code",
   "execution_count": 50,
   "metadata": {},
   "outputs": [
    {
     "name": "stdout",
     "output_type": "stream",
     "text": [
      "\n",
      "Results on TRAINING data:\n"
     ]
    },
    {
     "name": "stdout",
     "output_type": "stream",
     "text": [
      "Accuracy            :      73.49%\n",
      "Precision           :       0.62\n",
      "Recall              :       0.51\n",
      "F1 score            :       0.56\n",
      "F1 (macro) score    :       0.69\n",
      "F1 (weighted) score :       0.73\n",
      "ROC-AUC             :       0.68\n",
      "\n",
      "Results on TEST data:\n",
      "Accuracy            :      82.20%\n",
      "Precision           :       0.19\n",
      "Recall              :       0.48\n",
      "F1 score            :       0.27\n",
      "F1 (macro) score    :       0.59\n",
      "F1 (weighted) score :       0.86\n",
      "ROC-AUC             :       0.66\n"
     ]
    }
   ],
   "source": [
    "# Scores\n",
    "print(\"\\nResults on TRAINING data:\")\n",
    "simplify_train_scores = Utility.evaluate_preds(y_train_balanced, y_train_pred)\n",
    "\n",
    "print(\"\\nResults on TEST data:\")\n",
    "simplify_test_scores = Utility.evaluate_preds(y_test, y_test_pred)"
   ]
  },
  {
   "cell_type": "markdown",
   "metadata": {},
   "source": [
    "Finding: Removing the 'dayperiod' feature seems to have reduced the F1 (macro) and ROC-AUC scores from the previous model runs."
   ]
  },
  {
   "cell_type": "markdown",
   "metadata": {},
   "source": [
    "# Evaluate performance of all models"
   ]
  },
  {
   "cell_type": "code",
   "execution_count": 51,
   "metadata": {},
   "outputs": [
    {
     "data": {
      "text/html": [
       "<div>\n",
       "<style scoped>\n",
       "    .dataframe tbody tr th:only-of-type {\n",
       "        vertical-align: middle;\n",
       "    }\n",
       "\n",
       "    .dataframe tbody tr th {\n",
       "        vertical-align: top;\n",
       "    }\n",
       "\n",
       "    .dataframe thead th {\n",
       "        text-align: right;\n",
       "    }\n",
       "</style>\n",
       "<table border=\"1\" class=\"dataframe\">\n",
       "  <thead>\n",
       "    <tr style=\"text-align: right;\">\n",
       "      <th></th>\n",
       "      <th>baseline_train</th>\n",
       "      <th>baseline_test</th>\n",
       "      <th>balanced_train</th>\n",
       "      <th>balanced_test</th>\n",
       "      <th>hourint_train</th>\n",
       "      <th>hourint_test</th>\n",
       "      <th>simplify_train</th>\n",
       "      <th>simplify_test</th>\n",
       "    </tr>\n",
       "  </thead>\n",
       "  <tbody>\n",
       "    <tr>\n",
       "      <th>accuracy</th>\n",
       "      <td>0.93</td>\n",
       "      <td>0.93</td>\n",
       "      <td>0.78</td>\n",
       "      <td>0.83</td>\n",
       "      <td>0.78</td>\n",
       "      <td>0.83</td>\n",
       "      <td>0.73</td>\n",
       "      <td>0.82</td>\n",
       "    </tr>\n",
       "    <tr>\n",
       "      <th>precision</th>\n",
       "      <td>0.57</td>\n",
       "      <td>0.62</td>\n",
       "      <td>0.68</td>\n",
       "      <td>0.23</td>\n",
       "      <td>0.68</td>\n",
       "      <td>0.23</td>\n",
       "      <td>0.62</td>\n",
       "      <td>0.19</td>\n",
       "    </tr>\n",
       "    <tr>\n",
       "      <th>recall</th>\n",
       "      <td>0.00</td>\n",
       "      <td>0.00</td>\n",
       "      <td>0.66</td>\n",
       "      <td>0.63</td>\n",
       "      <td>0.66</td>\n",
       "      <td>0.63</td>\n",
       "      <td>0.51</td>\n",
       "      <td>0.48</td>\n",
       "    </tr>\n",
       "    <tr>\n",
       "      <th>f1</th>\n",
       "      <td>0.01</td>\n",
       "      <td>0.01</td>\n",
       "      <td>0.67</td>\n",
       "      <td>0.34</td>\n",
       "      <td>0.67</td>\n",
       "      <td>0.34</td>\n",
       "      <td>0.56</td>\n",
       "      <td>0.27</td>\n",
       "    </tr>\n",
       "    <tr>\n",
       "      <th>f1_macro</th>\n",
       "      <td>0.49</td>\n",
       "      <td>0.49</td>\n",
       "      <td>0.76</td>\n",
       "      <td>0.62</td>\n",
       "      <td>0.76</td>\n",
       "      <td>0.62</td>\n",
       "      <td>0.69</td>\n",
       "      <td>0.59</td>\n",
       "    </tr>\n",
       "    <tr>\n",
       "      <th>f1_weighted</th>\n",
       "      <td>0.90</td>\n",
       "      <td>0.90</td>\n",
       "      <td>0.78</td>\n",
       "      <td>0.86</td>\n",
       "      <td>0.78</td>\n",
       "      <td>0.86</td>\n",
       "      <td>0.73</td>\n",
       "      <td>0.86</td>\n",
       "    </tr>\n",
       "    <tr>\n",
       "      <th>roc_auc</th>\n",
       "      <td>0.50</td>\n",
       "      <td>0.50</td>\n",
       "      <td>0.75</td>\n",
       "      <td>0.74</td>\n",
       "      <td>0.75</td>\n",
       "      <td>0.74</td>\n",
       "      <td>0.68</td>\n",
       "      <td>0.66</td>\n",
       "    </tr>\n",
       "  </tbody>\n",
       "</table>\n",
       "</div>"
      ],
      "text/plain": [
       "             baseline_train  baseline_test  balanced_train  balanced_test  \\\n",
       "accuracy               0.93           0.93            0.78           0.83   \n",
       "precision              0.57           0.62            0.68           0.23   \n",
       "recall                 0.00           0.00            0.66           0.63   \n",
       "f1                     0.01           0.01            0.67           0.34   \n",
       "f1_macro               0.49           0.49            0.76           0.62   \n",
       "f1_weighted            0.90           0.90            0.78           0.86   \n",
       "roc_auc                0.50           0.50            0.75           0.74   \n",
       "\n",
       "             hourint_train  hourint_test  simplify_train  simplify_test  \n",
       "accuracy              0.78          0.83            0.73           0.82  \n",
       "precision             0.68          0.23            0.62           0.19  \n",
       "recall                0.66          0.63            0.51           0.48  \n",
       "f1                    0.67          0.34            0.56           0.27  \n",
       "f1_macro              0.76          0.62            0.69           0.59  \n",
       "f1_weighted           0.78          0.86            0.73           0.86  \n",
       "roc_auc               0.75          0.74            0.68           0.66  "
      ]
     },
     "execution_count": 51,
     "metadata": {},
     "output_type": "execute_result"
    }
   ],
   "source": [
    "df_compare = pd.DataFrame({\n",
    "    'baseline_train': baseline_train_scores,\n",
    "    'baseline_test': baseline_test_scores,\n",
    "    'balanced_train': balanced_train_scores,\n",
    "    'balanced_test': balanced_test_scores,\n",
    "    'hourint_train': hourint_train_scores,\n",
    "    'hourint_test': hourint_test_scores,\n",
    "    'simplify_train': simplify_train_scores,\n",
    "    'simplify_test': simplify_test_scores})\n",
    "\n",
    "df_compare"
   ]
  },
  {
   "cell_type": "code",
   "execution_count": 404,
   "metadata": {},
   "outputs": [
    {
     "data": {
      "image/png": "[encoded data removed]",
      "text/plain": [
       "<Figure size 1000x800 with 1 Axes>"
      ]
     },
     "metadata": {},
     "output_type": "display_data"
    }
   ],
   "source": [
    "# Plot the scores\n",
    "df_compare.plot.bar(figsize=(10,8));"
   ]
  },
  {
   "cell_type": "markdown",
   "metadata": {},
   "source": [
    "Finding:  The above shows that the \"balanced original\" situation (without removing `dayperiod` feature) performed the best for both F1 Macro and roc_auc score on both train and test datasets.\n",
    "\n",
    "Though I ran the 'simplify' model with no 'dayperiod' and 'hour' turned into an `int`, it turns out that there were no changes to model evaluation scores whether `hour` was an `int` or a `category`."
   ]
  },
  {
   "cell_type": "markdown",
   "metadata": {},
   "source": [
    "# Can We Do Better on Logistic Regression Balanced Model?"
   ]
  },
  {
   "cell_type": "markdown",
   "metadata": {},
   "source": [
    "From the above, it is clear that the \"balanced original\" situation did best.\n",
    "\n",
    "Can we run this model in a GridSearchCV, using an exhaustive search against the `sampling_strategy` parameters for SMOTE and RandomUnderSampler?"
   ]
  },
  {
   "cell_type": "code",
   "execution_count": 321,
   "metadata": {},
   "outputs": [
    {
     "name": "stdout",
     "output_type": "stream",
     "text": [
      "Fitting 5 folds for each of 280 candidates, totalling 1400 fits\n"
     ]
    },
    {
     "ename": "ValueError",
     "evalue": "\nAll the 1400 fits failed.\nIt is very likely that your model is misconfigured.\nYou can try to debug the error by setting error_score='raise'.\n\nBelow are more details about the failures:\n--------------------------------------------------------------------------------\n35 fits failed with the following error:\nTraceback (most recent call last):\n  File \"c:\\Users\\raref\\.conda\\envs\\bootcamp_env\\Lib\\site-packages\\sklearn\\model_selection\\_validation.py\", line 686, in _fit_and_score\n    estimator.fit(X_train, y_train, **fit_params)\n  File \"c:\\Users\\raref\\.conda\\envs\\bootcamp_env\\Lib\\site-packages\\imblearn\\pipeline.py\", line 293, in fit\n    Xt, yt = self._fit(X, y, **fit_params_steps)\n             ^^^^^^^^^^^^^^^^^^^^^^^^^^^^^^^^^^^\n  File \"c:\\Users\\raref\\.conda\\envs\\bootcamp_env\\Lib\\site-packages\\imblearn\\pipeline.py\", line 211, in _fit\n    self._validate_steps()\n  File \"c:\\Users\\raref\\.conda\\envs\\bootcamp_env\\Lib\\site-packages\\imblearn\\pipeline.py\", line 170, in _validate_steps\n    raise TypeError(\nTypeError: All intermediate steps of the chain should be estimators that implement fit and transform or fit_resample. 'Pipeline(steps=[('smote', SMOTE(random_state=42, sampling_strategy=0.1)),\n                ('under',\n                 RandomUnderSampler(random_state=42, sampling_strategy=0.4))])' implements both)\n\n--------------------------------------------------------------------------------\n35 fits failed with the following error:\nTraceback (most recent call last):\n  File \"c:\\Users\\raref\\.conda\\envs\\bootcamp_env\\Lib\\site-packages\\sklearn\\model_selection\\_validation.py\", line 686, in _fit_and_score\n    estimator.fit(X_train, y_train, **fit_params)\n  File \"c:\\Users\\raref\\.conda\\envs\\bootcamp_env\\Lib\\site-packages\\imblearn\\pipeline.py\", line 293, in fit\n    Xt, yt = self._fit(X, y, **fit_params_steps)\n             ^^^^^^^^^^^^^^^^^^^^^^^^^^^^^^^^^^^\n  File \"c:\\Users\\raref\\.conda\\envs\\bootcamp_env\\Lib\\site-packages\\imblearn\\pipeline.py\", line 211, in _fit\n    self._validate_steps()\n  File \"c:\\Users\\raref\\.conda\\envs\\bootcamp_env\\Lib\\site-packages\\imblearn\\pipeline.py\", line 170, in _validate_steps\n    raise TypeError(\nTypeError: All intermediate steps of the chain should be estimators that implement fit and transform or fit_resample. 'Pipeline(steps=[('smote', SMOTE(random_state=42, sampling_strategy=0.1)),\n                ('under',\n                 RandomUnderSampler(random_state=42, sampling_strategy=0.5))])' implements both)\n\n--------------------------------------------------------------------------------\n35 fits failed with the following error:\nTraceback (most recent call last):\n  File \"c:\\Users\\raref\\.conda\\envs\\bootcamp_env\\Lib\\site-packages\\sklearn\\model_selection\\_validation.py\", line 686, in _fit_and_score\n    estimator.fit(X_train, y_train, **fit_params)\n  File \"c:\\Users\\raref\\.conda\\envs\\bootcamp_env\\Lib\\site-packages\\imblearn\\pipeline.py\", line 293, in fit\n    Xt, yt = self._fit(X, y, **fit_params_steps)\n             ^^^^^^^^^^^^^^^^^^^^^^^^^^^^^^^^^^^\n  File \"c:\\Users\\raref\\.conda\\envs\\bootcamp_env\\Lib\\site-packages\\imblearn\\pipeline.py\", line 211, in _fit\n    self._validate_steps()\n  File \"c:\\Users\\raref\\.conda\\envs\\bootcamp_env\\Lib\\site-packages\\imblearn\\pipeline.py\", line 170, in _validate_steps\n    raise TypeError(\nTypeError: All intermediate steps of the chain should be estimators that implement fit and transform or fit_resample. 'Pipeline(steps=[('smote', SMOTE(random_state=42, sampling_strategy=0.1)),\n                ('under',\n                 RandomUnderSampler(random_state=42, sampling_strategy=0.6))])' implements both)\n\n--------------------------------------------------------------------------------\n35 fits failed with the following error:\nTraceback (most recent call last):\n  File \"c:\\Users\\raref\\.conda\\envs\\bootcamp_env\\Lib\\site-packages\\sklearn\\model_selection\\_validation.py\", line 686, in _fit_and_score\n    estimator.fit(X_train, y_train, **fit_params)\n  File \"c:\\Users\\raref\\.conda\\envs\\bootcamp_env\\Lib\\site-packages\\imblearn\\pipeline.py\", line 293, in fit\n    Xt, yt = self._fit(X, y, **fit_params_steps)\n             ^^^^^^^^^^^^^^^^^^^^^^^^^^^^^^^^^^^\n  File \"c:\\Users\\raref\\.conda\\envs\\bootcamp_env\\Lib\\site-packages\\imblearn\\pipeline.py\", line 211, in _fit\n    self._validate_steps()\n  File \"c:\\Users\\raref\\.conda\\envs\\bootcamp_env\\Lib\\site-packages\\imblearn\\pipeline.py\", line 170, in _validate_steps\n    raise TypeError(\nTypeError: All intermediate steps of the chain should be estimators that implement fit and transform or fit_resample. 'Pipeline(steps=[('smote', SMOTE(random_state=42, sampling_strategy=0.1)),\n                ('under',\n                 RandomUnderSampler(random_state=42, sampling_strategy=0.7))])' implements both)\n\n--------------------------------------------------------------------------------\n35 fits failed with the following error:\nTraceback (most recent call last):\n  File \"c:\\Users\\raref\\.conda\\envs\\bootcamp_env\\Lib\\site-packages\\sklearn\\model_selection\\_validation.py\", line 686, in _fit_and_score\n    estimator.fit(X_train, y_train, **fit_params)\n  File \"c:\\Users\\raref\\.conda\\envs\\bootcamp_env\\Lib\\site-packages\\imblearn\\pipeline.py\", line 293, in fit\n    Xt, yt = self._fit(X, y, **fit_params_steps)\n             ^^^^^^^^^^^^^^^^^^^^^^^^^^^^^^^^^^^\n  File \"c:\\Users\\raref\\.conda\\envs\\bootcamp_env\\Lib\\site-packages\\imblearn\\pipeline.py\", line 211, in _fit\n    self._validate_steps()\n  File \"c:\\Users\\raref\\.conda\\envs\\bootcamp_env\\Lib\\site-packages\\imblearn\\pipeline.py\", line 170, in _validate_steps\n    raise TypeError(\nTypeError: All intermediate steps of the chain should be estimators that implement fit and transform or fit_resample. 'Pipeline(steps=[('smote', SMOTE(random_state=42, sampling_strategy=0.2)),\n                ('under',\n                 RandomUnderSampler(random_state=42, sampling_strategy=0.4))])' implements both)\n\n--------------------------------------------------------------------------------\n35 fits failed with the following error:\nTraceback (most recent call last):\n  File \"c:\\Users\\raref\\.conda\\envs\\bootcamp_env\\Lib\\site-packages\\sklearn\\model_selection\\_validation.py\", line 686, in _fit_and_score\n    estimator.fit(X_train, y_train, **fit_params)\n  File \"c:\\Users\\raref\\.conda\\envs\\bootcamp_env\\Lib\\site-packages\\imblearn\\pipeline.py\", line 293, in fit\n    Xt, yt = self._fit(X, y, **fit_params_steps)\n             ^^^^^^^^^^^^^^^^^^^^^^^^^^^^^^^^^^^\n  File \"c:\\Users\\raref\\.conda\\envs\\bootcamp_env\\Lib\\site-packages\\imblearn\\pipeline.py\", line 211, in _fit\n    self._validate_steps()\n  File \"c:\\Users\\raref\\.conda\\envs\\bootcamp_env\\Lib\\site-packages\\imblearn\\pipeline.py\", line 170, in _validate_steps\n    raise TypeError(\nTypeError: All intermediate steps of the chain should be estimators that implement fit and transform or fit_resample. 'Pipeline(steps=[('smote', SMOTE(random_state=42, sampling_strategy=0.2)),\n                ('under',\n                 RandomUnderSampler(random_state=42, sampling_strategy=0.5))])' implements both)\n\n--------------------------------------------------------------------------------\n35 fits failed with the following error:\nTraceback (most recent call last):\n  File \"c:\\Users\\raref\\.conda\\envs\\bootcamp_env\\Lib\\site-packages\\sklearn\\model_selection\\_validation.py\", line 686, in _fit_and_score\n    estimator.fit(X_train, y_train, **fit_params)\n  File \"c:\\Users\\raref\\.conda\\envs\\bootcamp_env\\Lib\\site-packages\\imblearn\\pipeline.py\", line 293, in fit\n    Xt, yt = self._fit(X, y, **fit_params_steps)\n             ^^^^^^^^^^^^^^^^^^^^^^^^^^^^^^^^^^^\n  File \"c:\\Users\\raref\\.conda\\envs\\bootcamp_env\\Lib\\site-packages\\imblearn\\pipeline.py\", line 211, in _fit\n    self._validate_steps()\n  File \"c:\\Users\\raref\\.conda\\envs\\bootcamp_env\\Lib\\site-packages\\imblearn\\pipeline.py\", line 170, in _validate_steps\n    raise TypeError(\nTypeError: All intermediate steps of the chain should be estimators that implement fit and transform or fit_resample. 'Pipeline(steps=[('smote', SMOTE(random_state=42, sampling_strategy=0.2)),\n                ('under',\n                 RandomUnderSampler(random_state=42, sampling_strategy=0.6))])' implements both)\n\n--------------------------------------------------------------------------------\n35 fits failed with the following error:\nTraceback (most recent call last):\n  File \"c:\\Users\\raref\\.conda\\envs\\bootcamp_env\\Lib\\site-packages\\sklearn\\model_selection\\_validation.py\", line 686, in _fit_and_score\n    estimator.fit(X_train, y_train, **fit_params)\n  File \"c:\\Users\\raref\\.conda\\envs\\bootcamp_env\\Lib\\site-packages\\imblearn\\pipeline.py\", line 293, in fit\n    Xt, yt = self._fit(X, y, **fit_params_steps)\n             ^^^^^^^^^^^^^^^^^^^^^^^^^^^^^^^^^^^\n  File \"c:\\Users\\raref\\.conda\\envs\\bootcamp_env\\Lib\\site-packages\\imblearn\\pipeline.py\", line 211, in _fit\n    self._validate_steps()\n  File \"c:\\Users\\raref\\.conda\\envs\\bootcamp_env\\Lib\\site-packages\\imblearn\\pipeline.py\", line 170, in _validate_steps\n    raise TypeError(\nTypeError: All intermediate steps of the chain should be estimators that implement fit and transform or fit_resample. 'Pipeline(steps=[('smote', SMOTE(random_state=42, sampling_strategy=0.2)),\n                ('under',\n                 RandomUnderSampler(random_state=42, sampling_strategy=0.7))])' implements both)\n\n--------------------------------------------------------------------------------\n35 fits failed with the following error:\nTraceback (most recent call last):\n  File \"c:\\Users\\raref\\.conda\\envs\\bootcamp_env\\Lib\\site-packages\\sklearn\\model_selection\\_validation.py\", line 686, in _fit_and_score\n    estimator.fit(X_train, y_train, **fit_params)\n  File \"c:\\Users\\raref\\.conda\\envs\\bootcamp_env\\Lib\\site-packages\\imblearn\\pipeline.py\", line 293, in fit\n    Xt, yt = self._fit(X, y, **fit_params_steps)\n             ^^^^^^^^^^^^^^^^^^^^^^^^^^^^^^^^^^^\n  File \"c:\\Users\\raref\\.conda\\envs\\bootcamp_env\\Lib\\site-packages\\imblearn\\pipeline.py\", line 211, in _fit\n    self._validate_steps()\n  File \"c:\\Users\\raref\\.conda\\envs\\bootcamp_env\\Lib\\site-packages\\imblearn\\pipeline.py\", line 170, in _validate_steps\n    raise TypeError(\nTypeError: All intermediate steps of the chain should be estimators that implement fit and transform or fit_resample. 'Pipeline(steps=[('smote', SMOTE(random_state=42, sampling_strategy=0.3)),\n                ('under',\n                 RandomUnderSampler(random_state=42, sampling_strategy=0.4))])' implements both)\n\n--------------------------------------------------------------------------------\n35 fits failed with the following error:\nTraceback (most recent call last):\n  File \"c:\\Users\\raref\\.conda\\envs\\bootcamp_env\\Lib\\site-packages\\sklearn\\model_selection\\_validation.py\", line 686, in _fit_and_score\n    estimator.fit(X_train, y_train, **fit_params)\n  File \"c:\\Users\\raref\\.conda\\envs\\bootcamp_env\\Lib\\site-packages\\imblearn\\pipeline.py\", line 293, in fit\n    Xt, yt = self._fit(X, y, **fit_params_steps)\n             ^^^^^^^^^^^^^^^^^^^^^^^^^^^^^^^^^^^\n  File \"c:\\Users\\raref\\.conda\\envs\\bootcamp_env\\Lib\\site-packages\\imblearn\\pipeline.py\", line 211, in _fit\n    self._validate_steps()\n  File \"c:\\Users\\raref\\.conda\\envs\\bootcamp_env\\Lib\\site-packages\\imblearn\\pipeline.py\", line 170, in _validate_steps\n    raise TypeError(\nTypeError: All intermediate steps of the chain should be estimators that implement fit and transform or fit_resample. 'Pipeline(steps=[('smote', SMOTE(random_state=42, sampling_strategy=0.3)),\n                ('under',\n                 RandomUnderSampler(random_state=42, sampling_strategy=0.5))])' implements both)\n\n--------------------------------------------------------------------------------\n35 fits failed with the following error:\nTraceback (most recent call last):\n  File \"c:\\Users\\raref\\.conda\\envs\\bootcamp_env\\Lib\\site-packages\\sklearn\\model_selection\\_validation.py\", line 686, in _fit_and_score\n    estimator.fit(X_train, y_train, **fit_params)\n  File \"c:\\Users\\raref\\.conda\\envs\\bootcamp_env\\Lib\\site-packages\\imblearn\\pipeline.py\", line 293, in fit\n    Xt, yt = self._fit(X, y, **fit_params_steps)\n             ^^^^^^^^^^^^^^^^^^^^^^^^^^^^^^^^^^^\n  File \"c:\\Users\\raref\\.conda\\envs\\bootcamp_env\\Lib\\site-packages\\imblearn\\pipeline.py\", line 211, in _fit\n    self._validate_steps()\n  File \"c:\\Users\\raref\\.conda\\envs\\bootcamp_env\\Lib\\site-packages\\imblearn\\pipeline.py\", line 170, in _validate_steps\n    raise TypeError(\nTypeError: All intermediate steps of the chain should be estimators that implement fit and transform or fit_resample. 'Pipeline(steps=[('smote', SMOTE(random_state=42, sampling_strategy=0.3)),\n                ('under',\n                 RandomUnderSampler(random_state=42, sampling_strategy=0.6))])' implements both)\n\n--------------------------------------------------------------------------------\n35 fits failed with the following error:\nTraceback (most recent call last):\n  File \"c:\\Users\\raref\\.conda\\envs\\bootcamp_env\\Lib\\site-packages\\sklearn\\model_selection\\_validation.py\", line 686, in _fit_and_score\n    estimator.fit(X_train, y_train, **fit_params)\n  File \"c:\\Users\\raref\\.conda\\envs\\bootcamp_env\\Lib\\site-packages\\imblearn\\pipeline.py\", line 293, in fit\n    Xt, yt = self._fit(X, y, **fit_params_steps)\n             ^^^^^^^^^^^^^^^^^^^^^^^^^^^^^^^^^^^\n  File \"c:\\Users\\raref\\.conda\\envs\\bootcamp_env\\Lib\\site-packages\\imblearn\\pipeline.py\", line 211, in _fit\n    self._validate_steps()\n  File \"c:\\Users\\raref\\.conda\\envs\\bootcamp_env\\Lib\\site-packages\\imblearn\\pipeline.py\", line 170, in _validate_steps\n    raise TypeError(\nTypeError: All intermediate steps of the chain should be estimators that implement fit and transform or fit_resample. 'Pipeline(steps=[('smote', SMOTE(random_state=42, sampling_strategy=0.3)),\n                ('under',\n                 RandomUnderSampler(random_state=42, sampling_strategy=0.7))])' implements both)\n\n--------------------------------------------------------------------------------\n35 fits failed with the following error:\nTraceback (most recent call last):\n  File \"c:\\Users\\raref\\.conda\\envs\\bootcamp_env\\Lib\\site-packages\\sklearn\\model_selection\\_validation.py\", line 686, in _fit_and_score\n    estimator.fit(X_train, y_train, **fit_params)\n  File \"c:\\Users\\raref\\.conda\\envs\\bootcamp_env\\Lib\\site-packages\\imblearn\\pipeline.py\", line 293, in fit\n    Xt, yt = self._fit(X, y, **fit_params_steps)\n             ^^^^^^^^^^^^^^^^^^^^^^^^^^^^^^^^^^^\n  File \"c:\\Users\\raref\\.conda\\envs\\bootcamp_env\\Lib\\site-packages\\imblearn\\pipeline.py\", line 211, in _fit\n    self._validate_steps()\n  File \"c:\\Users\\raref\\.conda\\envs\\bootcamp_env\\Lib\\site-packages\\imblearn\\pipeline.py\", line 170, in _validate_steps\n    raise TypeError(\nTypeError: All intermediate steps of the chain should be estimators that implement fit and transform or fit_resample. 'Pipeline(steps=[('smote', SMOTE(random_state=42, sampling_strategy=0.4)),\n                ('under',\n                 RandomUnderSampler(random_state=42, sampling_strategy=0.4))])' implements both)\n\n--------------------------------------------------------------------------------\n35 fits failed with the following error:\nTraceback (most recent call last):\n  File \"c:\\Users\\raref\\.conda\\envs\\bootcamp_env\\Lib\\site-packages\\sklearn\\model_selection\\_validation.py\", line 686, in _fit_and_score\n    estimator.fit(X_train, y_train, **fit_params)\n  File \"c:\\Users\\raref\\.conda\\envs\\bootcamp_env\\Lib\\site-packages\\imblearn\\pipeline.py\", line 293, in fit\n    Xt, yt = self._fit(X, y, **fit_params_steps)\n             ^^^^^^^^^^^^^^^^^^^^^^^^^^^^^^^^^^^\n  File \"c:\\Users\\raref\\.conda\\envs\\bootcamp_env\\Lib\\site-packages\\imblearn\\pipeline.py\", line 211, in _fit\n    self._validate_steps()\n  File \"c:\\Users\\raref\\.conda\\envs\\bootcamp_env\\Lib\\site-packages\\imblearn\\pipeline.py\", line 170, in _validate_steps\n    raise TypeError(\nTypeError: All intermediate steps of the chain should be estimators that implement fit and transform or fit_resample. 'Pipeline(steps=[('smote', SMOTE(random_state=42, sampling_strategy=0.4)),\n                ('under',\n                 RandomUnderSampler(random_state=42, sampling_strategy=0.5))])' implements both)\n\n--------------------------------------------------------------------------------\n35 fits failed with the following error:\nTraceback (most recent call last):\n  File \"c:\\Users\\raref\\.conda\\envs\\bootcamp_env\\Lib\\site-packages\\sklearn\\model_selection\\_validation.py\", line 686, in _fit_and_score\n    estimator.fit(X_train, y_train, **fit_params)\n  File \"c:\\Users\\raref\\.conda\\envs\\bootcamp_env\\Lib\\site-packages\\imblearn\\pipeline.py\", line 293, in fit\n    Xt, yt = self._fit(X, y, **fit_params_steps)\n             ^^^^^^^^^^^^^^^^^^^^^^^^^^^^^^^^^^^\n  File \"c:\\Users\\raref\\.conda\\envs\\bootcamp_env\\Lib\\site-packages\\imblearn\\pipeline.py\", line 211, in _fit\n    self._validate_steps()\n  File \"c:\\Users\\raref\\.conda\\envs\\bootcamp_env\\Lib\\site-packages\\imblearn\\pipeline.py\", line 170, in _validate_steps\n    raise TypeError(\nTypeError: All intermediate steps of the chain should be estimators that implement fit and transform or fit_resample. 'Pipeline(steps=[('smote', SMOTE(random_state=42, sampling_strategy=0.4)),\n                ('under',\n                 RandomUnderSampler(random_state=42, sampling_strategy=0.6))])' implements both)\n\n--------------------------------------------------------------------------------\n35 fits failed with the following error:\nTraceback (most recent call last):\n  File \"c:\\Users\\raref\\.conda\\envs\\bootcamp_env\\Lib\\site-packages\\sklearn\\model_selection\\_validation.py\", line 686, in _fit_and_score\n    estimator.fit(X_train, y_train, **fit_params)\n  File \"c:\\Users\\raref\\.conda\\envs\\bootcamp_env\\Lib\\site-packages\\imblearn\\pipeline.py\", line 293, in fit\n    Xt, yt = self._fit(X, y, **fit_params_steps)\n             ^^^^^^^^^^^^^^^^^^^^^^^^^^^^^^^^^^^\n  File \"c:\\Users\\raref\\.conda\\envs\\bootcamp_env\\Lib\\site-packages\\imblearn\\pipeline.py\", line 211, in _fit\n    self._validate_steps()\n  File \"c:\\Users\\raref\\.conda\\envs\\bootcamp_env\\Lib\\site-packages\\imblearn\\pipeline.py\", line 170, in _validate_steps\n    raise TypeError(\nTypeError: All intermediate steps of the chain should be estimators that implement fit and transform or fit_resample. 'Pipeline(steps=[('smote', SMOTE(random_state=42, sampling_strategy=0.4)),\n                ('under',\n                 RandomUnderSampler(random_state=42, sampling_strategy=0.7))])' implements both)\n\n--------------------------------------------------------------------------------\n35 fits failed with the following error:\nTraceback (most recent call last):\n  File \"c:\\Users\\raref\\.conda\\envs\\bootcamp_env\\Lib\\site-packages\\sklearn\\model_selection\\_validation.py\", line 686, in _fit_and_score\n    estimator.fit(X_train, y_train, **fit_params)\n  File \"c:\\Users\\raref\\.conda\\envs\\bootcamp_env\\Lib\\site-packages\\imblearn\\pipeline.py\", line 293, in fit\n    Xt, yt = self._fit(X, y, **fit_params_steps)\n             ^^^^^^^^^^^^^^^^^^^^^^^^^^^^^^^^^^^\n  File \"c:\\Users\\raref\\.conda\\envs\\bootcamp_env\\Lib\\site-packages\\imblearn\\pipeline.py\", line 211, in _fit\n    self._validate_steps()\n  File \"c:\\Users\\raref\\.conda\\envs\\bootcamp_env\\Lib\\site-packages\\imblearn\\pipeline.py\", line 170, in _validate_steps\n    raise TypeError(\nTypeError: All intermediate steps of the chain should be estimators that implement fit and transform or fit_resample. 'Pipeline(steps=[('smote', SMOTE(random_state=42, sampling_strategy=0.5)),\n                ('under',\n                 RandomUnderSampler(random_state=42, sampling_strategy=0.4))])' implements both)\n\n--------------------------------------------------------------------------------\n35 fits failed with the following error:\nTraceback (most recent call last):\n  File \"c:\\Users\\raref\\.conda\\envs\\bootcamp_env\\Lib\\site-packages\\sklearn\\model_selection\\_validation.py\", line 686, in _fit_and_score\n    estimator.fit(X_train, y_train, **fit_params)\n  File \"c:\\Users\\raref\\.conda\\envs\\bootcamp_env\\Lib\\site-packages\\imblearn\\pipeline.py\", line 293, in fit\n    Xt, yt = self._fit(X, y, **fit_params_steps)\n             ^^^^^^^^^^^^^^^^^^^^^^^^^^^^^^^^^^^\n  File \"c:\\Users\\raref\\.conda\\envs\\bootcamp_env\\Lib\\site-packages\\imblearn\\pipeline.py\", line 211, in _fit\n    self._validate_steps()\n  File \"c:\\Users\\raref\\.conda\\envs\\bootcamp_env\\Lib\\site-packages\\imblearn\\pipeline.py\", line 170, in _validate_steps\n    raise TypeError(\nTypeError: All intermediate steps of the chain should be estimators that implement fit and transform or fit_resample. 'Pipeline(steps=[('smote', SMOTE(random_state=42, sampling_strategy=0.5)),\n                ('under',\n                 RandomUnderSampler(random_state=42, sampling_strategy=0.5))])' implements both)\n\n--------------------------------------------------------------------------------\n35 fits failed with the following error:\nTraceback (most recent call last):\n  File \"c:\\Users\\raref\\.conda\\envs\\bootcamp_env\\Lib\\site-packages\\sklearn\\model_selection\\_validation.py\", line 686, in _fit_and_score\n    estimator.fit(X_train, y_train, **fit_params)\n  File \"c:\\Users\\raref\\.conda\\envs\\bootcamp_env\\Lib\\site-packages\\imblearn\\pipeline.py\", line 293, in fit\n    Xt, yt = self._fit(X, y, **fit_params_steps)\n             ^^^^^^^^^^^^^^^^^^^^^^^^^^^^^^^^^^^\n  File \"c:\\Users\\raref\\.conda\\envs\\bootcamp_env\\Lib\\site-packages\\imblearn\\pipeline.py\", line 211, in _fit\n    self._validate_steps()\n  File \"c:\\Users\\raref\\.conda\\envs\\bootcamp_env\\Lib\\site-packages\\imblearn\\pipeline.py\", line 170, in _validate_steps\n    raise TypeError(\nTypeError: All intermediate steps of the chain should be estimators that implement fit and transform or fit_resample. 'Pipeline(steps=[('smote', SMOTE(random_state=42, sampling_strategy=0.5)),\n                ('under',\n                 RandomUnderSampler(random_state=42, sampling_strategy=0.6))])' implements both)\n\n--------------------------------------------------------------------------------\n35 fits failed with the following error:\nTraceback (most recent call last):\n  File \"c:\\Users\\raref\\.conda\\envs\\bootcamp_env\\Lib\\site-packages\\sklearn\\model_selection\\_validation.py\", line 686, in _fit_and_score\n    estimator.fit(X_train, y_train, **fit_params)\n  File \"c:\\Users\\raref\\.conda\\envs\\bootcamp_env\\Lib\\site-packages\\imblearn\\pipeline.py\", line 293, in fit\n    Xt, yt = self._fit(X, y, **fit_params_steps)\n             ^^^^^^^^^^^^^^^^^^^^^^^^^^^^^^^^^^^\n  File \"c:\\Users\\raref\\.conda\\envs\\bootcamp_env\\Lib\\site-packages\\imblearn\\pipeline.py\", line 211, in _fit\n    self._validate_steps()\n  File \"c:\\Users\\raref\\.conda\\envs\\bootcamp_env\\Lib\\site-packages\\imblearn\\pipeline.py\", line 170, in _validate_steps\n    raise TypeError(\nTypeError: All intermediate steps of the chain should be estimators that implement fit and transform or fit_resample. 'Pipeline(steps=[('smote', SMOTE(random_state=42, sampling_strategy=0.5)),\n                ('under',\n                 RandomUnderSampler(random_state=42, sampling_strategy=0.7))])' implements both)\n\n--------------------------------------------------------------------------------\n35 fits failed with the following error:\nTraceback (most recent call last):\n  File \"c:\\Users\\raref\\.conda\\envs\\bootcamp_env\\Lib\\site-packages\\sklearn\\model_selection\\_validation.py\", line 686, in _fit_and_score\n    estimator.fit(X_train, y_train, **fit_params)\n  File \"c:\\Users\\raref\\.conda\\envs\\bootcamp_env\\Lib\\site-packages\\imblearn\\pipeline.py\", line 293, in fit\n    Xt, yt = self._fit(X, y, **fit_params_steps)\n             ^^^^^^^^^^^^^^^^^^^^^^^^^^^^^^^^^^^\n  File \"c:\\Users\\raref\\.conda\\envs\\bootcamp_env\\Lib\\site-packages\\imblearn\\pipeline.py\", line 211, in _fit\n    self._validate_steps()\n  File \"c:\\Users\\raref\\.conda\\envs\\bootcamp_env\\Lib\\site-packages\\imblearn\\pipeline.py\", line 170, in _validate_steps\n    raise TypeError(\nTypeError: All intermediate steps of the chain should be estimators that implement fit and transform or fit_resample. 'Pipeline(steps=[('smote', SMOTE(random_state=42, sampling_strategy=0.6)),\n                ('under',\n                 RandomUnderSampler(random_state=42, sampling_strategy=0.4))])' implements both)\n\n--------------------------------------------------------------------------------\n35 fits failed with the following error:\nTraceback (most recent call last):\n  File \"c:\\Users\\raref\\.conda\\envs\\bootcamp_env\\Lib\\site-packages\\sklearn\\model_selection\\_validation.py\", line 686, in _fit_and_score\n    estimator.fit(X_train, y_train, **fit_params)\n  File \"c:\\Users\\raref\\.conda\\envs\\bootcamp_env\\Lib\\site-packages\\imblearn\\pipeline.py\", line 293, in fit\n    Xt, yt = self._fit(X, y, **fit_params_steps)\n             ^^^^^^^^^^^^^^^^^^^^^^^^^^^^^^^^^^^\n  File \"c:\\Users\\raref\\.conda\\envs\\bootcamp_env\\Lib\\site-packages\\imblearn\\pipeline.py\", line 211, in _fit\n    self._validate_steps()\n  File \"c:\\Users\\raref\\.conda\\envs\\bootcamp_env\\Lib\\site-packages\\imblearn\\pipeline.py\", line 170, in _validate_steps\n    raise TypeError(\nTypeError: All intermediate steps of the chain should be estimators that implement fit and transform or fit_resample. 'Pipeline(steps=[('smote', SMOTE(random_state=42, sampling_strategy=0.6)),\n                ('under',\n                 RandomUnderSampler(random_state=42, sampling_strategy=0.5))])' implements both)\n\n--------------------------------------------------------------------------------\n35 fits failed with the following error:\nTraceback (most recent call last):\n  File \"c:\\Users\\raref\\.conda\\envs\\bootcamp_env\\Lib\\site-packages\\sklearn\\model_selection\\_validation.py\", line 686, in _fit_and_score\n    estimator.fit(X_train, y_train, **fit_params)\n  File \"c:\\Users\\raref\\.conda\\envs\\bootcamp_env\\Lib\\site-packages\\imblearn\\pipeline.py\", line 293, in fit\n    Xt, yt = self._fit(X, y, **fit_params_steps)\n             ^^^^^^^^^^^^^^^^^^^^^^^^^^^^^^^^^^^\n  File \"c:\\Users\\raref\\.conda\\envs\\bootcamp_env\\Lib\\site-packages\\imblearn\\pipeline.py\", line 211, in _fit\n    self._validate_steps()\n  File \"c:\\Users\\raref\\.conda\\envs\\bootcamp_env\\Lib\\site-packages\\imblearn\\pipeline.py\", line 170, in _validate_steps\n    raise TypeError(\nTypeError: All intermediate steps of the chain should be estimators that implement fit and transform or fit_resample. 'Pipeline(steps=[('smote', SMOTE(random_state=42, sampling_strategy=0.6)),\n                ('under',\n                 RandomUnderSampler(random_state=42, sampling_strategy=0.6))])' implements both)\n\n--------------------------------------------------------------------------------\n35 fits failed with the following error:\nTraceback (most recent call last):\n  File \"c:\\Users\\raref\\.conda\\envs\\bootcamp_env\\Lib\\site-packages\\sklearn\\model_selection\\_validation.py\", line 686, in _fit_and_score\n    estimator.fit(X_train, y_train, **fit_params)\n  File \"c:\\Users\\raref\\.conda\\envs\\bootcamp_env\\Lib\\site-packages\\imblearn\\pipeline.py\", line 293, in fit\n    Xt, yt = self._fit(X, y, **fit_params_steps)\n             ^^^^^^^^^^^^^^^^^^^^^^^^^^^^^^^^^^^\n  File \"c:\\Users\\raref\\.conda\\envs\\bootcamp_env\\Lib\\site-packages\\imblearn\\pipeline.py\", line 211, in _fit\n    self._validate_steps()\n  File \"c:\\Users\\raref\\.conda\\envs\\bootcamp_env\\Lib\\site-packages\\imblearn\\pipeline.py\", line 170, in _validate_steps\n    raise TypeError(\nTypeError: All intermediate steps of the chain should be estimators that implement fit and transform or fit_resample. 'Pipeline(steps=[('smote', SMOTE(random_state=42, sampling_strategy=0.6)),\n                ('under',\n                 RandomUnderSampler(random_state=42, sampling_strategy=0.7))])' implements both)\n\n--------------------------------------------------------------------------------\n35 fits failed with the following error:\nTraceback (most recent call last):\n  File \"c:\\Users\\raref\\.conda\\envs\\bootcamp_env\\Lib\\site-packages\\sklearn\\model_selection\\_validation.py\", line 686, in _fit_and_score\n    estimator.fit(X_train, y_train, **fit_params)\n  File \"c:\\Users\\raref\\.conda\\envs\\bootcamp_env\\Lib\\site-packages\\imblearn\\pipeline.py\", line 293, in fit\n    Xt, yt = self._fit(X, y, **fit_params_steps)\n             ^^^^^^^^^^^^^^^^^^^^^^^^^^^^^^^^^^^\n  File \"c:\\Users\\raref\\.conda\\envs\\bootcamp_env\\Lib\\site-packages\\imblearn\\pipeline.py\", line 211, in _fit\n    self._validate_steps()\n  File \"c:\\Users\\raref\\.conda\\envs\\bootcamp_env\\Lib\\site-packages\\imblearn\\pipeline.py\", line 170, in _validate_steps\n    raise TypeError(\nTypeError: All intermediate steps of the chain should be estimators that implement fit and transform or fit_resample. 'Pipeline(steps=[('smote', SMOTE(random_state=42, sampling_strategy=0.7)),\n                ('under',\n                 RandomUnderSampler(random_state=42, sampling_strategy=0.4))])' implements both)\n\n--------------------------------------------------------------------------------\n35 fits failed with the following error:\nTraceback (most recent call last):\n  File \"c:\\Users\\raref\\.conda\\envs\\bootcamp_env\\Lib\\site-packages\\sklearn\\model_selection\\_validation.py\", line 686, in _fit_and_score\n    estimator.fit(X_train, y_train, **fit_params)\n  File \"c:\\Users\\raref\\.conda\\envs\\bootcamp_env\\Lib\\site-packages\\imblearn\\pipeline.py\", line 293, in fit\n    Xt, yt = self._fit(X, y, **fit_params_steps)\n             ^^^^^^^^^^^^^^^^^^^^^^^^^^^^^^^^^^^\n  File \"c:\\Users\\raref\\.conda\\envs\\bootcamp_env\\Lib\\site-packages\\imblearn\\pipeline.py\", line 211, in _fit\n    self._validate_steps()\n  File \"c:\\Users\\raref\\.conda\\envs\\bootcamp_env\\Lib\\site-packages\\imblearn\\pipeline.py\", line 170, in _validate_steps\n    raise TypeError(\nTypeError: All intermediate steps of the chain should be estimators that implement fit and transform or fit_resample. 'Pipeline(steps=[('smote', SMOTE(random_state=42, sampling_strategy=0.7)),\n                ('under',\n                 RandomUnderSampler(random_state=42, sampling_strategy=0.5))])' implements both)\n\n--------------------------------------------------------------------------------\n35 fits failed with the following error:\nTraceback (most recent call last):\n  File \"c:\\Users\\raref\\.conda\\envs\\bootcamp_env\\Lib\\site-packages\\sklearn\\model_selection\\_validation.py\", line 686, in _fit_and_score\n    estimator.fit(X_train, y_train, **fit_params)\n  File \"c:\\Users\\raref\\.conda\\envs\\bootcamp_env\\Lib\\site-packages\\imblearn\\pipeline.py\", line 293, in fit\n    Xt, yt = self._fit(X, y, **fit_params_steps)\n             ^^^^^^^^^^^^^^^^^^^^^^^^^^^^^^^^^^^\n  File \"c:\\Users\\raref\\.conda\\envs\\bootcamp_env\\Lib\\site-packages\\imblearn\\pipeline.py\", line 211, in _fit\n    self._validate_steps()\n  File \"c:\\Users\\raref\\.conda\\envs\\bootcamp_env\\Lib\\site-packages\\imblearn\\pipeline.py\", line 170, in _validate_steps\n    raise TypeError(\nTypeError: All intermediate steps of the chain should be estimators that implement fit and transform or fit_resample. 'Pipeline(steps=[('smote', SMOTE(random_state=42, sampling_strategy=0.7)),\n                ('under',\n                 RandomUnderSampler(random_state=42, sampling_strategy=0.6))])' implements both)\n\n--------------------------------------------------------------------------------\n35 fits failed with the following error:\nTraceback (most recent call last):\n  File \"c:\\Users\\raref\\.conda\\envs\\bootcamp_env\\Lib\\site-packages\\sklearn\\model_selection\\_validation.py\", line 686, in _fit_and_score\n    estimator.fit(X_train, y_train, **fit_params)\n  File \"c:\\Users\\raref\\.conda\\envs\\bootcamp_env\\Lib\\site-packages\\imblearn\\pipeline.py\", line 293, in fit\n    Xt, yt = self._fit(X, y, **fit_params_steps)\n             ^^^^^^^^^^^^^^^^^^^^^^^^^^^^^^^^^^^\n  File \"c:\\Users\\raref\\.conda\\envs\\bootcamp_env\\Lib\\site-packages\\imblearn\\pipeline.py\", line 211, in _fit\n    self._validate_steps()\n  File \"c:\\Users\\raref\\.conda\\envs\\bootcamp_env\\Lib\\site-packages\\imblearn\\pipeline.py\", line 170, in _validate_steps\n    raise TypeError(\nTypeError: All intermediate steps of the chain should be estimators that implement fit and transform or fit_resample. 'Pipeline(steps=[('smote', SMOTE(random_state=42, sampling_strategy=0.7)),\n                ('under',\n                 RandomUnderSampler(random_state=42, sampling_strategy=0.7))])' implements both)\n\n--------------------------------------------------------------------------------\n35 fits failed with the following error:\nTraceback (most recent call last):\n  File \"c:\\Users\\raref\\.conda\\envs\\bootcamp_env\\Lib\\site-packages\\sklearn\\model_selection\\_validation.py\", line 686, in _fit_and_score\n    estimator.fit(X_train, y_train, **fit_params)\n  File \"c:\\Users\\raref\\.conda\\envs\\bootcamp_env\\Lib\\site-packages\\imblearn\\pipeline.py\", line 293, in fit\n    Xt, yt = self._fit(X, y, **fit_params_steps)\n             ^^^^^^^^^^^^^^^^^^^^^^^^^^^^^^^^^^^\n  File \"c:\\Users\\raref\\.conda\\envs\\bootcamp_env\\Lib\\site-packages\\imblearn\\pipeline.py\", line 211, in _fit\n    self._validate_steps()\n  File \"c:\\Users\\raref\\.conda\\envs\\bootcamp_env\\Lib\\site-packages\\imblearn\\pipeline.py\", line 170, in _validate_steps\n    raise TypeError(\nTypeError: All intermediate steps of the chain should be estimators that implement fit and transform or fit_resample. 'Pipeline(steps=[('smote', SMOTE(random_state=42, sampling_strategy=0.8)),\n                ('under',\n                 RandomUnderSampler(random_state=42, sampling_strategy=0.4))])' implements both)\n\n--------------------------------------------------------------------------------\n35 fits failed with the following error:\nTraceback (most recent call last):\n  File \"c:\\Users\\raref\\.conda\\envs\\bootcamp_env\\Lib\\site-packages\\sklearn\\model_selection\\_validation.py\", line 686, in _fit_and_score\n    estimator.fit(X_train, y_train, **fit_params)\n  File \"c:\\Users\\raref\\.conda\\envs\\bootcamp_env\\Lib\\site-packages\\imblearn\\pipeline.py\", line 293, in fit\n    Xt, yt = self._fit(X, y, **fit_params_steps)\n             ^^^^^^^^^^^^^^^^^^^^^^^^^^^^^^^^^^^\n  File \"c:\\Users\\raref\\.conda\\envs\\bootcamp_env\\Lib\\site-packages\\imblearn\\pipeline.py\", line 211, in _fit\n    self._validate_steps()\n  File \"c:\\Users\\raref\\.conda\\envs\\bootcamp_env\\Lib\\site-packages\\imblearn\\pipeline.py\", line 170, in _validate_steps\n    raise TypeError(\nTypeError: All intermediate steps of the chain should be estimators that implement fit and transform or fit_resample. 'Pipeline(steps=[('smote', SMOTE(random_state=42, sampling_strategy=0.8)),\n                ('under',\n                 RandomUnderSampler(random_state=42, sampling_strategy=0.5))])' implements both)\n\n--------------------------------------------------------------------------------\n35 fits failed with the following error:\nTraceback (most recent call last):\n  File \"c:\\Users\\raref\\.conda\\envs\\bootcamp_env\\Lib\\site-packages\\sklearn\\model_selection\\_validation.py\", line 686, in _fit_and_score\n    estimator.fit(X_train, y_train, **fit_params)\n  File \"c:\\Users\\raref\\.conda\\envs\\bootcamp_env\\Lib\\site-packages\\imblearn\\pipeline.py\", line 293, in fit\n    Xt, yt = self._fit(X, y, **fit_params_steps)\n             ^^^^^^^^^^^^^^^^^^^^^^^^^^^^^^^^^^^\n  File \"c:\\Users\\raref\\.conda\\envs\\bootcamp_env\\Lib\\site-packages\\imblearn\\pipeline.py\", line 211, in _fit\n    self._validate_steps()\n  File \"c:\\Users\\raref\\.conda\\envs\\bootcamp_env\\Lib\\site-packages\\imblearn\\pipeline.py\", line 170, in _validate_steps\n    raise TypeError(\nTypeError: All intermediate steps of the chain should be estimators that implement fit and transform or fit_resample. 'Pipeline(steps=[('smote', SMOTE(random_state=42, sampling_strategy=0.8)),\n                ('under',\n                 RandomUnderSampler(random_state=42, sampling_strategy=0.6))])' implements both)\n\n--------------------------------------------------------------------------------\n35 fits failed with the following error:\nTraceback (most recent call last):\n  File \"c:\\Users\\raref\\.conda\\envs\\bootcamp_env\\Lib\\site-packages\\sklearn\\model_selection\\_validation.py\", line 686, in _fit_and_score\n    estimator.fit(X_train, y_train, **fit_params)\n  File \"c:\\Users\\raref\\.conda\\envs\\bootcamp_env\\Lib\\site-packages\\imblearn\\pipeline.py\", line 293, in fit\n    Xt, yt = self._fit(X, y, **fit_params_steps)\n             ^^^^^^^^^^^^^^^^^^^^^^^^^^^^^^^^^^^\n  File \"c:\\Users\\raref\\.conda\\envs\\bootcamp_env\\Lib\\site-packages\\imblearn\\pipeline.py\", line 211, in _fit\n    self._validate_steps()\n  File \"c:\\Users\\raref\\.conda\\envs\\bootcamp_env\\Lib\\site-packages\\imblearn\\pipeline.py\", line 170, in _validate_steps\n    raise TypeError(\nTypeError: All intermediate steps of the chain should be estimators that implement fit and transform or fit_resample. 'Pipeline(steps=[('smote', SMOTE(random_state=42, sampling_strategy=0.8)),\n                ('under',\n                 RandomUnderSampler(random_state=42, sampling_strategy=0.7))])' implements both)\n\n--------------------------------------------------------------------------------\n35 fits failed with the following error:\nTraceback (most recent call last):\n  File \"c:\\Users\\raref\\.conda\\envs\\bootcamp_env\\Lib\\site-packages\\sklearn\\model_selection\\_validation.py\", line 686, in _fit_and_score\n    estimator.fit(X_train, y_train, **fit_params)\n  File \"c:\\Users\\raref\\.conda\\envs\\bootcamp_env\\Lib\\site-packages\\imblearn\\pipeline.py\", line 293, in fit\n    Xt, yt = self._fit(X, y, **fit_params_steps)\n             ^^^^^^^^^^^^^^^^^^^^^^^^^^^^^^^^^^^\n  File \"c:\\Users\\raref\\.conda\\envs\\bootcamp_env\\Lib\\site-packages\\imblearn\\pipeline.py\", line 211, in _fit\n    self._validate_steps()\n  File \"c:\\Users\\raref\\.conda\\envs\\bootcamp_env\\Lib\\site-packages\\imblearn\\pipeline.py\", line 170, in _validate_steps\n    raise TypeError(\nTypeError: All intermediate steps of the chain should be estimators that implement fit and transform or fit_resample. 'Pipeline(steps=[('smote', SMOTE(random_state=42, sampling_strategy=0.9)),\n                ('under',\n                 RandomUnderSampler(random_state=42, sampling_strategy=0.4))])' implements both)\n\n--------------------------------------------------------------------------------\n35 fits failed with the following error:\nTraceback (most recent call last):\n  File \"c:\\Users\\raref\\.conda\\envs\\bootcamp_env\\Lib\\site-packages\\sklearn\\model_selection\\_validation.py\", line 686, in _fit_and_score\n    estimator.fit(X_train, y_train, **fit_params)\n  File \"c:\\Users\\raref\\.conda\\envs\\bootcamp_env\\Lib\\site-packages\\imblearn\\pipeline.py\", line 293, in fit\n    Xt, yt = self._fit(X, y, **fit_params_steps)\n             ^^^^^^^^^^^^^^^^^^^^^^^^^^^^^^^^^^^\n  File \"c:\\Users\\raref\\.conda\\envs\\bootcamp_env\\Lib\\site-packages\\imblearn\\pipeline.py\", line 211, in _fit\n    self._validate_steps()\n  File \"c:\\Users\\raref\\.conda\\envs\\bootcamp_env\\Lib\\site-packages\\imblearn\\pipeline.py\", line 170, in _validate_steps\n    raise TypeError(\nTypeError: All intermediate steps of the chain should be estimators that implement fit and transform or fit_resample. 'Pipeline(steps=[('smote', SMOTE(random_state=42, sampling_strategy=0.9)),\n                ('under',\n                 RandomUnderSampler(random_state=42, sampling_strategy=0.5))])' implements both)\n\n--------------------------------------------------------------------------------\n35 fits failed with the following error:\nTraceback (most recent call last):\n  File \"c:\\Users\\raref\\.conda\\envs\\bootcamp_env\\Lib\\site-packages\\sklearn\\model_selection\\_validation.py\", line 686, in _fit_and_score\n    estimator.fit(X_train, y_train, **fit_params)\n  File \"c:\\Users\\raref\\.conda\\envs\\bootcamp_env\\Lib\\site-packages\\imblearn\\pipeline.py\", line 293, in fit\n    Xt, yt = self._fit(X, y, **fit_params_steps)\n             ^^^^^^^^^^^^^^^^^^^^^^^^^^^^^^^^^^^\n  File \"c:\\Users\\raref\\.conda\\envs\\bootcamp_env\\Lib\\site-packages\\imblearn\\pipeline.py\", line 211, in _fit\n    self._validate_steps()\n  File \"c:\\Users\\raref\\.conda\\envs\\bootcamp_env\\Lib\\site-packages\\imblearn\\pipeline.py\", line 170, in _validate_steps\n    raise TypeError(\nTypeError: All intermediate steps of the chain should be estimators that implement fit and transform or fit_resample. 'Pipeline(steps=[('smote', SMOTE(random_state=42, sampling_strategy=0.9)),\n                ('under',\n                 RandomUnderSampler(random_state=42, sampling_strategy=0.6))])' implements both)\n\n--------------------------------------------------------------------------------\n35 fits failed with the following error:\nTraceback (most recent call last):\n  File \"c:\\Users\\raref\\.conda\\envs\\bootcamp_env\\Lib\\site-packages\\sklearn\\model_selection\\_validation.py\", line 686, in _fit_and_score\n    estimator.fit(X_train, y_train, **fit_params)\n  File \"c:\\Users\\raref\\.conda\\envs\\bootcamp_env\\Lib\\site-packages\\imblearn\\pipeline.py\", line 293, in fit\n    Xt, yt = self._fit(X, y, **fit_params_steps)\n             ^^^^^^^^^^^^^^^^^^^^^^^^^^^^^^^^^^^\n  File \"c:\\Users\\raref\\.conda\\envs\\bootcamp_env\\Lib\\site-packages\\imblearn\\pipeline.py\", line 211, in _fit\n    self._validate_steps()\n  File \"c:\\Users\\raref\\.conda\\envs\\bootcamp_env\\Lib\\site-packages\\imblearn\\pipeline.py\", line 170, in _validate_steps\n    raise TypeError(\nTypeError: All intermediate steps of the chain should be estimators that implement fit and transform or fit_resample. 'Pipeline(steps=[('smote', SMOTE(random_state=42, sampling_strategy=0.9)),\n                ('under',\n                 RandomUnderSampler(random_state=42, sampling_strategy=0.7))])' implements both)\n\n--------------------------------------------------------------------------------\n35 fits failed with the following error:\nTraceback (most recent call last):\n  File \"c:\\Users\\raref\\.conda\\envs\\bootcamp_env\\Lib\\site-packages\\sklearn\\model_selection\\_validation.py\", line 686, in _fit_and_score\n    estimator.fit(X_train, y_train, **fit_params)\n  File \"c:\\Users\\raref\\.conda\\envs\\bootcamp_env\\Lib\\site-packages\\imblearn\\pipeline.py\", line 293, in fit\n    Xt, yt = self._fit(X, y, **fit_params_steps)\n             ^^^^^^^^^^^^^^^^^^^^^^^^^^^^^^^^^^^\n  File \"c:\\Users\\raref\\.conda\\envs\\bootcamp_env\\Lib\\site-packages\\imblearn\\pipeline.py\", line 211, in _fit\n    self._validate_steps()\n  File \"c:\\Users\\raref\\.conda\\envs\\bootcamp_env\\Lib\\site-packages\\imblearn\\pipeline.py\", line 170, in _validate_steps\n    raise TypeError(\nTypeError: All intermediate steps of the chain should be estimators that implement fit and transform or fit_resample. 'Pipeline(steps=[('smote', SMOTE(random_state=42, sampling_strategy=1.0)),\n                ('under',\n                 RandomUnderSampler(random_state=42, sampling_strategy=0.4))])' implements both)\n\n--------------------------------------------------------------------------------\n35 fits failed with the following error:\nTraceback (most recent call last):\n  File \"c:\\Users\\raref\\.conda\\envs\\bootcamp_env\\Lib\\site-packages\\sklearn\\model_selection\\_validation.py\", line 686, in _fit_and_score\n    estimator.fit(X_train, y_train, **fit_params)\n  File \"c:\\Users\\raref\\.conda\\envs\\bootcamp_env\\Lib\\site-packages\\imblearn\\pipeline.py\", line 293, in fit\n    Xt, yt = self._fit(X, y, **fit_params_steps)\n             ^^^^^^^^^^^^^^^^^^^^^^^^^^^^^^^^^^^\n  File \"c:\\Users\\raref\\.conda\\envs\\bootcamp_env\\Lib\\site-packages\\imblearn\\pipeline.py\", line 211, in _fit\n    self._validate_steps()\n  File \"c:\\Users\\raref\\.conda\\envs\\bootcamp_env\\Lib\\site-packages\\imblearn\\pipeline.py\", line 170, in _validate_steps\n    raise TypeError(\nTypeError: All intermediate steps of the chain should be estimators that implement fit and transform or fit_resample. 'Pipeline(steps=[('smote', SMOTE(random_state=42, sampling_strategy=1.0)),\n                ('under',\n                 RandomUnderSampler(random_state=42, sampling_strategy=0.5))])' implements both)\n\n--------------------------------------------------------------------------------\n35 fits failed with the following error:\nTraceback (most recent call last):\n  File \"c:\\Users\\raref\\.conda\\envs\\bootcamp_env\\Lib\\site-packages\\sklearn\\model_selection\\_validation.py\", line 686, in _fit_and_score\n    estimator.fit(X_train, y_train, **fit_params)\n  File \"c:\\Users\\raref\\.conda\\envs\\bootcamp_env\\Lib\\site-packages\\imblearn\\pipeline.py\", line 293, in fit\n    Xt, yt = self._fit(X, y, **fit_params_steps)\n             ^^^^^^^^^^^^^^^^^^^^^^^^^^^^^^^^^^^\n  File \"c:\\Users\\raref\\.conda\\envs\\bootcamp_env\\Lib\\site-packages\\imblearn\\pipeline.py\", line 211, in _fit\n    self._validate_steps()\n  File \"c:\\Users\\raref\\.conda\\envs\\bootcamp_env\\Lib\\site-packages\\imblearn\\pipeline.py\", line 170, in _validate_steps\n    raise TypeError(\nTypeError: All intermediate steps of the chain should be estimators that implement fit and transform or fit_resample. 'Pipeline(steps=[('smote', SMOTE(random_state=42, sampling_strategy=1.0)),\n                ('under',\n                 RandomUnderSampler(random_state=42, sampling_strategy=0.6))])' implements both)\n\n--------------------------------------------------------------------------------\n35 fits failed with the following error:\nTraceback (most recent call last):\n  File \"c:\\Users\\raref\\.conda\\envs\\bootcamp_env\\Lib\\site-packages\\sklearn\\model_selection\\_validation.py\", line 686, in _fit_and_score\n    estimator.fit(X_train, y_train, **fit_params)\n  File \"c:\\Users\\raref\\.conda\\envs\\bootcamp_env\\Lib\\site-packages\\imblearn\\pipeline.py\", line 293, in fit\n    Xt, yt = self._fit(X, y, **fit_params_steps)\n             ^^^^^^^^^^^^^^^^^^^^^^^^^^^^^^^^^^^\n  File \"c:\\Users\\raref\\.conda\\envs\\bootcamp_env\\Lib\\site-packages\\imblearn\\pipeline.py\", line 211, in _fit\n    self._validate_steps()\n  File \"c:\\Users\\raref\\.conda\\envs\\bootcamp_env\\Lib\\site-packages\\imblearn\\pipeline.py\", line 170, in _validate_steps\n    raise TypeError(\nTypeError: All intermediate steps of the chain should be estimators that implement fit and transform or fit_resample. 'Pipeline(steps=[('smote', SMOTE(random_state=42, sampling_strategy=1.0)),\n                ('under',\n                 RandomUnderSampler(random_state=42, sampling_strategy=0.7))])' implements both)\n",
     "output_type": "error",
     "traceback": [
      "\u001b[1;31m---------------------------------------------------------------------------\u001b[0m",
      "\u001b[1;31mValueError\u001b[0m                                Traceback (most recent call last)",
      "\u001b[1;32mc:\\Users\\raref\\Lighthouse\\Final-Project-ER-Private\\src\\erwait_model_logit.ipynb Cell 110\u001b[0m line \u001b[0;36m2\n\u001b[0;32m     <a href='vscode-notebook-cell:/c%3A/Users/raref/Lighthouse/Final-Project-ER-Private/src/erwait_model_logit.ipynb#Y312sZmlsZQ%3D%3D?line=23'>24</a>\u001b[0m grid_search \u001b[39m=\u001b[39m GridSearchCV(pipeline, param_grid, scoring\u001b[39m=\u001b[39m\u001b[39m'\u001b[39m\u001b[39mf1_macro\u001b[39m\u001b[39m'\u001b[39m, cv\u001b[39m=\u001b[39m\u001b[39m5\u001b[39m, n_jobs\u001b[39m=\u001b[39m\u001b[39m-\u001b[39m\u001b[39m1\u001b[39m, verbose\u001b[39m=\u001b[39m\u001b[39m2\u001b[39m)\n\u001b[0;32m     <a href='vscode-notebook-cell:/c%3A/Users/raref/Lighthouse/Final-Project-ER-Private/src/erwait_model_logit.ipynb#Y312sZmlsZQ%3D%3D?line=25'>26</a>\u001b[0m \u001b[39m# Fit the model\u001b[39;00m\n\u001b[1;32m---> <a href='vscode-notebook-cell:/c%3A/Users/raref/Lighthouse/Final-Project-ER-Private/src/erwait_model_logit.ipynb#Y312sZmlsZQ%3D%3D?line=26'>27</a>\u001b[0m grid_search\u001b[39m.\u001b[39mfit(X_train, y_train)\n",
      "File \u001b[1;32mc:\\Users\\raref\\.conda\\envs\\bootcamp_env\\Lib\\site-packages\\sklearn\\model_selection\\_search.py:874\u001b[0m, in \u001b[0;36mBaseSearchCV.fit\u001b[1;34m(self, X, y, groups, **fit_params)\u001b[0m\n\u001b[0;32m    868\u001b[0m     results \u001b[39m=\u001b[39m \u001b[39mself\u001b[39m\u001b[39m.\u001b[39m_format_results(\n\u001b[0;32m    869\u001b[0m         all_candidate_params, n_splits, all_out, all_more_results\n\u001b[0;32m    870\u001b[0m     )\n\u001b[0;32m    872\u001b[0m     \u001b[39mreturn\u001b[39;00m results\n\u001b[1;32m--> 874\u001b[0m \u001b[39mself\u001b[39m\u001b[39m.\u001b[39m_run_search(evaluate_candidates)\n\u001b[0;32m    876\u001b[0m \u001b[39m# multimetric is determined here because in the case of a callable\u001b[39;00m\n\u001b[0;32m    877\u001b[0m \u001b[39m# self.scoring the return type is only known after calling\u001b[39;00m\n\u001b[0;32m    878\u001b[0m first_test_score \u001b[39m=\u001b[39m all_out[\u001b[39m0\u001b[39m][\u001b[39m\"\u001b[39m\u001b[39mtest_scores\u001b[39m\u001b[39m\"\u001b[39m]\n",
      "File \u001b[1;32mc:\\Users\\raref\\.conda\\envs\\bootcamp_env\\Lib\\site-packages\\sklearn\\model_selection\\_search.py:1388\u001b[0m, in \u001b[0;36mGridSearchCV._run_search\u001b[1;34m(self, evaluate_candidates)\u001b[0m\n\u001b[0;32m   1386\u001b[0m \u001b[39mdef\u001b[39;00m \u001b[39m_run_search\u001b[39m(\u001b[39mself\u001b[39m, evaluate_candidates):\n\u001b[0;32m   1387\u001b[0m \u001b[39m    \u001b[39m\u001b[39m\"\"\"Search all candidates in param_grid\"\"\"\u001b[39;00m\n\u001b[1;32m-> 1388\u001b[0m     evaluate_candidates(ParameterGrid(\u001b[39mself\u001b[39m\u001b[39m.\u001b[39mparam_grid))\n",
      "File \u001b[1;32mc:\\Users\\raref\\.conda\\envs\\bootcamp_env\\Lib\\site-packages\\sklearn\\model_selection\\_search.py:851\u001b[0m, in \u001b[0;36mBaseSearchCV.fit.<locals>.evaluate_candidates\u001b[1;34m(candidate_params, cv, more_results)\u001b[0m\n\u001b[0;32m    844\u001b[0m \u001b[39melif\u001b[39;00m \u001b[39mlen\u001b[39m(out) \u001b[39m!=\u001b[39m n_candidates \u001b[39m*\u001b[39m n_splits:\n\u001b[0;32m    845\u001b[0m     \u001b[39mraise\u001b[39;00m \u001b[39mValueError\u001b[39;00m(\n\u001b[0;32m    846\u001b[0m         \u001b[39m\"\u001b[39m\u001b[39mcv.split and cv.get_n_splits returned \u001b[39m\u001b[39m\"\u001b[39m\n\u001b[0;32m    847\u001b[0m         \u001b[39m\"\u001b[39m\u001b[39minconsistent results. Expected \u001b[39m\u001b[39m{}\u001b[39;00m\u001b[39m \u001b[39m\u001b[39m\"\u001b[39m\n\u001b[0;32m    848\u001b[0m         \u001b[39m\"\u001b[39m\u001b[39msplits, got \u001b[39m\u001b[39m{}\u001b[39;00m\u001b[39m\"\u001b[39m\u001b[39m.\u001b[39mformat(n_splits, \u001b[39mlen\u001b[39m(out) \u001b[39m/\u001b[39m\u001b[39m/\u001b[39m n_candidates)\n\u001b[0;32m    849\u001b[0m     )\n\u001b[1;32m--> 851\u001b[0m _warn_or_raise_about_fit_failures(out, \u001b[39mself\u001b[39m\u001b[39m.\u001b[39merror_score)\n\u001b[0;32m    853\u001b[0m \u001b[39m# For callable self.scoring, the return type is only know after\u001b[39;00m\n\u001b[0;32m    854\u001b[0m \u001b[39m# calling. If the return type is a dictionary, the error scores\u001b[39;00m\n\u001b[0;32m    855\u001b[0m \u001b[39m# can now be inserted with the correct key. The type checking\u001b[39;00m\n\u001b[0;32m    856\u001b[0m \u001b[39m# of out will be done in `_insert_error_scores`.\u001b[39;00m\n\u001b[0;32m    857\u001b[0m \u001b[39mif\u001b[39;00m \u001b[39mcallable\u001b[39m(\u001b[39mself\u001b[39m\u001b[39m.\u001b[39mscoring):\n",
      "File \u001b[1;32mc:\\Users\\raref\\.conda\\envs\\bootcamp_env\\Lib\\site-packages\\sklearn\\model_selection\\_validation.py:367\u001b[0m, in \u001b[0;36m_warn_or_raise_about_fit_failures\u001b[1;34m(results, error_score)\u001b[0m\n\u001b[0;32m    360\u001b[0m \u001b[39mif\u001b[39;00m num_failed_fits \u001b[39m==\u001b[39m num_fits:\n\u001b[0;32m    361\u001b[0m     all_fits_failed_message \u001b[39m=\u001b[39m (\n\u001b[0;32m    362\u001b[0m         \u001b[39mf\u001b[39m\u001b[39m\"\u001b[39m\u001b[39m\\n\u001b[39;00m\u001b[39mAll the \u001b[39m\u001b[39m{\u001b[39;00mnum_fits\u001b[39m}\u001b[39;00m\u001b[39m fits failed.\u001b[39m\u001b[39m\\n\u001b[39;00m\u001b[39m\"\u001b[39m\n\u001b[0;32m    363\u001b[0m         \u001b[39m\"\u001b[39m\u001b[39mIt is very likely that your model is misconfigured.\u001b[39m\u001b[39m\\n\u001b[39;00m\u001b[39m\"\u001b[39m\n\u001b[0;32m    364\u001b[0m         \u001b[39m\"\u001b[39m\u001b[39mYou can try to debug the error by setting error_score=\u001b[39m\u001b[39m'\u001b[39m\u001b[39mraise\u001b[39m\u001b[39m'\u001b[39m\u001b[39m.\u001b[39m\u001b[39m\\n\u001b[39;00m\u001b[39m\\n\u001b[39;00m\u001b[39m\"\u001b[39m\n\u001b[0;32m    365\u001b[0m         \u001b[39mf\u001b[39m\u001b[39m\"\u001b[39m\u001b[39mBelow are more details about the failures:\u001b[39m\u001b[39m\\n\u001b[39;00m\u001b[39m{\u001b[39;00mfit_errors_summary\u001b[39m}\u001b[39;00m\u001b[39m\"\u001b[39m\n\u001b[0;32m    366\u001b[0m     )\n\u001b[1;32m--> 367\u001b[0m     \u001b[39mraise\u001b[39;00m \u001b[39mValueError\u001b[39;00m(all_fits_failed_message)\n\u001b[0;32m    369\u001b[0m \u001b[39melse\u001b[39;00m:\n\u001b[0;32m    370\u001b[0m     some_fits_failed_message \u001b[39m=\u001b[39m (\n\u001b[0;32m    371\u001b[0m         \u001b[39mf\u001b[39m\u001b[39m\"\u001b[39m\u001b[39m\\n\u001b[39;00m\u001b[39m{\u001b[39;00mnum_failed_fits\u001b[39m}\u001b[39;00m\u001b[39m fits failed out of a total of \u001b[39m\u001b[39m{\u001b[39;00mnum_fits\u001b[39m}\u001b[39;00m\u001b[39m.\u001b[39m\u001b[39m\\n\u001b[39;00m\u001b[39m\"\u001b[39m\n\u001b[0;32m    372\u001b[0m         \u001b[39m\"\u001b[39m\u001b[39mThe score on these train-test partitions for these parameters\u001b[39m\u001b[39m\"\u001b[39m\n\u001b[1;32m   (...)\u001b[0m\n\u001b[0;32m    376\u001b[0m         \u001b[39mf\u001b[39m\u001b[39m\"\u001b[39m\u001b[39mBelow are more details about the failures:\u001b[39m\u001b[39m\\n\u001b[39;00m\u001b[39m{\u001b[39;00mfit_errors_summary\u001b[39m}\u001b[39;00m\u001b[39m\"\u001b[39m\n\u001b[0;32m    377\u001b[0m     )\n",
      "\u001b[1;31mValueError\u001b[0m: \nAll the 1400 fits failed.\nIt is very likely that your model is misconfigured.\nYou can try to debug the error by setting error_score='raise'.\n\nBelow are more details about the failures:\n--------------------------------------------------------------------------------\n35 fits failed with the following error:\nTraceback (most recent call last):\n  File \"c:\\Users\\raref\\.conda\\envs\\bootcamp_env\\Lib\\site-packages\\sklearn\\model_selection\\_validation.py\", line 686, in _fit_and_score\n    estimator.fit(X_train, y_train, **fit_params)\n  File \"c:\\Users\\raref\\.conda\\envs\\bootcamp_env\\Lib\\site-packages\\imblearn\\pipeline.py\", line 293, in fit\n    Xt, yt = self._fit(X, y, **fit_params_steps)\n             ^^^^^^^^^^^^^^^^^^^^^^^^^^^^^^^^^^^\n  File \"c:\\Users\\raref\\.conda\\envs\\bootcamp_env\\Lib\\site-packages\\imblearn\\pipeline.py\", line 211, in _fit\n    self._validate_steps()\n  File \"c:\\Users\\raref\\.conda\\envs\\bootcamp_env\\Lib\\site-packages\\imblearn\\pipeline.py\", line 170, in _validate_steps\n    raise TypeError(\nTypeError: All intermediate steps of the chain should be estimators that implement fit and transform or fit_resample. 'Pipeline(steps=[('smote', SMOTE(random_state=42, sampling_strategy=0.1)),\n                ('under',\n                 RandomUnderSampler(random_state=42, sampling_strategy=0.4))])' implements both)\n\n--------------------------------------------------------------------------------\n35 fits failed with the following error:\nTraceback (most recent call last):\n  File \"c:\\Users\\raref\\.conda\\envs\\bootcamp_env\\Lib\\site-packages\\sklearn\\model_selection\\_validation.py\", line 686, in _fit_and_score\n    estimator.fit(X_train, y_train, **fit_params)\n  File \"c:\\Users\\raref\\.conda\\envs\\bootcamp_env\\Lib\\site-packages\\imblearn\\pipeline.py\", line 293, in fit\n    Xt, yt = self._fit(X, y, **fit_params_steps)\n             ^^^^^^^^^^^^^^^^^^^^^^^^^^^^^^^^^^^\n  File \"c:\\Users\\raref\\.conda\\envs\\bootcamp_env\\Lib\\site-packages\\imblearn\\pipeline.py\", line 211, in _fit\n    self._validate_steps()\n  File \"c:\\Users\\raref\\.conda\\envs\\bootcamp_env\\Lib\\site-packages\\imblearn\\pipeline.py\", line 170, in _validate_steps\n    raise TypeError(\nTypeError: All intermediate steps of the chain should be estimators that implement fit and transform or fit_resample. 'Pipeline(steps=[('smote', SMOTE(random_state=42, sampling_strategy=0.1)),\n                ('under',\n                 RandomUnderSampler(random_state=42, sampling_strategy=0.5))])' implements both)\n\n--------------------------------------------------------------------------------\n35 fits failed with the following error:\nTraceback (most recent call last):\n  File \"c:\\Users\\raref\\.conda\\envs\\bootcamp_env\\Lib\\site-packages\\sklearn\\model_selection\\_validation.py\", line 686, in _fit_and_score\n    estimator.fit(X_train, y_train, **fit_params)\n  File \"c:\\Users\\raref\\.conda\\envs\\bootcamp_env\\Lib\\site-packages\\imblearn\\pipeline.py\", line 293, in fit\n    Xt, yt = self._fit(X, y, **fit_params_steps)\n             ^^^^^^^^^^^^^^^^^^^^^^^^^^^^^^^^^^^\n  File \"c:\\Users\\raref\\.conda\\envs\\bootcamp_env\\Lib\\site-packages\\imblearn\\pipeline.py\", line 211, in _fit\n    self._validate_steps()\n  File \"c:\\Users\\raref\\.conda\\envs\\bootcamp_env\\Lib\\site-packages\\imblearn\\pipeline.py\", line 170, in _validate_steps\n    raise TypeError(\nTypeError: All intermediate steps of the chain should be estimators that implement fit and transform or fit_resample. 'Pipeline(steps=[('smote', SMOTE(random_state=42, sampling_strategy=0.1)),\n                ('under',\n                 RandomUnderSampler(random_state=42, sampling_strategy=0.6))])' implements both)\n\n--------------------------------------------------------------------------------\n35 fits failed with the following error:\nTraceback (most recent call last):\n  File \"c:\\Users\\raref\\.conda\\envs\\bootcamp_env\\Lib\\site-packages\\sklearn\\model_selection\\_validation.py\", line 686, in _fit_and_score\n    estimator.fit(X_train, y_train, **fit_params)\n  File \"c:\\Users\\raref\\.conda\\envs\\bootcamp_env\\Lib\\site-packages\\imblearn\\pipeline.py\", line 293, in fit\n    Xt, yt = self._fit(X, y, **fit_params_steps)\n             ^^^^^^^^^^^^^^^^^^^^^^^^^^^^^^^^^^^\n  File \"c:\\Users\\raref\\.conda\\envs\\bootcamp_env\\Lib\\site-packages\\imblearn\\pipeline.py\", line 211, in _fit\n    self._validate_steps()\n  File \"c:\\Users\\raref\\.conda\\envs\\bootcamp_env\\Lib\\site-packages\\imblearn\\pipeline.py\", line 170, in _validate_steps\n    raise TypeError(\nTypeError: All intermediate steps of the chain should be estimators that implement fit and transform or fit_resample. 'Pipeline(steps=[('smote', SMOTE(random_state=42, sampling_strategy=0.1)),\n                ('under',\n                 RandomUnderSampler(random_state=42, sampling_strategy=0.7))])' implements both)\n\n--------------------------------------------------------------------------------\n35 fits failed with the following error:\nTraceback (most recent call last):\n  File \"c:\\Users\\raref\\.conda\\envs\\bootcamp_env\\Lib\\site-packages\\sklearn\\model_selection\\_validation.py\", line 686, in _fit_and_score\n    estimator.fit(X_train, y_train, **fit_params)\n  File \"c:\\Users\\raref\\.conda\\envs\\bootcamp_env\\Lib\\site-packages\\imblearn\\pipeline.py\", line 293, in fit\n    Xt, yt = self._fit(X, y, **fit_params_steps)\n             ^^^^^^^^^^^^^^^^^^^^^^^^^^^^^^^^^^^\n  File \"c:\\Users\\raref\\.conda\\envs\\bootcamp_env\\Lib\\site-packages\\imblearn\\pipeline.py\", line 211, in _fit\n    self._validate_steps()\n  File \"c:\\Users\\raref\\.conda\\envs\\bootcamp_env\\Lib\\site-packages\\imblearn\\pipeline.py\", line 170, in _validate_steps\n    raise TypeError(\nTypeError: All intermediate steps of the chain should be estimators that implement fit and transform or fit_resample. 'Pipeline(steps=[('smote', SMOTE(random_state=42, sampling_strategy=0.2)),\n                ('under',\n                 RandomUnderSampler(random_state=42, sampling_strategy=0.4))])' implements both)\n\n--------------------------------------------------------------------------------\n35 fits failed with the following error:\nTraceback (most recent call last):\n  File \"c:\\Users\\raref\\.conda\\envs\\bootcamp_env\\Lib\\site-packages\\sklearn\\model_selection\\_validation.py\", line 686, in _fit_and_score\n    estimator.fit(X_train, y_train, **fit_params)\n  File \"c:\\Users\\raref\\.conda\\envs\\bootcamp_env\\Lib\\site-packages\\imblearn\\pipeline.py\", line 293, in fit\n    Xt, yt = self._fit(X, y, **fit_params_steps)\n             ^^^^^^^^^^^^^^^^^^^^^^^^^^^^^^^^^^^\n  File \"c:\\Users\\raref\\.conda\\envs\\bootcamp_env\\Lib\\site-packages\\imblearn\\pipeline.py\", line 211, in _fit\n    self._validate_steps()\n  File \"c:\\Users\\raref\\.conda\\envs\\bootcamp_env\\Lib\\site-packages\\imblearn\\pipeline.py\", line 170, in _validate_steps\n    raise TypeError(\nTypeError: All intermediate steps of the chain should be estimators that implement fit and transform or fit_resample. 'Pipeline(steps=[('smote', SMOTE(random_state=42, sampling_strategy=0.2)),\n                ('under',\n                 RandomUnderSampler(random_state=42, sampling_strategy=0.5))])' implements both)\n\n--------------------------------------------------------------------------------\n35 fits failed with the following error:\nTraceback (most recent call last):\n  File \"c:\\Users\\raref\\.conda\\envs\\bootcamp_env\\Lib\\site-packages\\sklearn\\model_selection\\_validation.py\", line 686, in _fit_and_score\n    estimator.fit(X_train, y_train, **fit_params)\n  File \"c:\\Users\\raref\\.conda\\envs\\bootcamp_env\\Lib\\site-packages\\imblearn\\pipeline.py\", line 293, in fit\n    Xt, yt = self._fit(X, y, **fit_params_steps)\n             ^^^^^^^^^^^^^^^^^^^^^^^^^^^^^^^^^^^\n  File \"c:\\Users\\raref\\.conda\\envs\\bootcamp_env\\Lib\\site-packages\\imblearn\\pipeline.py\", line 211, in _fit\n    self._validate_steps()\n  File \"c:\\Users\\raref\\.conda\\envs\\bootcamp_env\\Lib\\site-packages\\imblearn\\pipeline.py\", line 170, in _validate_steps\n    raise TypeError(\nTypeError: All intermediate steps of the chain should be estimators that implement fit and transform or fit_resample. 'Pipeline(steps=[('smote', SMOTE(random_state=42, sampling_strategy=0.2)),\n                ('under',\n                 RandomUnderSampler(random_state=42, sampling_strategy=0.6))])' implements both)\n\n--------------------------------------------------------------------------------\n35 fits failed with the following error:\nTraceback (most recent call last):\n  File \"c:\\Users\\raref\\.conda\\envs\\bootcamp_env\\Lib\\site-packages\\sklearn\\model_selection\\_validation.py\", line 686, in _fit_and_score\n    estimator.fit(X_train, y_train, **fit_params)\n  File \"c:\\Users\\raref\\.conda\\envs\\bootcamp_env\\Lib\\site-packages\\imblearn\\pipeline.py\", line 293, in fit\n    Xt, yt = self._fit(X, y, **fit_params_steps)\n             ^^^^^^^^^^^^^^^^^^^^^^^^^^^^^^^^^^^\n  File \"c:\\Users\\raref\\.conda\\envs\\bootcamp_env\\Lib\\site-packages\\imblearn\\pipeline.py\", line 211, in _fit\n    self._validate_steps()\n  File \"c:\\Users\\raref\\.conda\\envs\\bootcamp_env\\Lib\\site-packages\\imblearn\\pipeline.py\", line 170, in _validate_steps\n    raise TypeError(\nTypeError: All intermediate steps of the chain should be estimators that implement fit and transform or fit_resample. 'Pipeline(steps=[('smote', SMOTE(random_state=42, sampling_strategy=0.2)),\n                ('under',\n                 RandomUnderSampler(random_state=42, sampling_strategy=0.7))])' implements both)\n\n--------------------------------------------------------------------------------\n35 fits failed with the following error:\nTraceback (most recent call last):\n  File \"c:\\Users\\raref\\.conda\\envs\\bootcamp_env\\Lib\\site-packages\\sklearn\\model_selection\\_validation.py\", line 686, in _fit_and_score\n    estimator.fit(X_train, y_train, **fit_params)\n  File \"c:\\Users\\raref\\.conda\\envs\\bootcamp_env\\Lib\\site-packages\\imblearn\\pipeline.py\", line 293, in fit\n    Xt, yt = self._fit(X, y, **fit_params_steps)\n             ^^^^^^^^^^^^^^^^^^^^^^^^^^^^^^^^^^^\n  File \"c:\\Users\\raref\\.conda\\envs\\bootcamp_env\\Lib\\site-packages\\imblearn\\pipeline.py\", line 211, in _fit\n    self._validate_steps()\n  File \"c:\\Users\\raref\\.conda\\envs\\bootcamp_env\\Lib\\site-packages\\imblearn\\pipeline.py\", line 170, in _validate_steps\n    raise TypeError(\nTypeError: All intermediate steps of the chain should be estimators that implement fit and transform or fit_resample. 'Pipeline(steps=[('smote', SMOTE(random_state=42, sampling_strategy=0.3)),\n                ('under',\n                 RandomUnderSampler(random_state=42, sampling_strategy=0.4))])' implements both)\n\n--------------------------------------------------------------------------------\n35 fits failed with the following error:\nTraceback (most recent call last):\n  File \"c:\\Users\\raref\\.conda\\envs\\bootcamp_env\\Lib\\site-packages\\sklearn\\model_selection\\_validation.py\", line 686, in _fit_and_score\n    estimator.fit(X_train, y_train, **fit_params)\n  File \"c:\\Users\\raref\\.conda\\envs\\bootcamp_env\\Lib\\site-packages\\imblearn\\pipeline.py\", line 293, in fit\n    Xt, yt = self._fit(X, y, **fit_params_steps)\n             ^^^^^^^^^^^^^^^^^^^^^^^^^^^^^^^^^^^\n  File \"c:\\Users\\raref\\.conda\\envs\\bootcamp_env\\Lib\\site-packages\\imblearn\\pipeline.py\", line 211, in _fit\n    self._validate_steps()\n  File \"c:\\Users\\raref\\.conda\\envs\\bootcamp_env\\Lib\\site-packages\\imblearn\\pipeline.py\", line 170, in _validate_steps\n    raise TypeError(\nTypeError: All intermediate steps of the chain should be estimators that implement fit and transform or fit_resample. 'Pipeline(steps=[('smote', SMOTE(random_state=42, sampling_strategy=0.3)),\n                ('under',\n                 RandomUnderSampler(random_state=42, sampling_strategy=0.5))])' implements both)\n\n--------------------------------------------------------------------------------\n35 fits failed with the following error:\nTraceback (most recent call last):\n  File \"c:\\Users\\raref\\.conda\\envs\\bootcamp_env\\Lib\\site-packages\\sklearn\\model_selection\\_validation.py\", line 686, in _fit_and_score\n    estimator.fit(X_train, y_train, **fit_params)\n  File \"c:\\Users\\raref\\.conda\\envs\\bootcamp_env\\Lib\\site-packages\\imblearn\\pipeline.py\", line 293, in fit\n    Xt, yt = self._fit(X, y, **fit_params_steps)\n             ^^^^^^^^^^^^^^^^^^^^^^^^^^^^^^^^^^^\n  File \"c:\\Users\\raref\\.conda\\envs\\bootcamp_env\\Lib\\site-packages\\imblearn\\pipeline.py\", line 211, in _fit\n    self._validate_steps()\n  File \"c:\\Users\\raref\\.conda\\envs\\bootcamp_env\\Lib\\site-packages\\imblearn\\pipeline.py\", line 170, in _validate_steps\n    raise TypeError(\nTypeError: All intermediate steps of the chain should be estimators that implement fit and transform or fit_resample. 'Pipeline(steps=[('smote', SMOTE(random_state=42, sampling_strategy=0.3)),\n                ('under',\n                 RandomUnderSampler(random_state=42, sampling_strategy=0.6))])' implements both)\n\n--------------------------------------------------------------------------------\n35 fits failed with the following error:\nTraceback (most recent call last):\n  File \"c:\\Users\\raref\\.conda\\envs\\bootcamp_env\\Lib\\site-packages\\sklearn\\model_selection\\_validation.py\", line 686, in _fit_and_score\n    estimator.fit(X_train, y_train, **fit_params)\n  File \"c:\\Users\\raref\\.conda\\envs\\bootcamp_env\\Lib\\site-packages\\imblearn\\pipeline.py\", line 293, in fit\n    Xt, yt = self._fit(X, y, **fit_params_steps)\n             ^^^^^^^^^^^^^^^^^^^^^^^^^^^^^^^^^^^\n  File \"c:\\Users\\raref\\.conda\\envs\\bootcamp_env\\Lib\\site-packages\\imblearn\\pipeline.py\", line 211, in _fit\n    self._validate_steps()\n  File \"c:\\Users\\raref\\.conda\\envs\\bootcamp_env\\Lib\\site-packages\\imblearn\\pipeline.py\", line 170, in _validate_steps\n    raise TypeError(\nTypeError: All intermediate steps of the chain should be estimators that implement fit and transform or fit_resample. 'Pipeline(steps=[('smote', SMOTE(random_state=42, sampling_strategy=0.3)),\n                ('under',\n                 RandomUnderSampler(random_state=42, sampling_strategy=0.7))])' implements both)\n\n--------------------------------------------------------------------------------\n35 fits failed with the following error:\nTraceback (most recent call last):\n  File \"c:\\Users\\raref\\.conda\\envs\\bootcamp_env\\Lib\\site-packages\\sklearn\\model_selection\\_validation.py\", line 686, in _fit_and_score\n    estimator.fit(X_train, y_train, **fit_params)\n  File \"c:\\Users\\raref\\.conda\\envs\\bootcamp_env\\Lib\\site-packages\\imblearn\\pipeline.py\", line 293, in fit\n    Xt, yt = self._fit(X, y, **fit_params_steps)\n             ^^^^^^^^^^^^^^^^^^^^^^^^^^^^^^^^^^^\n  File \"c:\\Users\\raref\\.conda\\envs\\bootcamp_env\\Lib\\site-packages\\imblearn\\pipeline.py\", line 211, in _fit\n    self._validate_steps()\n  File \"c:\\Users\\raref\\.conda\\envs\\bootcamp_env\\Lib\\site-packages\\imblearn\\pipeline.py\", line 170, in _validate_steps\n    raise TypeError(\nTypeError: All intermediate steps of the chain should be estimators that implement fit and transform or fit_resample. 'Pipeline(steps=[('smote', SMOTE(random_state=42, sampling_strategy=0.4)),\n                ('under',\n                 RandomUnderSampler(random_state=42, sampling_strategy=0.4))])' implements both)\n\n--------------------------------------------------------------------------------\n35 fits failed with the following error:\nTraceback (most recent call last):\n  File \"c:\\Users\\raref\\.conda\\envs\\bootcamp_env\\Lib\\site-packages\\sklearn\\model_selection\\_validation.py\", line 686, in _fit_and_score\n    estimator.fit(X_train, y_train, **fit_params)\n  File \"c:\\Users\\raref\\.conda\\envs\\bootcamp_env\\Lib\\site-packages\\imblearn\\pipeline.py\", line 293, in fit\n    Xt, yt = self._fit(X, y, **fit_params_steps)\n             ^^^^^^^^^^^^^^^^^^^^^^^^^^^^^^^^^^^\n  File \"c:\\Users\\raref\\.conda\\envs\\bootcamp_env\\Lib\\site-packages\\imblearn\\pipeline.py\", line 211, in _fit\n    self._validate_steps()\n  File \"c:\\Users\\raref\\.conda\\envs\\bootcamp_env\\Lib\\site-packages\\imblearn\\pipeline.py\", line 170, in _validate_steps\n    raise TypeError(\nTypeError: All intermediate steps of the chain should be estimators that implement fit and transform or fit_resample. 'Pipeline(steps=[('smote', SMOTE(random_state=42, sampling_strategy=0.4)),\n                ('under',\n                 RandomUnderSampler(random_state=42, sampling_strategy=0.5))])' implements both)\n\n--------------------------------------------------------------------------------\n35 fits failed with the following error:\nTraceback (most recent call last):\n  File \"c:\\Users\\raref\\.conda\\envs\\bootcamp_env\\Lib\\site-packages\\sklearn\\model_selection\\_validation.py\", line 686, in _fit_and_score\n    estimator.fit(X_train, y_train, **fit_params)\n  File \"c:\\Users\\raref\\.conda\\envs\\bootcamp_env\\Lib\\site-packages\\imblearn\\pipeline.py\", line 293, in fit\n    Xt, yt = self._fit(X, y, **fit_params_steps)\n             ^^^^^^^^^^^^^^^^^^^^^^^^^^^^^^^^^^^\n  File \"c:\\Users\\raref\\.conda\\envs\\bootcamp_env\\Lib\\site-packages\\imblearn\\pipeline.py\", line 211, in _fit\n    self._validate_steps()\n  File \"c:\\Users\\raref\\.conda\\envs\\bootcamp_env\\Lib\\site-packages\\imblearn\\pipeline.py\", line 170, in _validate_steps\n    raise TypeError(\nTypeError: All intermediate steps of the chain should be estimators that implement fit and transform or fit_resample. 'Pipeline(steps=[('smote', SMOTE(random_state=42, sampling_strategy=0.4)),\n                ('under',\n                 RandomUnderSampler(random_state=42, sampling_strategy=0.6))])' implements both)\n\n--------------------------------------------------------------------------------\n35 fits failed with the following error:\nTraceback (most recent call last):\n  File \"c:\\Users\\raref\\.conda\\envs\\bootcamp_env\\Lib\\site-packages\\sklearn\\model_selection\\_validation.py\", line 686, in _fit_and_score\n    estimator.fit(X_train, y_train, **fit_params)\n  File \"c:\\Users\\raref\\.conda\\envs\\bootcamp_env\\Lib\\site-packages\\imblearn\\pipeline.py\", line 293, in fit\n    Xt, yt = self._fit(X, y, **fit_params_steps)\n             ^^^^^^^^^^^^^^^^^^^^^^^^^^^^^^^^^^^\n  File \"c:\\Users\\raref\\.conda\\envs\\bootcamp_env\\Lib\\site-packages\\imblearn\\pipeline.py\", line 211, in _fit\n    self._validate_steps()\n  File \"c:\\Users\\raref\\.conda\\envs\\bootcamp_env\\Lib\\site-packages\\imblearn\\pipeline.py\", line 170, in _validate_steps\n    raise TypeError(\nTypeError: All intermediate steps of the chain should be estimators that implement fit and transform or fit_resample. 'Pipeline(steps=[('smote', SMOTE(random_state=42, sampling_strategy=0.4)),\n                ('under',\n                 RandomUnderSampler(random_state=42, sampling_strategy=0.7))])' implements both)\n\n--------------------------------------------------------------------------------\n35 fits failed with the following error:\nTraceback (most recent call last):\n  File \"c:\\Users\\raref\\.conda\\envs\\bootcamp_env\\Lib\\site-packages\\sklearn\\model_selection\\_validation.py\", line 686, in _fit_and_score\n    estimator.fit(X_train, y_train, **fit_params)\n  File \"c:\\Users\\raref\\.conda\\envs\\bootcamp_env\\Lib\\site-packages\\imblearn\\pipeline.py\", line 293, in fit\n    Xt, yt = self._fit(X, y, **fit_params_steps)\n             ^^^^^^^^^^^^^^^^^^^^^^^^^^^^^^^^^^^\n  File \"c:\\Users\\raref\\.conda\\envs\\bootcamp_env\\Lib\\site-packages\\imblearn\\pipeline.py\", line 211, in _fit\n    self._validate_steps()\n  File \"c:\\Users\\raref\\.conda\\envs\\bootcamp_env\\Lib\\site-packages\\imblearn\\pipeline.py\", line 170, in _validate_steps\n    raise TypeError(\nTypeError: All intermediate steps of the chain should be estimators that implement fit and transform or fit_resample. 'Pipeline(steps=[('smote', SMOTE(random_state=42, sampling_strategy=0.5)),\n                ('under',\n                 RandomUnderSampler(random_state=42, sampling_strategy=0.4))])' implements both)\n\n--------------------------------------------------------------------------------\n35 fits failed with the following error:\nTraceback (most recent call last):\n  File \"c:\\Users\\raref\\.conda\\envs\\bootcamp_env\\Lib\\site-packages\\sklearn\\model_selection\\_validation.py\", line 686, in _fit_and_score\n    estimator.fit(X_train, y_train, **fit_params)\n  File \"c:\\Users\\raref\\.conda\\envs\\bootcamp_env\\Lib\\site-packages\\imblearn\\pipeline.py\", line 293, in fit\n    Xt, yt = self._fit(X, y, **fit_params_steps)\n             ^^^^^^^^^^^^^^^^^^^^^^^^^^^^^^^^^^^\n  File \"c:\\Users\\raref\\.conda\\envs\\bootcamp_env\\Lib\\site-packages\\imblearn\\pipeline.py\", line 211, in _fit\n    self._validate_steps()\n  File \"c:\\Users\\raref\\.conda\\envs\\bootcamp_env\\Lib\\site-packages\\imblearn\\pipeline.py\", line 170, in _validate_steps\n    raise TypeError(\nTypeError: All intermediate steps of the chain should be estimators that implement fit and transform or fit_resample. 'Pipeline(steps=[('smote', SMOTE(random_state=42, sampling_strategy=0.5)),\n                ('under',\n                 RandomUnderSampler(random_state=42, sampling_strategy=0.5))])' implements both)\n\n--------------------------------------------------------------------------------\n35 fits failed with the following error:\nTraceback (most recent call last):\n  File \"c:\\Users\\raref\\.conda\\envs\\bootcamp_env\\Lib\\site-packages\\sklearn\\model_selection\\_validation.py\", line 686, in _fit_and_score\n    estimator.fit(X_train, y_train, **fit_params)\n  File \"c:\\Users\\raref\\.conda\\envs\\bootcamp_env\\Lib\\site-packages\\imblearn\\pipeline.py\", line 293, in fit\n    Xt, yt = self._fit(X, y, **fit_params_steps)\n             ^^^^^^^^^^^^^^^^^^^^^^^^^^^^^^^^^^^\n  File \"c:\\Users\\raref\\.conda\\envs\\bootcamp_env\\Lib\\site-packages\\imblearn\\pipeline.py\", line 211, in _fit\n    self._validate_steps()\n  File \"c:\\Users\\raref\\.conda\\envs\\bootcamp_env\\Lib\\site-packages\\imblearn\\pipeline.py\", line 170, in _validate_steps\n    raise TypeError(\nTypeError: All intermediate steps of the chain should be estimators that implement fit and transform or fit_resample. 'Pipeline(steps=[('smote', SMOTE(random_state=42, sampling_strategy=0.5)),\n                ('under',\n                 RandomUnderSampler(random_state=42, sampling_strategy=0.6))])' implements both)\n\n--------------------------------------------------------------------------------\n35 fits failed with the following error:\nTraceback (most recent call last):\n  File \"c:\\Users\\raref\\.conda\\envs\\bootcamp_env\\Lib\\site-packages\\sklearn\\model_selection\\_validation.py\", line 686, in _fit_and_score\n    estimator.fit(X_train, y_train, **fit_params)\n  File \"c:\\Users\\raref\\.conda\\envs\\bootcamp_env\\Lib\\site-packages\\imblearn\\pipeline.py\", line 293, in fit\n    Xt, yt = self._fit(X, y, **fit_params_steps)\n             ^^^^^^^^^^^^^^^^^^^^^^^^^^^^^^^^^^^\n  File \"c:\\Users\\raref\\.conda\\envs\\bootcamp_env\\Lib\\site-packages\\imblearn\\pipeline.py\", line 211, in _fit\n    self._validate_steps()\n  File \"c:\\Users\\raref\\.conda\\envs\\bootcamp_env\\Lib\\site-packages\\imblearn\\pipeline.py\", line 170, in _validate_steps\n    raise TypeError(\nTypeError: All intermediate steps of the chain should be estimators that implement fit and transform or fit_resample. 'Pipeline(steps=[('smote', SMOTE(random_state=42, sampling_strategy=0.5)),\n                ('under',\n                 RandomUnderSampler(random_state=42, sampling_strategy=0.7))])' implements both)\n\n--------------------------------------------------------------------------------\n35 fits failed with the following error:\nTraceback (most recent call last):\n  File \"c:\\Users\\raref\\.conda\\envs\\bootcamp_env\\Lib\\site-packages\\sklearn\\model_selection\\_validation.py\", line 686, in _fit_and_score\n    estimator.fit(X_train, y_train, **fit_params)\n  File \"c:\\Users\\raref\\.conda\\envs\\bootcamp_env\\Lib\\site-packages\\imblearn\\pipeline.py\", line 293, in fit\n    Xt, yt = self._fit(X, y, **fit_params_steps)\n             ^^^^^^^^^^^^^^^^^^^^^^^^^^^^^^^^^^^\n  File \"c:\\Users\\raref\\.conda\\envs\\bootcamp_env\\Lib\\site-packages\\imblearn\\pipeline.py\", line 211, in _fit\n    self._validate_steps()\n  File \"c:\\Users\\raref\\.conda\\envs\\bootcamp_env\\Lib\\site-packages\\imblearn\\pipeline.py\", line 170, in _validate_steps\n    raise TypeError(\nTypeError: All intermediate steps of the chain should be estimators that implement fit and transform or fit_resample. 'Pipeline(steps=[('smote', SMOTE(random_state=42, sampling_strategy=0.6)),\n                ('under',\n                 RandomUnderSampler(random_state=42, sampling_strategy=0.4))])' implements both)\n\n--------------------------------------------------------------------------------\n35 fits failed with the following error:\nTraceback (most recent call last):\n  File \"c:\\Users\\raref\\.conda\\envs\\bootcamp_env\\Lib\\site-packages\\sklearn\\model_selection\\_validation.py\", line 686, in _fit_and_score\n    estimator.fit(X_train, y_train, **fit_params)\n  File \"c:\\Users\\raref\\.conda\\envs\\bootcamp_env\\Lib\\site-packages\\imblearn\\pipeline.py\", line 293, in fit\n    Xt, yt = self._fit(X, y, **fit_params_steps)\n             ^^^^^^^^^^^^^^^^^^^^^^^^^^^^^^^^^^^\n  File \"c:\\Users\\raref\\.conda\\envs\\bootcamp_env\\Lib\\site-packages\\imblearn\\pipeline.py\", line 211, in _fit\n    self._validate_steps()\n  File \"c:\\Users\\raref\\.conda\\envs\\bootcamp_env\\Lib\\site-packages\\imblearn\\pipeline.py\", line 170, in _validate_steps\n    raise TypeError(\nTypeError: All intermediate steps of the chain should be estimators that implement fit and transform or fit_resample. 'Pipeline(steps=[('smote', SMOTE(random_state=42, sampling_strategy=0.6)),\n                ('under',\n                 RandomUnderSampler(random_state=42, sampling_strategy=0.5))])' implements both)\n\n--------------------------------------------------------------------------------\n35 fits failed with the following error:\nTraceback (most recent call last):\n  File \"c:\\Users\\raref\\.conda\\envs\\bootcamp_env\\Lib\\site-packages\\sklearn\\model_selection\\_validation.py\", line 686, in _fit_and_score\n    estimator.fit(X_train, y_train, **fit_params)\n  File \"c:\\Users\\raref\\.conda\\envs\\bootcamp_env\\Lib\\site-packages\\imblearn\\pipeline.py\", line 293, in fit\n    Xt, yt = self._fit(X, y, **fit_params_steps)\n             ^^^^^^^^^^^^^^^^^^^^^^^^^^^^^^^^^^^\n  File \"c:\\Users\\raref\\.conda\\envs\\bootcamp_env\\Lib\\site-packages\\imblearn\\pipeline.py\", line 211, in _fit\n    self._validate_steps()\n  File \"c:\\Users\\raref\\.conda\\envs\\bootcamp_env\\Lib\\site-packages\\imblearn\\pipeline.py\", line 170, in _validate_steps\n    raise TypeError(\nTypeError: All intermediate steps of the chain should be estimators that implement fit and transform or fit_resample. 'Pipeline(steps=[('smote', SMOTE(random_state=42, sampling_strategy=0.6)),\n                ('under',\n                 RandomUnderSampler(random_state=42, sampling_strategy=0.6))])' implements both)\n\n--------------------------------------------------------------------------------\n35 fits failed with the following error:\nTraceback (most recent call last):\n  File \"c:\\Users\\raref\\.conda\\envs\\bootcamp_env\\Lib\\site-packages\\sklearn\\model_selection\\_validation.py\", line 686, in _fit_and_score\n    estimator.fit(X_train, y_train, **fit_params)\n  File \"c:\\Users\\raref\\.conda\\envs\\bootcamp_env\\Lib\\site-packages\\imblearn\\pipeline.py\", line 293, in fit\n    Xt, yt = self._fit(X, y, **fit_params_steps)\n             ^^^^^^^^^^^^^^^^^^^^^^^^^^^^^^^^^^^\n  File \"c:\\Users\\raref\\.conda\\envs\\bootcamp_env\\Lib\\site-packages\\imblearn\\pipeline.py\", line 211, in _fit\n    self._validate_steps()\n  File \"c:\\Users\\raref\\.conda\\envs\\bootcamp_env\\Lib\\site-packages\\imblearn\\pipeline.py\", line 170, in _validate_steps\n    raise TypeError(\nTypeError: All intermediate steps of the chain should be estimators that implement fit and transform or fit_resample. 'Pipeline(steps=[('smote', SMOTE(random_state=42, sampling_strategy=0.6)),\n                ('under',\n                 RandomUnderSampler(random_state=42, sampling_strategy=0.7))])' implements both)\n\n--------------------------------------------------------------------------------\n35 fits failed with the following error:\nTraceback (most recent call last):\n  File \"c:\\Users\\raref\\.conda\\envs\\bootcamp_env\\Lib\\site-packages\\sklearn\\model_selection\\_validation.py\", line 686, in _fit_and_score\n    estimator.fit(X_train, y_train, **fit_params)\n  File \"c:\\Users\\raref\\.conda\\envs\\bootcamp_env\\Lib\\site-packages\\imblearn\\pipeline.py\", line 293, in fit\n    Xt, yt = self._fit(X, y, **fit_params_steps)\n             ^^^^^^^^^^^^^^^^^^^^^^^^^^^^^^^^^^^\n  File \"c:\\Users\\raref\\.conda\\envs\\bootcamp_env\\Lib\\site-packages\\imblearn\\pipeline.py\", line 211, in _fit\n    self._validate_steps()\n  File \"c:\\Users\\raref\\.conda\\envs\\bootcamp_env\\Lib\\site-packages\\imblearn\\pipeline.py\", line 170, in _validate_steps\n    raise TypeError(\nTypeError: All intermediate steps of the chain should be estimators that implement fit and transform or fit_resample. 'Pipeline(steps=[('smote', SMOTE(random_state=42, sampling_strategy=0.7)),\n                ('under',\n                 RandomUnderSampler(random_state=42, sampling_strategy=0.4))])' implements both)\n\n--------------------------------------------------------------------------------\n35 fits failed with the following error:\nTraceback (most recent call last):\n  File \"c:\\Users\\raref\\.conda\\envs\\bootcamp_env\\Lib\\site-packages\\sklearn\\model_selection\\_validation.py\", line 686, in _fit_and_score\n    estimator.fit(X_train, y_train, **fit_params)\n  File \"c:\\Users\\raref\\.conda\\envs\\bootcamp_env\\Lib\\site-packages\\imblearn\\pipeline.py\", line 293, in fit\n    Xt, yt = self._fit(X, y, **fit_params_steps)\n             ^^^^^^^^^^^^^^^^^^^^^^^^^^^^^^^^^^^\n  File \"c:\\Users\\raref\\.conda\\envs\\bootcamp_env\\Lib\\site-packages\\imblearn\\pipeline.py\", line 211, in _fit\n    self._validate_steps()\n  File \"c:\\Users\\raref\\.conda\\envs\\bootcamp_env\\Lib\\site-packages\\imblearn\\pipeline.py\", line 170, in _validate_steps\n    raise TypeError(\nTypeError: All intermediate steps of the chain should be estimators that implement fit and transform or fit_resample. 'Pipeline(steps=[('smote', SMOTE(random_state=42, sampling_strategy=0.7)),\n                ('under',\n                 RandomUnderSampler(random_state=42, sampling_strategy=0.5))])' implements both)\n\n--------------------------------------------------------------------------------\n35 fits failed with the following error:\nTraceback (most recent call last):\n  File \"c:\\Users\\raref\\.conda\\envs\\bootcamp_env\\Lib\\site-packages\\sklearn\\model_selection\\_validation.py\", line 686, in _fit_and_score\n    estimator.fit(X_train, y_train, **fit_params)\n  File \"c:\\Users\\raref\\.conda\\envs\\bootcamp_env\\Lib\\site-packages\\imblearn\\pipeline.py\", line 293, in fit\n    Xt, yt = self._fit(X, y, **fit_params_steps)\n             ^^^^^^^^^^^^^^^^^^^^^^^^^^^^^^^^^^^\n  File \"c:\\Users\\raref\\.conda\\envs\\bootcamp_env\\Lib\\site-packages\\imblearn\\pipeline.py\", line 211, in _fit\n    self._validate_steps()\n  File \"c:\\Users\\raref\\.conda\\envs\\bootcamp_env\\Lib\\site-packages\\imblearn\\pipeline.py\", line 170, in _validate_steps\n    raise TypeError(\nTypeError: All intermediate steps of the chain should be estimators that implement fit and transform or fit_resample. 'Pipeline(steps=[('smote', SMOTE(random_state=42, sampling_strategy=0.7)),\n                ('under',\n                 RandomUnderSampler(random_state=42, sampling_strategy=0.6))])' implements both)\n\n--------------------------------------------------------------------------------\n35 fits failed with the following error:\nTraceback (most recent call last):\n  File \"c:\\Users\\raref\\.conda\\envs\\bootcamp_env\\Lib\\site-packages\\sklearn\\model_selection\\_validation.py\", line 686, in _fit_and_score\n    estimator.fit(X_train, y_train, **fit_params)\n  File \"c:\\Users\\raref\\.conda\\envs\\bootcamp_env\\Lib\\site-packages\\imblearn\\pipeline.py\", line 293, in fit\n    Xt, yt = self._fit(X, y, **fit_params_steps)\n             ^^^^^^^^^^^^^^^^^^^^^^^^^^^^^^^^^^^\n  File \"c:\\Users\\raref\\.conda\\envs\\bootcamp_env\\Lib\\site-packages\\imblearn\\pipeline.py\", line 211, in _fit\n    self._validate_steps()\n  File \"c:\\Users\\raref\\.conda\\envs\\bootcamp_env\\Lib\\site-packages\\imblearn\\pipeline.py\", line 170, in _validate_steps\n    raise TypeError(\nTypeError: All intermediate steps of the chain should be estimators that implement fit and transform or fit_resample. 'Pipeline(steps=[('smote', SMOTE(random_state=42, sampling_strategy=0.7)),\n                ('under',\n                 RandomUnderSampler(random_state=42, sampling_strategy=0.7))])' implements both)\n\n--------------------------------------------------------------------------------\n35 fits failed with the following error:\nTraceback (most recent call last):\n  File \"c:\\Users\\raref\\.conda\\envs\\bootcamp_env\\Lib\\site-packages\\sklearn\\model_selection\\_validation.py\", line 686, in _fit_and_score\n    estimator.fit(X_train, y_train, **fit_params)\n  File \"c:\\Users\\raref\\.conda\\envs\\bootcamp_env\\Lib\\site-packages\\imblearn\\pipeline.py\", line 293, in fit\n    Xt, yt = self._fit(X, y, **fit_params_steps)\n             ^^^^^^^^^^^^^^^^^^^^^^^^^^^^^^^^^^^\n  File \"c:\\Users\\raref\\.conda\\envs\\bootcamp_env\\Lib\\site-packages\\imblearn\\pipeline.py\", line 211, in _fit\n    self._validate_steps()\n  File \"c:\\Users\\raref\\.conda\\envs\\bootcamp_env\\Lib\\site-packages\\imblearn\\pipeline.py\", line 170, in _validate_steps\n    raise TypeError(\nTypeError: All intermediate steps of the chain should be estimators that implement fit and transform or fit_resample. 'Pipeline(steps=[('smote', SMOTE(random_state=42, sampling_strategy=0.8)),\n                ('under',\n                 RandomUnderSampler(random_state=42, sampling_strategy=0.4))])' implements both)\n\n--------------------------------------------------------------------------------\n35 fits failed with the following error:\nTraceback (most recent call last):\n  File \"c:\\Users\\raref\\.conda\\envs\\bootcamp_env\\Lib\\site-packages\\sklearn\\model_selection\\_validation.py\", line 686, in _fit_and_score\n    estimator.fit(X_train, y_train, **fit_params)\n  File \"c:\\Users\\raref\\.conda\\envs\\bootcamp_env\\Lib\\site-packages\\imblearn\\pipeline.py\", line 293, in fit\n    Xt, yt = self._fit(X, y, **fit_params_steps)\n             ^^^^^^^^^^^^^^^^^^^^^^^^^^^^^^^^^^^\n  File \"c:\\Users\\raref\\.conda\\envs\\bootcamp_env\\Lib\\site-packages\\imblearn\\pipeline.py\", line 211, in _fit\n    self._validate_steps()\n  File \"c:\\Users\\raref\\.conda\\envs\\bootcamp_env\\Lib\\site-packages\\imblearn\\pipeline.py\", line 170, in _validate_steps\n    raise TypeError(\nTypeError: All intermediate steps of the chain should be estimators that implement fit and transform or fit_resample. 'Pipeline(steps=[('smote', SMOTE(random_state=42, sampling_strategy=0.8)),\n                ('under',\n                 RandomUnderSampler(random_state=42, sampling_strategy=0.5))])' implements both)\n\n--------------------------------------------------------------------------------\n35 fits failed with the following error:\nTraceback (most recent call last):\n  File \"c:\\Users\\raref\\.conda\\envs\\bootcamp_env\\Lib\\site-packages\\sklearn\\model_selection\\_validation.py\", line 686, in _fit_and_score\n    estimator.fit(X_train, y_train, **fit_params)\n  File \"c:\\Users\\raref\\.conda\\envs\\bootcamp_env\\Lib\\site-packages\\imblearn\\pipeline.py\", line 293, in fit\n    Xt, yt = self._fit(X, y, **fit_params_steps)\n             ^^^^^^^^^^^^^^^^^^^^^^^^^^^^^^^^^^^\n  File \"c:\\Users\\raref\\.conda\\envs\\bootcamp_env\\Lib\\site-packages\\imblearn\\pipeline.py\", line 211, in _fit\n    self._validate_steps()\n  File \"c:\\Users\\raref\\.conda\\envs\\bootcamp_env\\Lib\\site-packages\\imblearn\\pipeline.py\", line 170, in _validate_steps\n    raise TypeError(\nTypeError: All intermediate steps of the chain should be estimators that implement fit and transform or fit_resample. 'Pipeline(steps=[('smote', SMOTE(random_state=42, sampling_strategy=0.8)),\n                ('under',\n                 RandomUnderSampler(random_state=42, sampling_strategy=0.6))])' implements both)\n\n--------------------------------------------------------------------------------\n35 fits failed with the following error:\nTraceback (most recent call last):\n  File \"c:\\Users\\raref\\.conda\\envs\\bootcamp_env\\Lib\\site-packages\\sklearn\\model_selection\\_validation.py\", line 686, in _fit_and_score\n    estimator.fit(X_train, y_train, **fit_params)\n  File \"c:\\Users\\raref\\.conda\\envs\\bootcamp_env\\Lib\\site-packages\\imblearn\\pipeline.py\", line 293, in fit\n    Xt, yt = self._fit(X, y, **fit_params_steps)\n             ^^^^^^^^^^^^^^^^^^^^^^^^^^^^^^^^^^^\n  File \"c:\\Users\\raref\\.conda\\envs\\bootcamp_env\\Lib\\site-packages\\imblearn\\pipeline.py\", line 211, in _fit\n    self._validate_steps()\n  File \"c:\\Users\\raref\\.conda\\envs\\bootcamp_env\\Lib\\site-packages\\imblearn\\pipeline.py\", line 170, in _validate_steps\n    raise TypeError(\nTypeError: All intermediate steps of the chain should be estimators that implement fit and transform or fit_resample. 'Pipeline(steps=[('smote', SMOTE(random_state=42, sampling_strategy=0.8)),\n                ('under',\n                 RandomUnderSampler(random_state=42, sampling_strategy=0.7))])' implements both)\n\n--------------------------------------------------------------------------------\n35 fits failed with the following error:\nTraceback (most recent call last):\n  File \"c:\\Users\\raref\\.conda\\envs\\bootcamp_env\\Lib\\site-packages\\sklearn\\model_selection\\_validation.py\", line 686, in _fit_and_score\n    estimator.fit(X_train, y_train, **fit_params)\n  File \"c:\\Users\\raref\\.conda\\envs\\bootcamp_env\\Lib\\site-packages\\imblearn\\pipeline.py\", line 293, in fit\n    Xt, yt = self._fit(X, y, **fit_params_steps)\n             ^^^^^^^^^^^^^^^^^^^^^^^^^^^^^^^^^^^\n  File \"c:\\Users\\raref\\.conda\\envs\\bootcamp_env\\Lib\\site-packages\\imblearn\\pipeline.py\", line 211, in _fit\n    self._validate_steps()\n  File \"c:\\Users\\raref\\.conda\\envs\\bootcamp_env\\Lib\\site-packages\\imblearn\\pipeline.py\", line 170, in _validate_steps\n    raise TypeError(\nTypeError: All intermediate steps of the chain should be estimators that implement fit and transform or fit_resample. 'Pipeline(steps=[('smote', SMOTE(random_state=42, sampling_strategy=0.9)),\n                ('under',\n                 RandomUnderSampler(random_state=42, sampling_strategy=0.4))])' implements both)\n\n--------------------------------------------------------------------------------\n35 fits failed with the following error:\nTraceback (most recent call last):\n  File \"c:\\Users\\raref\\.conda\\envs\\bootcamp_env\\Lib\\site-packages\\sklearn\\model_selection\\_validation.py\", line 686, in _fit_and_score\n    estimator.fit(X_train, y_train, **fit_params)\n  File \"c:\\Users\\raref\\.conda\\envs\\bootcamp_env\\Lib\\site-packages\\imblearn\\pipeline.py\", line 293, in fit\n    Xt, yt = self._fit(X, y, **fit_params_steps)\n             ^^^^^^^^^^^^^^^^^^^^^^^^^^^^^^^^^^^\n  File \"c:\\Users\\raref\\.conda\\envs\\bootcamp_env\\Lib\\site-packages\\imblearn\\pipeline.py\", line 211, in _fit\n    self._validate_steps()\n  File \"c:\\Users\\raref\\.conda\\envs\\bootcamp_env\\Lib\\site-packages\\imblearn\\pipeline.py\", line 170, in _validate_steps\n    raise TypeError(\nTypeError: All intermediate steps of the chain should be estimators that implement fit and transform or fit_resample. 'Pipeline(steps=[('smote', SMOTE(random_state=42, sampling_strategy=0.9)),\n                ('under',\n                 RandomUnderSampler(random_state=42, sampling_strategy=0.5))])' implements both)\n\n--------------------------------------------------------------------------------\n35 fits failed with the following error:\nTraceback (most recent call last):\n  File \"c:\\Users\\raref\\.conda\\envs\\bootcamp_env\\Lib\\site-packages\\sklearn\\model_selection\\_validation.py\", line 686, in _fit_and_score\n    estimator.fit(X_train, y_train, **fit_params)\n  File \"c:\\Users\\raref\\.conda\\envs\\bootcamp_env\\Lib\\site-packages\\imblearn\\pipeline.py\", line 293, in fit\n    Xt, yt = self._fit(X, y, **fit_params_steps)\n             ^^^^^^^^^^^^^^^^^^^^^^^^^^^^^^^^^^^\n  File \"c:\\Users\\raref\\.conda\\envs\\bootcamp_env\\Lib\\site-packages\\imblearn\\pipeline.py\", line 211, in _fit\n    self._validate_steps()\n  File \"c:\\Users\\raref\\.conda\\envs\\bootcamp_env\\Lib\\site-packages\\imblearn\\pipeline.py\", line 170, in _validate_steps\n    raise TypeError(\nTypeError: All intermediate steps of the chain should be estimators that implement fit and transform or fit_resample. 'Pipeline(steps=[('smote', SMOTE(random_state=42, sampling_strategy=0.9)),\n                ('under',\n                 RandomUnderSampler(random_state=42, sampling_strategy=0.6))])' implements both)\n\n--------------------------------------------------------------------------------\n35 fits failed with the following error:\nTraceback (most recent call last):\n  File \"c:\\Users\\raref\\.conda\\envs\\bootcamp_env\\Lib\\site-packages\\sklearn\\model_selection\\_validation.py\", line 686, in _fit_and_score\n    estimator.fit(X_train, y_train, **fit_params)\n  File \"c:\\Users\\raref\\.conda\\envs\\bootcamp_env\\Lib\\site-packages\\imblearn\\pipeline.py\", line 293, in fit\n    Xt, yt = self._fit(X, y, **fit_params_steps)\n             ^^^^^^^^^^^^^^^^^^^^^^^^^^^^^^^^^^^\n  File \"c:\\Users\\raref\\.conda\\envs\\bootcamp_env\\Lib\\site-packages\\imblearn\\pipeline.py\", line 211, in _fit\n    self._validate_steps()\n  File \"c:\\Users\\raref\\.conda\\envs\\bootcamp_env\\Lib\\site-packages\\imblearn\\pipeline.py\", line 170, in _validate_steps\n    raise TypeError(\nTypeError: All intermediate steps of the chain should be estimators that implement fit and transform or fit_resample. 'Pipeline(steps=[('smote', SMOTE(random_state=42, sampling_strategy=0.9)),\n                ('under',\n                 RandomUnderSampler(random_state=42, sampling_strategy=0.7))])' implements both)\n\n--------------------------------------------------------------------------------\n35 fits failed with the following error:\nTraceback (most recent call last):\n  File \"c:\\Users\\raref\\.conda\\envs\\bootcamp_env\\Lib\\site-packages\\sklearn\\model_selection\\_validation.py\", line 686, in _fit_and_score\n    estimator.fit(X_train, y_train, **fit_params)\n  File \"c:\\Users\\raref\\.conda\\envs\\bootcamp_env\\Lib\\site-packages\\imblearn\\pipeline.py\", line 293, in fit\n    Xt, yt = self._fit(X, y, **fit_params_steps)\n             ^^^^^^^^^^^^^^^^^^^^^^^^^^^^^^^^^^^\n  File \"c:\\Users\\raref\\.conda\\envs\\bootcamp_env\\Lib\\site-packages\\imblearn\\pipeline.py\", line 211, in _fit\n    self._validate_steps()\n  File \"c:\\Users\\raref\\.conda\\envs\\bootcamp_env\\Lib\\site-packages\\imblearn\\pipeline.py\", line 170, in _validate_steps\n    raise TypeError(\nTypeError: All intermediate steps of the chain should be estimators that implement fit and transform or fit_resample. 'Pipeline(steps=[('smote', SMOTE(random_state=42, sampling_strategy=1.0)),\n                ('under',\n                 RandomUnderSampler(random_state=42, sampling_strategy=0.4))])' implements both)\n\n--------------------------------------------------------------------------------\n35 fits failed with the following error:\nTraceback (most recent call last):\n  File \"c:\\Users\\raref\\.conda\\envs\\bootcamp_env\\Lib\\site-packages\\sklearn\\model_selection\\_validation.py\", line 686, in _fit_and_score\n    estimator.fit(X_train, y_train, **fit_params)\n  File \"c:\\Users\\raref\\.conda\\envs\\bootcamp_env\\Lib\\site-packages\\imblearn\\pipeline.py\", line 293, in fit\n    Xt, yt = self._fit(X, y, **fit_params_steps)\n             ^^^^^^^^^^^^^^^^^^^^^^^^^^^^^^^^^^^\n  File \"c:\\Users\\raref\\.conda\\envs\\bootcamp_env\\Lib\\site-packages\\imblearn\\pipeline.py\", line 211, in _fit\n    self._validate_steps()\n  File \"c:\\Users\\raref\\.conda\\envs\\bootcamp_env\\Lib\\site-packages\\imblearn\\pipeline.py\", line 170, in _validate_steps\n    raise TypeError(\nTypeError: All intermediate steps of the chain should be estimators that implement fit and transform or fit_resample. 'Pipeline(steps=[('smote', SMOTE(random_state=42, sampling_strategy=1.0)),\n                ('under',\n                 RandomUnderSampler(random_state=42, sampling_strategy=0.5))])' implements both)\n\n--------------------------------------------------------------------------------\n35 fits failed with the following error:\nTraceback (most recent call last):\n  File \"c:\\Users\\raref\\.conda\\envs\\bootcamp_env\\Lib\\site-packages\\sklearn\\model_selection\\_validation.py\", line 686, in _fit_and_score\n    estimator.fit(X_train, y_train, **fit_params)\n  File \"c:\\Users\\raref\\.conda\\envs\\bootcamp_env\\Lib\\site-packages\\imblearn\\pipeline.py\", line 293, in fit\n    Xt, yt = self._fit(X, y, **fit_params_steps)\n             ^^^^^^^^^^^^^^^^^^^^^^^^^^^^^^^^^^^\n  File \"c:\\Users\\raref\\.conda\\envs\\bootcamp_env\\Lib\\site-packages\\imblearn\\pipeline.py\", line 211, in _fit\n    self._validate_steps()\n  File \"c:\\Users\\raref\\.conda\\envs\\bootcamp_env\\Lib\\site-packages\\imblearn\\pipeline.py\", line 170, in _validate_steps\n    raise TypeError(\nTypeError: All intermediate steps of the chain should be estimators that implement fit and transform or fit_resample. 'Pipeline(steps=[('smote', SMOTE(random_state=42, sampling_strategy=1.0)),\n                ('under',\n                 RandomUnderSampler(random_state=42, sampling_strategy=0.6))])' implements both)\n\n--------------------------------------------------------------------------------\n35 fits failed with the following error:\nTraceback (most recent call last):\n  File \"c:\\Users\\raref\\.conda\\envs\\bootcamp_env\\Lib\\site-packages\\sklearn\\model_selection\\_validation.py\", line 686, in _fit_and_score\n    estimator.fit(X_train, y_train, **fit_params)\n  File \"c:\\Users\\raref\\.conda\\envs\\bootcamp_env\\Lib\\site-packages\\imblearn\\pipeline.py\", line 293, in fit\n    Xt, yt = self._fit(X, y, **fit_params_steps)\n             ^^^^^^^^^^^^^^^^^^^^^^^^^^^^^^^^^^^\n  File \"c:\\Users\\raref\\.conda\\envs\\bootcamp_env\\Lib\\site-packages\\imblearn\\pipeline.py\", line 211, in _fit\n    self._validate_steps()\n  File \"c:\\Users\\raref\\.conda\\envs\\bootcamp_env\\Lib\\site-packages\\imblearn\\pipeline.py\", line 170, in _validate_steps\n    raise TypeError(\nTypeError: All intermediate steps of the chain should be estimators that implement fit and transform or fit_resample. 'Pipeline(steps=[('smote', SMOTE(random_state=42, sampling_strategy=1.0)),\n                ('under',\n                 RandomUnderSampler(random_state=42, sampling_strategy=0.7))])' implements both)\n"
     ]
    }
   ],
   "source": [
    "### PLEASE NOTE:  The below did not work because of the way GridSearchCV works with imblearn.pipeline on the RandomUnderSampler() class.\n",
    "### See stackoverflow thread here:  https://stackoverflow.com/questions/65652054/not-able-to-feed-the-combined-smote-randomundersampler-pipeline-into-the-main\n",
    "### I addressed by collapsing all 3 into one singular imlearn.pipeline (next cell)\n",
    "### I have left the code here for reference only.\n",
    "\n",
    "# # Just to be sure everything has returned to base, let's re-make the X_train and y_train, X_test, y_test variables\n",
    "# X_train, X_test, y_train, y_test = train_test_split(X_model, y_model, test_size=0.2, random_state=Utility.RANDOM_STATE_CONST, shuffle=True)\n",
    "\n",
    "# # Define the imbalanced pipeline with SMOTE and RandomUnderSampler again\n",
    "# imbalanced_pipeline = IMBPipeline([\n",
    "#     ('smote', SMOTE(sampling_strategy=0.1, random_state=Utility.RANDOM_STATE_CONST)),\n",
    "#     ('under', RandomUnderSampler(sampling_strategy=0.5, random_state=Utility.RANDOM_STATE_CONST)),\n",
    "# ])\n",
    "\n",
    "# # Combine the imbalanced pipeline with Logistic Regression\n",
    "# pipeline = IMBPipeline([\n",
    "#     ('imbalanced', imbalanced_pipeline),\n",
    "#     ('clf', LogisticRegression(random_state=Utility.RANDOM_STATE_CONST, max_iter=1000))\n",
    "# ])\n",
    "\n",
    "# # Define the parameter grid for GridSearchCV\n",
    "# param_grid = {\n",
    "#     'imbalanced__smote__sampling_strategy': [0.1, 0.2, 0.3, 0.4, 0.5, 0.6, 0.7, 0.8, 0.9, 1.0],\n",
    "#     'imbalanced__under__sampling_strategy': [0.4, 0.5, 0.6, 0.7],\n",
    "#     'clf__max_iter': [100, 500, 1000, 1500, 2000, 2500, 3000],\n",
    "# }\n",
    "\n",
    "# # Create GridSearchCV\n",
    "# grid_search = GridSearchCV(pipeline, param_grid, scoring='f1_macro', cv=5, n_jobs=-1, verbose=2)\n",
    "\n",
    "# # Fit the model\n",
    "# grid_search.fit(X_train, y_train)"
   ]
  },
  {
   "cell_type": "code",
   "execution_count": 323,
   "metadata": {},
   "outputs": [
    {
     "name": "stdout",
     "output_type": "stream",
     "text": [
      "Fitting 5 folds for each of 196 candidates, totalling 980 fits\n"
     ]
    },
    {
     "name": "stderr",
     "output_type": "stream",
     "text": [
      "c:\\Users\\raref\\.conda\\envs\\bootcamp_env\\Lib\\site-packages\\sklearn\\model_selection\\_validation.py:378: FitFailedWarning: \n",
      "210 fits failed out of a total of 980.\n",
      "The score on these train-test partitions for these parameters will be set to nan.\n",
      "If these failures are not expected, you can try to debug them by setting error_score='raise'.\n",
      "\n",
      "Below are more details about the failures:\n",
      "--------------------------------------------------------------------------------\n",
      "210 fits failed with the following error:\n",
      "Traceback (most recent call last):\n",
      "  File \"c:\\Users\\raref\\.conda\\envs\\bootcamp_env\\Lib\\site-packages\\sklearn\\model_selection\\_validation.py\", line 686, in _fit_and_score\n",
      "    estimator.fit(X_train, y_train, **fit_params)\n",
      "  File \"c:\\Users\\raref\\.conda\\envs\\bootcamp_env\\Lib\\site-packages\\imblearn\\pipeline.py\", line 293, in fit\n",
      "    Xt, yt = self._fit(X, y, **fit_params_steps)\n",
      "             ^^^^^^^^^^^^^^^^^^^^^^^^^^^^^^^^^^^\n",
      "  File \"c:\\Users\\raref\\.conda\\envs\\bootcamp_env\\Lib\\site-packages\\imblearn\\pipeline.py\", line 250, in _fit\n",
      "    X, y, fitted_transformer = fit_resample_one_cached(\n",
      "                               ^^^^^^^^^^^^^^^^^^^^^^^^\n",
      "  File \"c:\\Users\\raref\\.conda\\envs\\bootcamp_env\\Lib\\site-packages\\joblib\\memory.py\", line 349, in __call__\n",
      "    return self.func(*args, **kwargs)\n",
      "           ^^^^^^^^^^^^^^^^^^^^^^^^^^\n",
      "  File \"c:\\Users\\raref\\.conda\\envs\\bootcamp_env\\Lib\\site-packages\\imblearn\\pipeline.py\", line 422, in _fit_resample_one\n",
      "    X_res, y_res = sampler.fit_resample(X, y, **fit_params)\n",
      "                   ^^^^^^^^^^^^^^^^^^^^^^^^^^^^^^^^^^^^^^^^\n",
      "  File \"c:\\Users\\raref\\.conda\\envs\\bootcamp_env\\Lib\\site-packages\\imblearn\\base.py\", line 208, in fit_resample\n",
      "    return super().fit_resample(X, y)\n",
      "           ^^^^^^^^^^^^^^^^^^^^^^^^^^\n",
      "  File \"c:\\Users\\raref\\.conda\\envs\\bootcamp_env\\Lib\\site-packages\\imblearn\\base.py\", line 108, in fit_resample\n",
      "    self.sampling_strategy_ = check_sampling_strategy(\n",
      "                              ^^^^^^^^^^^^^^^^^^^^^^^^\n",
      "  File \"c:\\Users\\raref\\.conda\\envs\\bootcamp_env\\Lib\\site-packages\\imblearn\\utils\\_validation.py\", line 550, in check_sampling_strategy\n",
      "    _sampling_strategy_float(sampling_strategy, y, sampling_type).items()\n",
      "    ^^^^^^^^^^^^^^^^^^^^^^^^^^^^^^^^^^^^^^^^^^^^^^^^^^^^^^^^^^^^^\n",
      "  File \"c:\\Users\\raref\\.conda\\envs\\bootcamp_env\\Lib\\site-packages\\imblearn\\utils\\_validation.py\", line 409, in _sampling_strategy_float\n",
      "    raise ValueError(\n",
      "ValueError: The specified ratio required to generate new sample in the majority class while trying to remove samples. Please increase the ratio.\n",
      "\n",
      "  warnings.warn(some_fits_failed_message, FitFailedWarning)\n",
      "c:\\Users\\raref\\.conda\\envs\\bootcamp_env\\Lib\\site-packages\\sklearn\\model_selection\\_search.py:952: UserWarning: One or more of the test scores are non-finite: [0.62472121 0.61447746 0.60400363 0.59321138 0.61275801 0.611512\n",
      " 0.60462649 0.59686464 0.60627678 0.60664278 0.60266858 0.59510028\n",
      " 0.60373115 0.60184024 0.60106107 0.59407092        nan 0.60140375\n",
      " 0.60047049 0.59256229        nan        nan 0.59915926 0.59385056\n",
      "        nan        nan        nan 0.59464425 0.62582103 0.61604274\n",
      " 0.60394133 0.59568153 0.61649041 0.61324227 0.60540291 0.59941373\n",
      " 0.61518162 0.60977038 0.60625495 0.5990483  0.6146831  0.60823541\n",
      " 0.60497103 0.59896361        nan 0.60692614 0.60360733 0.59882816\n",
      "        nan        nan 0.60286888 0.59850072        nan        nan\n",
      "        nan 0.59828874 0.6258171  0.61615317 0.60398961 0.59565917\n",
      " 0.61665578 0.6131686  0.60528792 0.59959108 0.61504332 0.60977635\n",
      " 0.60613402 0.59899563 0.61475537 0.60825109 0.60497468 0.5988957\n",
      "        nan 0.60693303 0.6038948  0.59860052        nan        nan\n",
      " 0.60285894 0.59864455        nan        nan        nan 0.59830851\n",
      " 0.6258171  0.61615317 0.60398961 0.59565917 0.61665578 0.6131686\n",
      " 0.60528792 0.59959108 0.61507563 0.60977635 0.60605656 0.59899563\n",
      " 0.61481248 0.60824402 0.60497468 0.5988957         nan 0.60684687\n",
      " 0.60390701 0.59860052        nan        nan 0.60285232 0.59864455\n",
      "        nan        nan        nan 0.59830851 0.6258171  0.61615317\n",
      " 0.60398961 0.59565917 0.61665578 0.6131686  0.60528792 0.59959108\n",
      " 0.61507563 0.60977635 0.60605656 0.59899563 0.61481248 0.60824402\n",
      " 0.60497468 0.5988957         nan 0.60684687 0.60390701 0.59860052\n",
      "        nan        nan 0.60285232 0.59864455        nan        nan\n",
      "        nan 0.59830851 0.6258171  0.61615317 0.60398961 0.59565917\n",
      " 0.61665578 0.6131686  0.60528792 0.59959108 0.61507563 0.60977635\n",
      " 0.60605656 0.59899563 0.61481248 0.60824402 0.60497468 0.5988957\n",
      "        nan 0.60684687 0.60390701 0.59860052        nan        nan\n",
      " 0.60285232 0.59864455        nan        nan        nan 0.59830851\n",
      " 0.6258171  0.61615317 0.60398961 0.59565917 0.61665578 0.6131686\n",
      " 0.60528792 0.59959108 0.61507563 0.60977635 0.60605656 0.59899563\n",
      " 0.61481248 0.60824402 0.60497468 0.5988957         nan 0.60684687\n",
      " 0.60390701 0.59860052        nan        nan 0.60285232 0.59864455\n",
      "        nan        nan        nan 0.59830851]\n",
      "  warnings.warn(\n",
      "c:\\Users\\raref\\.conda\\envs\\bootcamp_env\\Lib\\site-packages\\sklearn\\linear_model\\_logistic.py:458: ConvergenceWarning: lbfgs failed to converge (status=1):\n",
      "STOP: TOTAL NO. of ITERATIONS REACHED LIMIT.\n",
      "\n",
      "Increase the number of iterations (max_iter) or scale the data as shown in:\n",
      "    https://scikit-learn.org/stable/modules/preprocessing.html\n",
      "Please also refer to the documentation for alternative solver options:\n",
      "    https://scikit-learn.org/stable/modules/linear_model.html#logistic-regression\n",
      "  n_iter_i = _check_optimize_result(\n"
     ]
    },
    {
     "data": {
      "text/html": [
       "<style>#sk-container-id-13 {color: black;background-color: white;}#sk-container-id-13 pre{padding: 0;}#sk-container-id-13 div.sk-toggleable {background-color: white;}#sk-container-id-13 label.sk-toggleable__label {cursor: pointer;display: block;width: 100%;margin-bottom: 0;padding: 0.3em;box-sizing: border-box;text-align: center;}#sk-container-id-13 label.sk-toggleable__label-arrow:before {content: \"▸\";float: left;margin-right: 0.25em;color: #696969;}#sk-container-id-13 label.sk-toggleable__label-arrow:hover:before {color: black;}#sk-container-id-13 div.sk-estimator:hover label.sk-toggleable__label-arrow:before {color: black;}#sk-container-id-13 div.sk-toggleable__content {max-height: 0;max-width: 0;overflow: hidden;text-align: left;background-color: #f0f8ff;}#sk-container-id-13 div.sk-toggleable__content pre {margin: 0.2em;color: black;border-radius: 0.25em;background-color: #f0f8ff;}#sk-container-id-13 input.sk-toggleable__control:checked~div.sk-toggleable__content {max-height: 200px;max-width: 100%;overflow: auto;}#sk-container-id-13 input.sk-toggleable__control:checked~label.sk-toggleable__label-arrow:before {content: \"▾\";}#sk-container-id-13 div.sk-estimator input.sk-toggleable__control:checked~label.sk-toggleable__label {background-color: #d4ebff;}#sk-container-id-13 div.sk-label input.sk-toggleable__control:checked~label.sk-toggleable__label {background-color: #d4ebff;}#sk-container-id-13 input.sk-hidden--visually {border: 0;clip: rect(1px 1px 1px 1px);clip: rect(1px, 1px, 1px, 1px);height: 1px;margin: -1px;overflow: hidden;padding: 0;position: absolute;width: 1px;}#sk-container-id-13 div.sk-estimator {font-family: monospace;background-color: #f0f8ff;border: 1px dotted black;border-radius: 0.25em;box-sizing: border-box;margin-bottom: 0.5em;}#sk-container-id-13 div.sk-estimator:hover {background-color: #d4ebff;}#sk-container-id-13 div.sk-parallel-item::after {content: \"\";width: 100%;border-bottom: 1px solid gray;flex-grow: 1;}#sk-container-id-13 div.sk-label:hover label.sk-toggleable__label {background-color: #d4ebff;}#sk-container-id-13 div.sk-serial::before {content: \"\";position: absolute;border-left: 1px solid gray;box-sizing: border-box;top: 0;bottom: 0;left: 50%;z-index: 0;}#sk-container-id-13 div.sk-serial {display: flex;flex-direction: column;align-items: center;background-color: white;padding-right: 0.2em;padding-left: 0.2em;position: relative;}#sk-container-id-13 div.sk-item {position: relative;z-index: 1;}#sk-container-id-13 div.sk-parallel {display: flex;align-items: stretch;justify-content: center;background-color: white;position: relative;}#sk-container-id-13 div.sk-item::before, #sk-container-id-13 div.sk-parallel-item::before {content: \"\";position: absolute;border-left: 1px solid gray;box-sizing: border-box;top: 0;bottom: 0;left: 50%;z-index: -1;}#sk-container-id-13 div.sk-parallel-item {display: flex;flex-direction: column;z-index: 1;position: relative;background-color: white;}#sk-container-id-13 div.sk-parallel-item:first-child::after {align-self: flex-end;width: 50%;}#sk-container-id-13 div.sk-parallel-item:last-child::after {align-self: flex-start;width: 50%;}#sk-container-id-13 div.sk-parallel-item:only-child::after {width: 0;}#sk-container-id-13 div.sk-dashed-wrapped {border: 1px dashed gray;margin: 0 0.4em 0.5em 0.4em;box-sizing: border-box;padding-bottom: 0.4em;background-color: white;}#sk-container-id-13 div.sk-label label {font-family: monospace;font-weight: bold;display: inline-block;line-height: 1.2em;}#sk-container-id-13 div.sk-label-container {text-align: center;}#sk-container-id-13 div.sk-container {/* jupyter's `normalize.less` sets `[hidden] { display: none; }` but bootstrap.min.css set `[hidden] { display: none !important; }` so we also need the `!important` here to be able to override the default hidden behavior on the sphinx rendered scikit-learn.org. See: https://github.com/scikit-learn/scikit-learn/issues/21755 */display: inline-block !important;position: relative;}#sk-container-id-13 div.sk-text-repr-fallback {display: none;}</style><div id=\"sk-container-id-13\" class=\"sk-top-container\"><div class=\"sk-text-repr-fallback\"><pre>GridSearchCV(cv=5,\n",
       "             estimator=Pipeline(steps=[(&#x27;smote&#x27;,\n",
       "                                        SMOTE(random_state=42,\n",
       "                                              sampling_strategy=0.1)),\n",
       "                                       (&#x27;under&#x27;,\n",
       "                                        RandomUnderSampler(random_state=42,\n",
       "                                                           sampling_strategy=0.5)),\n",
       "                                       (&#x27;clf&#x27;,\n",
       "                                        LogisticRegression(max_iter=1000,\n",
       "                                                           random_state=42))]),\n",
       "             n_jobs=-1,\n",
       "             param_grid={&#x27;clf__max_iter&#x27;: [100, 500, 1000, 1500, 2000, 2500,\n",
       "                                           3000],\n",
       "                         &#x27;smote__sampling_strategy&#x27;: [0.1, 0.2, 0.3, 0.4, 0.5,\n",
       "                                                      0.6, 0.7],\n",
       "                         &#x27;under__sampling_strategy&#x27;: [0.4, 0.5, 0.6, 0.7]},\n",
       "             scoring=&#x27;f1_macro&#x27;, verbose=2)</pre><b>In a Jupyter environment, please rerun this cell to show the HTML representation or trust the notebook. <br />On GitHub, the HTML representation is unable to render, please try loading this page with nbviewer.org.</b></div><div class=\"sk-container\" hidden><div class=\"sk-item sk-dashed-wrapped\"><div class=\"sk-label-container\"><div class=\"sk-label sk-toggleable\"><input class=\"sk-toggleable__control sk-hidden--visually\" id=\"sk-estimator-id-13\" type=\"checkbox\" ><label for=\"sk-estimator-id-13\" class=\"sk-toggleable__label sk-toggleable__label-arrow\">GridSearchCV</label><div class=\"sk-toggleable__content\"><pre>GridSearchCV(cv=5,\n",
       "             estimator=Pipeline(steps=[(&#x27;smote&#x27;,\n",
       "                                        SMOTE(random_state=42,\n",
       "                                              sampling_strategy=0.1)),\n",
       "                                       (&#x27;under&#x27;,\n",
       "                                        RandomUnderSampler(random_state=42,\n",
       "                                                           sampling_strategy=0.5)),\n",
       "                                       (&#x27;clf&#x27;,\n",
       "                                        LogisticRegression(max_iter=1000,\n",
       "                                                           random_state=42))]),\n",
       "             n_jobs=-1,\n",
       "             param_grid={&#x27;clf__max_iter&#x27;: [100, 500, 1000, 1500, 2000, 2500,\n",
       "                                           3000],\n",
       "                         &#x27;smote__sampling_strategy&#x27;: [0.1, 0.2, 0.3, 0.4, 0.5,\n",
       "                                                      0.6, 0.7],\n",
       "                         &#x27;under__sampling_strategy&#x27;: [0.4, 0.5, 0.6, 0.7]},\n",
       "             scoring=&#x27;f1_macro&#x27;, verbose=2)</pre></div></div></div><div class=\"sk-parallel\"><div class=\"sk-parallel-item\"><div class=\"sk-item\"><div class=\"sk-label-container\"><div class=\"sk-label sk-toggleable\"><input class=\"sk-toggleable__control sk-hidden--visually\" id=\"sk-estimator-id-14\" type=\"checkbox\" ><label for=\"sk-estimator-id-14\" class=\"sk-toggleable__label sk-toggleable__label-arrow\">estimator: Pipeline</label><div class=\"sk-toggleable__content\"><pre>Pipeline(steps=[(&#x27;smote&#x27;, SMOTE(random_state=42, sampling_strategy=0.1)),\n",
       "                (&#x27;under&#x27;,\n",
       "                 RandomUnderSampler(random_state=42, sampling_strategy=0.5)),\n",
       "                (&#x27;clf&#x27;, LogisticRegression(max_iter=1000, random_state=42))])</pre></div></div></div><div class=\"sk-serial\"><div class=\"sk-item\"><div class=\"sk-serial\"><div class=\"sk-item\"><div class=\"sk-estimator sk-toggleable\"><input class=\"sk-toggleable__control sk-hidden--visually\" id=\"sk-estimator-id-15\" type=\"checkbox\" ><label for=\"sk-estimator-id-15\" class=\"sk-toggleable__label sk-toggleable__label-arrow\">SMOTE</label><div class=\"sk-toggleable__content\"><pre>SMOTE(random_state=42, sampling_strategy=0.1)</pre></div></div></div><div class=\"sk-item\"><div class=\"sk-estimator sk-toggleable\"><input class=\"sk-toggleable__control sk-hidden--visually\" id=\"sk-estimator-id-16\" type=\"checkbox\" ><label for=\"sk-estimator-id-16\" class=\"sk-toggleable__label sk-toggleable__label-arrow\">RandomUnderSampler</label><div class=\"sk-toggleable__content\"><pre>RandomUnderSampler(random_state=42, sampling_strategy=0.5)</pre></div></div></div><div class=\"sk-item\"><div class=\"sk-estimator sk-toggleable\"><input class=\"sk-toggleable__control sk-hidden--visually\" id=\"sk-estimator-id-17\" type=\"checkbox\" ><label for=\"sk-estimator-id-17\" class=\"sk-toggleable__label sk-toggleable__label-arrow\">LogisticRegression</label><div class=\"sk-toggleable__content\"><pre>LogisticRegression(max_iter=1000, random_state=42)</pre></div></div></div></div></div></div></div></div></div></div></div></div>"
      ],
      "text/plain": [
       "GridSearchCV(cv=5,\n",
       "             estimator=Pipeline(steps=[('smote',\n",
       "                                        SMOTE(random_state=42,\n",
       "                                              sampling_strategy=0.1)),\n",
       "                                       ('under',\n",
       "                                        RandomUnderSampler(random_state=42,\n",
       "                                                           sampling_strategy=0.5)),\n",
       "                                       ('clf',\n",
       "                                        LogisticRegression(max_iter=1000,\n",
       "                                                           random_state=42))]),\n",
       "             n_jobs=-1,\n",
       "             param_grid={'clf__max_iter': [100, 500, 1000, 1500, 2000, 2500,\n",
       "                                           3000],\n",
       "                         'smote__sampling_strategy': [0.1, 0.2, 0.3, 0.4, 0.5,\n",
       "                                                      0.6, 0.7],\n",
       "                         'under__sampling_strategy': [0.4, 0.5, 0.6, 0.7]},\n",
       "             scoring='f1_macro', verbose=2)"
      ]
     },
     "execution_count": 323,
     "metadata": {},
     "output_type": "execute_result"
    }
   ],
   "source": [
    "# Just to be sure everything has returned to base, let's re-make the X_train and y_train, X_test, y_test variables\n",
    "X_train, X_test, y_train, y_test = train_test_split(X_model, y_model, test_size=0.2, random_state=Utility.RANDOM_STATE_CONST, shuffle=True)\n",
    "\n",
    "# Define the imbalanced pipeline with SMOTE and RandomUnderSampler again\n",
    "imbalanced_pipeline = IMBPipeline([\n",
    "    ('smote', SMOTE(sampling_strategy=0.1, random_state=Utility.RANDOM_STATE_CONST)),\n",
    "    ('under', RandomUnderSampler(sampling_strategy=0.5, random_state=Utility.RANDOM_STATE_CONST)),\n",
    "    ('clf', LogisticRegression(random_state=Utility.RANDOM_STATE_CONST, max_iter=1000))\n",
    "])\n",
    "\n",
    "# Define the parameter grid for GridSearchCV\n",
    "param_grid = {\n",
    "    'smote__sampling_strategy': [0.1, 0.2, 0.3, 0.4, 0.5, 0.6, 0.7],\n",
    "    'under__sampling_strategy': [0.4, 0.5, 0.6, 0.7],\n",
    "    'clf__max_iter': [100, 500, 1000, 1500, 2000, 2500, 3000],\n",
    "}\n",
    "\n",
    "# Create GridSearchCV\n",
    "grid_search = GridSearchCV(imbalanced_pipeline, param_grid, scoring='f1_macro', cv=5, n_jobs=-1, verbose=2)\n",
    "\n",
    "# Fit the model\n",
    "grid_search.fit(X_train, y_train)"
   ]
  },
  {
   "cell_type": "code",
   "execution_count": 53,
   "metadata": {},
   "outputs": [],
   "source": [
    "# # Comment out for regular run-through this notebook\n",
    "# # Load the saved grid_search object from disk\n",
    "\n",
    "# relativepath = Utility.MODELS_RELATIVE_PATH\n",
    "# grid_search_filename = 'grid_search_obj_logit_smote_under.pkl'\n",
    "\n",
    "# # Read saved grid_search from disk\n",
    "\n",
    "# with open(relativepath + grid_search_filename, 'rb') as f:\n",
    "#     grid_search = pickle.load(f)"
   ]
  },
  {
   "cell_type": "code",
   "execution_count": 54,
   "metadata": {},
   "outputs": [
    {
     "data": {
      "text/plain": [
       "{'clf__max_iter': 500,\n",
       " 'smote__sampling_strategy': 0.1,\n",
       " 'under__sampling_strategy': 0.4}"
      ]
     },
     "execution_count": 54,
     "metadata": {},
     "output_type": "execute_result"
    }
   ],
   "source": [
    "grid_search.best_params_"
   ]
  },
  {
   "cell_type": "code",
   "execution_count": 55,
   "metadata": {},
   "outputs": [
    {
     "data": {
      "text/plain": [
       "0.6258210349501512"
      ]
     },
     "execution_count": 55,
     "metadata": {},
     "output_type": "execute_result"
    }
   ],
   "source": [
    "grid_search.best_score_"
   ]
  },
  {
   "cell_type": "markdown",
   "metadata": {},
   "source": [
    "# Evaluate the best model above with the best model achieved (`balanced_clf`) before `sampling_strategy` and `max_iter` tuning"
   ]
  },
  {
   "cell_type": "code",
   "execution_count": 56,
   "metadata": {},
   "outputs": [],
   "source": [
    "# Using best_params_ SMOTE sampling strategy of 0.1 and RandomUnderSampler sampling_strategy of 0.4\n",
    "over = SMOTE(sampling_strategy=0.1, random_state=Utility.RANDOM_STATE_CONST)\n",
    "under = RandomUnderSampler(sampling_strategy=0.4, random_state=Utility.RANDOM_STATE_CONST)\n",
    "steps = [('smote', over), ('under', under)]\n",
    "imbpipeline_sm_under_best = IMBPipeline(steps=steps)\n",
    "X_train_balanced, y_train_balanced = imbpipeline_sm_under.fit_resample(X_train, y_train)\n",
    "\n",
    "X_train_best_balanced, y_train_best_balanced = imbpipeline_sm_under_best.fit_resample(X_train, y_train)"
   ]
  },
  {
   "cell_type": "markdown",
   "metadata": {},
   "source": [
    "Check class distributions in y_train and y_test after the SMOTE and RandomUnderSampler and train_test_split "
   ]
  },
  {
   "cell_type": "code",
   "execution_count": 57,
   "metadata": {},
   "outputs": [
    {
     "name": "stdout",
     "output_type": "stream",
     "text": [
      "y_train_counter: Counter({0: 33950, 1: 13580}), 0: 71.42857142857143, 1: 28.57142857142857\n",
      "y_test_counter: Counter({0: 33863, 1: 2523}), 0: 93.06601440114329, 1: 6.933985598856703\n"
     ]
    }
   ],
   "source": [
    "Utility.display_class_balance(y_train_best_balanced, y_test)"
   ]
  },
  {
   "cell_type": "code",
   "execution_count": 58,
   "metadata": {},
   "outputs": [],
   "source": [
    "# Get preds from grid_search.best_estimator_\n",
    "y_train_pred = grid_search.best_estimator_.predict(X_train_best_balanced)\n",
    "y_test_pred = grid_search.best_estimator_.predict(X_test)"
   ]
  },
  {
   "cell_type": "markdown",
   "metadata": {},
   "source": [
    "## Evaluate model performance: \"grid_search.best_estimator_\""
   ]
  },
  {
   "cell_type": "markdown",
   "metadata": {},
   "source": [
    "Confusion Matrix"
   ]
  },
  {
   "cell_type": "code",
   "execution_count": 59,
   "metadata": {},
   "outputs": [
    {
     "name": "stdout",
     "output_type": "stream",
     "text": [
      "\n",
      "Results on TRAINING data:\n"
     ]
    },
    {
     "data": {
      "text/html": [
       "<div>\n",
       "<style scoped>\n",
       "    .dataframe tbody tr th:only-of-type {\n",
       "        vertical-align: middle;\n",
       "    }\n",
       "\n",
       "    .dataframe tbody tr th {\n",
       "        vertical-align: top;\n",
       "    }\n",
       "\n",
       "    .dataframe thead th {\n",
       "        text-align: right;\n",
       "    }\n",
       "</style>\n",
       "<table border=\"1\" class=\"dataframe\">\n",
       "  <thead>\n",
       "    <tr style=\"text-align: right;\">\n",
       "      <th></th>\n",
       "      <th>Predicted Positive</th>\n",
       "      <th>Predicted Negative</th>\n",
       "    </tr>\n",
       "  </thead>\n",
       "  <tbody>\n",
       "    <tr>\n",
       "      <th>Actual Positive</th>\n",
       "      <td>7850</td>\n",
       "      <td>5730</td>\n",
       "    </tr>\n",
       "    <tr>\n",
       "      <th>Actual Negative</th>\n",
       "      <td>4089</td>\n",
       "      <td>29861</td>\n",
       "    </tr>\n",
       "  </tbody>\n",
       "</table>\n",
       "</div>"
      ],
      "text/plain": [
       "                 Predicted Positive  Predicted Negative\n",
       "Actual Positive                7850                5730\n",
       "Actual Negative                4089               29861"
      ]
     },
     "metadata": {},
     "output_type": "display_data"
    },
    {
     "name": "stdout",
     "output_type": "stream",
     "text": [
      "\n",
      "Results on TEST data:\n"
     ]
    },
    {
     "data": {
      "text/html": [
       "<div>\n",
       "<style scoped>\n",
       "    .dataframe tbody tr th:only-of-type {\n",
       "        vertical-align: middle;\n",
       "    }\n",
       "\n",
       "    .dataframe tbody tr th {\n",
       "        vertical-align: top;\n",
       "    }\n",
       "\n",
       "    .dataframe thead th {\n",
       "        text-align: right;\n",
       "    }\n",
       "</style>\n",
       "<table border=\"1\" class=\"dataframe\">\n",
       "  <thead>\n",
       "    <tr style=\"text-align: right;\">\n",
       "      <th></th>\n",
       "      <th>Predicted Positive</th>\n",
       "      <th>Predicted Negative</th>\n",
       "    </tr>\n",
       "  </thead>\n",
       "  <tbody>\n",
       "    <tr>\n",
       "      <th>Actual Positive</th>\n",
       "      <td>1369</td>\n",
       "      <td>1154</td>\n",
       "    </tr>\n",
       "    <tr>\n",
       "      <th>Actual Negative</th>\n",
       "      <td>4094</td>\n",
       "      <td>29769</td>\n",
       "    </tr>\n",
       "  </tbody>\n",
       "</table>\n",
       "</div>"
      ],
      "text/plain": [
       "                 Predicted Positive  Predicted Negative\n",
       "Actual Positive                1369                1154\n",
       "Actual Negative                4094               29769"
      ]
     },
     "metadata": {},
     "output_type": "display_data"
    }
   ],
   "source": [
    "# Confusion Matrix\n",
    "print(\"\\nResults on TRAINING data:\")\n",
    "gridbest_train_cm = Utility.print_confusion_matrix_with_labels(y_train_best_balanced, y_train_pred)\n",
    "\n",
    "print(\"\\nResults on TEST data:\")\n",
    "gridbest_test_cm = Utility.print_confusion_matrix_with_labels(y_test, y_test_pred)"
   ]
  },
  {
   "cell_type": "markdown",
   "metadata": {},
   "source": [
    "ROC Curve"
   ]
  },
  {
   "cell_type": "code",
   "execution_count": 60,
   "metadata": {},
   "outputs": [
    {
     "name": "stdout",
     "output_type": "stream",
     "text": [
      "\n",
      "Results on TRAINING data:\n"
     ]
    },
    {
     "data": {
      "image/png": "[encoded data removed]",
      "text/plain": [
       "<Figure size 640x480 with 1 Axes>"
      ]
     },
     "metadata": {},
     "output_type": "display_data"
    },
    {
     "name": "stdout",
     "output_type": "stream",
     "text": [
      "\n",
      "Results on TEST data:\n"
     ]
    },
    {
     "data": {
      "image/png": "[encoded data removed]",
      "text/plain": [
       "<Figure size 640x480 with 1 Axes>"
      ]
     },
     "metadata": {},
     "output_type": "display_data"
    }
   ],
   "source": [
    "# ROC Curve\n",
    "print(\"\\nResults on TRAINING data:\")\n",
    "y_train_probs_positive = grid_search.best_estimator_.predict_proba(X_train_best_balanced)[:,1]\n",
    "train_fpr, train_tpr, train_thresholds = roc_curve(y_train_best_balanced, y_train_probs_positive)\n",
    "Utility.plot_roc_curve(train_fpr, train_tpr)\n",
    "\n",
    "print(\"\\nResults on TEST data:\")\n",
    "y_test_probs_positive = grid_search.best_estimator_.predict_proba(X_test)[:,1]\n",
    "test_fpr, test_tpr, test_thresholds = roc_curve(y_test, y_test_probs_positive)\n",
    "Utility.plot_roc_curve(test_fpr, test_tpr)"
   ]
  },
  {
   "cell_type": "markdown",
   "metadata": {},
   "source": [
    "Classification Scores"
   ]
  },
  {
   "cell_type": "code",
   "execution_count": 61,
   "metadata": {},
   "outputs": [
    {
     "name": "stdout",
     "output_type": "stream",
     "text": [
      "\n",
      "Results on TRAINING data:\n"
     ]
    },
    {
     "name": "stdout",
     "output_type": "stream",
     "text": [
      "Accuracy            :      79.34%\n",
      "Precision           :       0.66\n",
      "Recall              :       0.58\n",
      "F1 score            :       0.62\n",
      "F1 (macro) score    :       0.74\n",
      "F1 (weighted) score :       0.79\n",
      "ROC-AUC             :       0.73\n",
      "\n",
      "Results on TEST data:\n",
      "Accuracy            :      85.58%\n",
      "Precision           :       0.25\n",
      "Recall              :       0.54\n",
      "F1 score            :       0.34\n",
      "F1 (macro) score    :       0.63\n",
      "F1 (weighted) score :       0.88\n",
      "ROC-AUC             :       0.71\n"
     ]
    }
   ],
   "source": [
    "# Scores\n",
    "print(\"\\nResults on TRAINING data:\")\n",
    "gridbest_train_scores = Utility.evaluate_preds(y_train_best_balanced, y_train_pred)\n",
    "\n",
    "print(\"\\nResults on TEST data:\")\n",
    "gridbest_test_scores = Utility.evaluate_preds(y_test, y_test_pred)"
   ]
  },
  {
   "cell_type": "markdown",
   "metadata": {},
   "source": [
    "# Evaluate performance of `grid_search.best_estimator_` vs. the `balanced_clf` from before"
   ]
  },
  {
   "cell_type": "code",
   "execution_count": 62,
   "metadata": {},
   "outputs": [
    {
     "data": {
      "text/html": [
       "<div>\n",
       "<style scoped>\n",
       "    .dataframe tbody tr th:only-of-type {\n",
       "        vertical-align: middle;\n",
       "    }\n",
       "\n",
       "    .dataframe tbody tr th {\n",
       "        vertical-align: top;\n",
       "    }\n",
       "\n",
       "    .dataframe thead th {\n",
       "        text-align: right;\n",
       "    }\n",
       "</style>\n",
       "<table border=\"1\" class=\"dataframe\">\n",
       "  <thead>\n",
       "    <tr style=\"text-align: right;\">\n",
       "      <th></th>\n",
       "      <th>baseline_train</th>\n",
       "      <th>baseline_test</th>\n",
       "      <th>balanced_train</th>\n",
       "      <th>balanced_test</th>\n",
       "      <th>hourint_train</th>\n",
       "      <th>hourint_test</th>\n",
       "      <th>simplify_train</th>\n",
       "      <th>simplify_test</th>\n",
       "      <th>gridbest_train</th>\n",
       "      <th>gridbest_test</th>\n",
       "    </tr>\n",
       "  </thead>\n",
       "  <tbody>\n",
       "    <tr>\n",
       "      <th>accuracy</th>\n",
       "      <td>0.93</td>\n",
       "      <td>0.93</td>\n",
       "      <td>0.78</td>\n",
       "      <td>0.83</td>\n",
       "      <td>0.78</td>\n",
       "      <td>0.83</td>\n",
       "      <td>0.73</td>\n",
       "      <td>0.82</td>\n",
       "      <td>0.79</td>\n",
       "      <td>0.86</td>\n",
       "    </tr>\n",
       "    <tr>\n",
       "      <th>precision</th>\n",
       "      <td>0.57</td>\n",
       "      <td>0.62</td>\n",
       "      <td>0.68</td>\n",
       "      <td>0.23</td>\n",
       "      <td>0.68</td>\n",
       "      <td>0.23</td>\n",
       "      <td>0.62</td>\n",
       "      <td>0.19</td>\n",
       "      <td>0.66</td>\n",
       "      <td>0.25</td>\n",
       "    </tr>\n",
       "    <tr>\n",
       "      <th>recall</th>\n",
       "      <td>0.00</td>\n",
       "      <td>0.00</td>\n",
       "      <td>0.66</td>\n",
       "      <td>0.63</td>\n",
       "      <td>0.66</td>\n",
       "      <td>0.63</td>\n",
       "      <td>0.51</td>\n",
       "      <td>0.48</td>\n",
       "      <td>0.58</td>\n",
       "      <td>0.54</td>\n",
       "    </tr>\n",
       "    <tr>\n",
       "      <th>f1</th>\n",
       "      <td>0.01</td>\n",
       "      <td>0.01</td>\n",
       "      <td>0.67</td>\n",
       "      <td>0.34</td>\n",
       "      <td>0.67</td>\n",
       "      <td>0.34</td>\n",
       "      <td>0.56</td>\n",
       "      <td>0.27</td>\n",
       "      <td>0.62</td>\n",
       "      <td>0.34</td>\n",
       "    </tr>\n",
       "    <tr>\n",
       "      <th>f1_macro</th>\n",
       "      <td>0.49</td>\n",
       "      <td>0.49</td>\n",
       "      <td>0.76</td>\n",
       "      <td>0.62</td>\n",
       "      <td>0.76</td>\n",
       "      <td>0.62</td>\n",
       "      <td>0.69</td>\n",
       "      <td>0.59</td>\n",
       "      <td>0.74</td>\n",
       "      <td>0.63</td>\n",
       "    </tr>\n",
       "    <tr>\n",
       "      <th>f1_weighted</th>\n",
       "      <td>0.90</td>\n",
       "      <td>0.90</td>\n",
       "      <td>0.78</td>\n",
       "      <td>0.86</td>\n",
       "      <td>0.78</td>\n",
       "      <td>0.86</td>\n",
       "      <td>0.73</td>\n",
       "      <td>0.86</td>\n",
       "      <td>0.79</td>\n",
       "      <td>0.88</td>\n",
       "    </tr>\n",
       "    <tr>\n",
       "      <th>roc_auc</th>\n",
       "      <td>0.50</td>\n",
       "      <td>0.50</td>\n",
       "      <td>0.75</td>\n",
       "      <td>0.74</td>\n",
       "      <td>0.75</td>\n",
       "      <td>0.74</td>\n",
       "      <td>0.68</td>\n",
       "      <td>0.66</td>\n",
       "      <td>0.73</td>\n",
       "      <td>0.71</td>\n",
       "    </tr>\n",
       "  </tbody>\n",
       "</table>\n",
       "</div>"
      ],
      "text/plain": [
       "             baseline_train  baseline_test  balanced_train  balanced_test  \\\n",
       "accuracy               0.93           0.93            0.78           0.83   \n",
       "precision              0.57           0.62            0.68           0.23   \n",
       "recall                 0.00           0.00            0.66           0.63   \n",
       "f1                     0.01           0.01            0.67           0.34   \n",
       "f1_macro               0.49           0.49            0.76           0.62   \n",
       "f1_weighted            0.90           0.90            0.78           0.86   \n",
       "roc_auc                0.50           0.50            0.75           0.74   \n",
       "\n",
       "             hourint_train  hourint_test  simplify_train  simplify_test  \\\n",
       "accuracy              0.78          0.83            0.73           0.82   \n",
       "precision             0.68          0.23            0.62           0.19   \n",
       "recall                0.66          0.63            0.51           0.48   \n",
       "f1                    0.67          0.34            0.56           0.27   \n",
       "f1_macro              0.76          0.62            0.69           0.59   \n",
       "f1_weighted           0.78          0.86            0.73           0.86   \n",
       "roc_auc               0.75          0.74            0.68           0.66   \n",
       "\n",
       "             gridbest_train  gridbest_test  \n",
       "accuracy               0.79           0.86  \n",
       "precision              0.66           0.25  \n",
       "recall                 0.58           0.54  \n",
       "f1                     0.62           0.34  \n",
       "f1_macro               0.74           0.63  \n",
       "f1_weighted            0.79           0.88  \n",
       "roc_auc                0.73           0.71  "
      ]
     },
     "execution_count": 62,
     "metadata": {},
     "output_type": "execute_result"
    }
   ],
   "source": [
    "#Recall df_compare definition from above\n",
    "# df_compare = pd.DataFrame({\n",
    "#     'baseline_train': baseline_train_scores,\n",
    "#     'baseline_test': baseline_test_scores,\n",
    "#     'balanced_train': balanced_train_scores,\n",
    "#     'balanced_test': balanced_test_scores,\n",
    "#     'hourint_train': hourint_train_scores,\n",
    "#     'hourint_test': hourint_test_scores,\n",
    "#     'simplify_train': simplify_train_scores,\n",
    "#     'simplify_test': simplify_test_scores})\n",
    "\n",
    "df_compare['gridbest_train'] = gridbest_train_scores\n",
    "df_compare['gridbest_test'] = gridbest_test_scores\n",
    "df_compare"
   ]
  },
  {
   "cell_type": "code",
   "execution_count": 63,
   "metadata": {},
   "outputs": [
    {
     "data": {
      "image/png": "[encoded data removed]",
      "text/plain": [
       "<Figure size 1000x800 with 1 Axes>"
      ]
     },
     "metadata": {},
     "output_type": "display_data"
    }
   ],
   "source": [
    "# Plot the scores\n",
    "df_compare[['balanced_train', 'balanced_test', 'gridbest_train', 'gridbest_test']].plot.bar(figsize=(10,8));"
   ]
  },
  {
   "cell_type": "markdown",
   "metadata": {},
   "source": [
    "Draw another graph comparing all scores only against the gridbest_test and balanced_test, since those are the ones that matter most (unseen data)"
   ]
  },
  {
   "cell_type": "code",
   "execution_count": 64,
   "metadata": {},
   "outputs": [
    {
     "data": {
      "image/png": "[encoded data removed]",
      "text/plain": [
       "<Figure size 1000x800 with 1 Axes>"
      ]
     },
     "metadata": {},
     "output_type": "display_data"
    }
   ],
   "source": [
    "# Plot the scores\n",
    "df_compare[['balanced_test', 'gridbest_test']].plot.bar(figsize=(10,8));"
   ]
  },
  {
   "cell_type": "markdown",
   "metadata": {},
   "source": [
    "See the actual scores compared side by side on balanced_test vs. gridbest_test"
   ]
  },
  {
   "cell_type": "code",
   "execution_count": 65,
   "metadata": {},
   "outputs": [
    {
     "data": {
      "text/html": [
       "<div>\n",
       "<style scoped>\n",
       "    .dataframe tbody tr th:only-of-type {\n",
       "        vertical-align: middle;\n",
       "    }\n",
       "\n",
       "    .dataframe tbody tr th {\n",
       "        vertical-align: top;\n",
       "    }\n",
       "\n",
       "    .dataframe thead th {\n",
       "        text-align: right;\n",
       "    }\n",
       "</style>\n",
       "<table border=\"1\" class=\"dataframe\">\n",
       "  <thead>\n",
       "    <tr style=\"text-align: right;\">\n",
       "      <th></th>\n",
       "      <th>balanced_test</th>\n",
       "      <th>gridbest_test</th>\n",
       "    </tr>\n",
       "  </thead>\n",
       "  <tbody>\n",
       "    <tr>\n",
       "      <th>accuracy</th>\n",
       "      <td>0.83</td>\n",
       "      <td>0.86</td>\n",
       "    </tr>\n",
       "    <tr>\n",
       "      <th>precision</th>\n",
       "      <td>0.23</td>\n",
       "      <td>0.25</td>\n",
       "    </tr>\n",
       "    <tr>\n",
       "      <th>recall</th>\n",
       "      <td>0.63</td>\n",
       "      <td>0.54</td>\n",
       "    </tr>\n",
       "    <tr>\n",
       "      <th>f1</th>\n",
       "      <td>0.34</td>\n",
       "      <td>0.34</td>\n",
       "    </tr>\n",
       "    <tr>\n",
       "      <th>f1_macro</th>\n",
       "      <td>0.62</td>\n",
       "      <td>0.63</td>\n",
       "    </tr>\n",
       "    <tr>\n",
       "      <th>f1_weighted</th>\n",
       "      <td>0.86</td>\n",
       "      <td>0.88</td>\n",
       "    </tr>\n",
       "    <tr>\n",
       "      <th>roc_auc</th>\n",
       "      <td>0.74</td>\n",
       "      <td>0.71</td>\n",
       "    </tr>\n",
       "  </tbody>\n",
       "</table>\n",
       "</div>"
      ],
      "text/plain": [
       "             balanced_test  gridbest_test\n",
       "accuracy              0.83           0.86\n",
       "precision             0.23           0.25\n",
       "recall                0.63           0.54\n",
       "f1                    0.34           0.34\n",
       "f1_macro              0.62           0.63\n",
       "f1_weighted           0.86           0.88\n",
       "roc_auc               0.74           0.71"
      ]
     },
     "execution_count": 65,
     "metadata": {},
     "output_type": "execute_result"
    }
   ],
   "source": [
    "df_compare[['balanced_test', 'gridbest_test']]"
   ]
  },
  {
   "cell_type": "markdown",
   "metadata": {},
   "source": [
    "Findings:  The GridSearchCV's best estimator performes slightly better on F1 Macro score (0.63 vs 0.62) (worse on roc_auc with 0.71 vs. 0.74).\n",
    "\n",
    "We will use this as the model to compare against when we go into RandomForestClassifier and XGBoostClassifier next.\n",
    "\n",
    "But, we will save both models just in case."
   ]
  },
  {
   "cell_type": "markdown",
   "metadata": {},
   "source": [
    "# Save the Models and `grid_search` object\n",
    "\n",
    "Save:\n",
    "* `balanced_clf`:  The best of the \"regular logit\" with SMOTE `sampling_strategy` = 0.1, Under `sampling_strategy` = 0.5, n_iter=1000\n",
    "* `grid_search.best_estimator_`:  The best of the \"regular_logit\" with tuned SMOTE `sampling_strategy` = 0.1, Under `sampling_strategy` = 0.4, n_iter=500\n",
    "* `grid_search`:  The grid_search object for future reference, where I can read `.best_params_`, `.cv_result_`, `.best_score_` in future if needed"
   ]
  },
  {
   "cell_type": "code",
   "execution_count": 66,
   "metadata": {},
   "outputs": [],
   "source": [
    "# Setup paths and filenames\n",
    "\n",
    "relativepath = Utility.MODELS_RELATIVE_PATH\n",
    "\n",
    "#balanced_clf_filename = 'balanced_clf.pkl'\n",
    "balanced_clf_filename = 'clf_balanced.pkl'\n",
    "\n",
    "#grid_search_filename = 'smote_under_logit_grid_search.pkl'\n",
    "grid_search_filename = 'grid_search_obj_logit_smote_under.pkl'\n",
    "\n",
    "#grid_search_best_estimator_filename = 'smote01_under04_clf_iter500_grid_search_best_estimator.pkl'\n",
    "grid_search_best_estimator_filename = 'clf_grid_search_best_estimator_smote01_under04.pkl'"
   ]
  },
  {
   "cell_type": "code",
   "execution_count": 67,
   "metadata": {},
   "outputs": [],
   "source": [
    "# Write all 3 objects to disk\n",
    "\n",
    "with open(relativepath + balanced_clf_filename, 'wb') as f:\n",
    "    pickle.dump(balanced_clf, f)\n",
    "\n",
    "with open(relativepath + grid_search_filename, 'wb') as f:\n",
    "    pickle.dump(grid_search, f)\n",
    "\n",
    "with open(relativepath + grid_search_best_estimator_filename, 'wb') as f:\n",
    "    pickle.dump(grid_search.best_estimator_, f)"
   ]
  },
  {
   "cell_type": "markdown",
   "metadata": {},
   "source": [
    "# Save the model results `df_compare` file"
   ]
  },
  {
   "cell_type": "code",
   "execution_count": 68,
   "metadata": {},
   "outputs": [],
   "source": [
    "# Setup paths and filenames\n",
    "\n",
    "relativepath_output = Utility.OUTPUT_RELATIVE_PATH\n",
    "logit_scores_filename = 'logit_compare_model_scores.csv'"
   ]
  },
  {
   "cell_type": "code",
   "execution_count": 69,
   "metadata": {},
   "outputs": [],
   "source": [
    "# Write csv to disk\n",
    "df_compare.to_csv(relativepath_output + logit_scores_filename)"
   ]
  }
 ],
 "metadata": {
  "kernelspec": {
   "display_name": "bootcamp_env",
   "language": "python",
   "name": "python3"
  },
  "language_info": {
   "codemirror_mode": {
    "name": "ipython",
    "version": 3
   },
   "file_extension": ".py",
   "mimetype": "text/x-python",
   "name": "python",
   "nbconvert_exporter": "python",
   "pygments_lexer": "ipython3",
   "version": "3.11.5"
  }
 },
 "nbformat": 4,
 "nbformat_minor": 2
}
